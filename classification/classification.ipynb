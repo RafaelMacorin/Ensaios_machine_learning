{
 "cells": [
  {
   "cell_type": "markdown",
   "id": "8fd81684",
   "metadata": {},
   "source": [
    "# Machine Learning Experiments"
   ]
  },
  {
   "cell_type": "markdown",
   "id": "26681aa2",
   "metadata": {},
   "source": [
    "## KNN Classifier"
   ]
  },
  {
   "cell_type": "markdown",
   "id": "7525ba12",
   "metadata": {},
   "source": [
    "### Import libraries"
   ]
  },
  {
   "cell_type": "code",
   "execution_count": 1,
   "id": "bccda0bb",
   "metadata": {},
   "outputs": [],
   "source": [
    "import pandas as pd\n",
    "from sklearn import metrics as mt\n",
    "from sklearn.neighbors import KNeighborsClassifier \n",
    "from sklearn import tree as tr\n",
    "from sklearn.ensemble import RandomForestClassifier\n",
    "from sklearn.linear_model import LogisticRegression\n",
    "from matplotlib import pyplot as plt\n",
    "import numpy as np\n",
    "import warnings\n",
    "from sklearn.exceptions import DataConversionWarning\n",
    "\n",
    "# Ignorando avisos de conversão de dados\n",
    "warnings.filterwarnings(action='ignore', category=DataConversionWarning)"
   ]
  },
  {
   "cell_type": "markdown",
   "id": "e7af4984",
   "metadata": {},
   "source": [
    "### Load datasets"
   ]
  },
  {
   "cell_type": "code",
   "execution_count": 2,
   "id": "b391835d",
   "metadata": {},
   "outputs": [],
   "source": [
    "X_train = pd.read_csv('./X_training.csv')\n",
    "X_test = pd.read_csv('./X_test.csv')\n",
    "X_val = pd.read_csv('./X_validation.csv')\n",
    "y_train = pd.read_csv('./y_training.csv')\n",
    "y_test = pd.read_csv('./y_test.csv')\n",
    "y_val = pd.read_csv('./y_validation.csv')"
   ]
  },
  {
   "cell_type": "code",
   "execution_count": 3,
   "id": "7e4d6af5",
   "metadata": {},
   "outputs": [
    {
     "data": {
      "text/html": [
       "<div>\n",
       "<style scoped>\n",
       "    .dataframe tbody tr th:only-of-type {\n",
       "        vertical-align: middle;\n",
       "    }\n",
       "\n",
       "    .dataframe tbody tr th {\n",
       "        vertical-align: top;\n",
       "    }\n",
       "\n",
       "    .dataframe thead th {\n",
       "        text-align: right;\n",
       "    }\n",
       "</style>\n",
       "<table border=\"1\" class=\"dataframe\">\n",
       "  <thead>\n",
       "    <tr style=\"text-align: right;\">\n",
       "      <th></th>\n",
       "      <th>id</th>\n",
       "      <th>customer_type</th>\n",
       "      <th>age</th>\n",
       "      <th>class</th>\n",
       "      <th>flight_distance</th>\n",
       "      <th>inflight_wifi_service</th>\n",
       "      <th>departure_arrival_time_convenient</th>\n",
       "      <th>ease_of_online_booking</th>\n",
       "      <th>gate_location</th>\n",
       "      <th>food_and_drink</th>\n",
       "      <th>...</th>\n",
       "      <th>baggage_handling</th>\n",
       "      <th>checkin_service</th>\n",
       "      <th>inflight_service</th>\n",
       "      <th>cleanliness</th>\n",
       "      <th>departure_delay_in_minutes</th>\n",
       "      <th>arrival_delay_in_minutes</th>\n",
       "      <th>gender_Female</th>\n",
       "      <th>gender_Male</th>\n",
       "      <th>type_of_travel_business_travel</th>\n",
       "      <th>type_of_travel_personal_travel</th>\n",
       "    </tr>\n",
       "  </thead>\n",
       "  <tbody>\n",
       "    <tr>\n",
       "      <th>0</th>\n",
       "      <td>13508</td>\n",
       "      <td>1</td>\n",
       "      <td>0.500000</td>\n",
       "      <td>0.0</td>\n",
       "      <td>0.039580</td>\n",
       "      <td>0.6</td>\n",
       "      <td>0.6</td>\n",
       "      <td>0.6</td>\n",
       "      <td>0.6</td>\n",
       "      <td>1.0</td>\n",
       "      <td>...</td>\n",
       "      <td>0.5</td>\n",
       "      <td>1.0</td>\n",
       "      <td>0.6</td>\n",
       "      <td>0.4</td>\n",
       "      <td>0.0</td>\n",
       "      <td>0.013848</td>\n",
       "      <td>1.0</td>\n",
       "      <td>0.0</td>\n",
       "      <td>1.0</td>\n",
       "      <td>0.0</td>\n",
       "    </tr>\n",
       "    <tr>\n",
       "      <th>1</th>\n",
       "      <td>28874</td>\n",
       "      <td>1</td>\n",
       "      <td>0.243590</td>\n",
       "      <td>0.0</td>\n",
       "      <td>0.205775</td>\n",
       "      <td>0.6</td>\n",
       "      <td>0.4</td>\n",
       "      <td>0.4</td>\n",
       "      <td>0.4</td>\n",
       "      <td>0.6</td>\n",
       "      <td>...</td>\n",
       "      <td>0.5</td>\n",
       "      <td>0.5</td>\n",
       "      <td>0.2</td>\n",
       "      <td>0.6</td>\n",
       "      <td>0.0</td>\n",
       "      <td>0.000000</td>\n",
       "      <td>0.0</td>\n",
       "      <td>1.0</td>\n",
       "      <td>1.0</td>\n",
       "      <td>0.0</td>\n",
       "    </tr>\n",
       "    <tr>\n",
       "      <th>2</th>\n",
       "      <td>21484</td>\n",
       "      <td>0</td>\n",
       "      <td>0.435897</td>\n",
       "      <td>1.0</td>\n",
       "      <td>0.026858</td>\n",
       "      <td>0.6</td>\n",
       "      <td>0.6</td>\n",
       "      <td>0.6</td>\n",
       "      <td>0.2</td>\n",
       "      <td>1.0</td>\n",
       "      <td>...</td>\n",
       "      <td>0.0</td>\n",
       "      <td>1.0</td>\n",
       "      <td>0.6</td>\n",
       "      <td>1.0</td>\n",
       "      <td>0.0</td>\n",
       "      <td>0.000000</td>\n",
       "      <td>1.0</td>\n",
       "      <td>0.0</td>\n",
       "      <td>1.0</td>\n",
       "      <td>0.0</td>\n",
       "    </tr>\n",
       "  </tbody>\n",
       "</table>\n",
       "<p>3 rows × 25 columns</p>\n",
       "</div>"
      ],
      "text/plain": [
       "      id  customer_type       age  class  flight_distance  \\\n",
       "0  13508              1  0.500000    0.0         0.039580   \n",
       "1  28874              1  0.243590    0.0         0.205775   \n",
       "2  21484              0  0.435897    1.0         0.026858   \n",
       "\n",
       "   inflight_wifi_service  departure_arrival_time_convenient  \\\n",
       "0                    0.6                                0.6   \n",
       "1                    0.6                                0.4   \n",
       "2                    0.6                                0.6   \n",
       "\n",
       "   ease_of_online_booking  gate_location  food_and_drink  ...  \\\n",
       "0                     0.6            0.6             1.0  ...   \n",
       "1                     0.4            0.4             0.6  ...   \n",
       "2                     0.6            0.2             1.0  ...   \n",
       "\n",
       "   baggage_handling  checkin_service  inflight_service  cleanliness  \\\n",
       "0               0.5              1.0               0.6          0.4   \n",
       "1               0.5              0.5               0.2          0.6   \n",
       "2               0.0              1.0               0.6          1.0   \n",
       "\n",
       "   departure_delay_in_minutes  arrival_delay_in_minutes  gender_Female  \\\n",
       "0                         0.0                  0.013848            1.0   \n",
       "1                         0.0                  0.000000            0.0   \n",
       "2                         0.0                  0.000000            1.0   \n",
       "\n",
       "   gender_Male  type_of_travel_business_travel  type_of_travel_personal_travel  \n",
       "0          0.0                             1.0                             0.0  \n",
       "1          1.0                             1.0                             0.0  \n",
       "2          0.0                             1.0                             0.0  \n",
       "\n",
       "[3 rows x 25 columns]"
      ]
     },
     "execution_count": 3,
     "metadata": {},
     "output_type": "execute_result"
    }
   ],
   "source": [
    "X_train.head(3)"
   ]
  },
  {
   "cell_type": "markdown",
   "id": "ffe49dc4",
   "metadata": {},
   "source": [
    "### Pre-processing"
   ]
  },
  {
   "cell_type": "code",
   "execution_count": 4,
   "id": "78e7b505",
   "metadata": {
    "scrolled": true
   },
   "outputs": [
    {
     "name": "stdout",
     "output_type": "stream",
     "text": [
      "<class 'pandas.core.frame.DataFrame'>\n",
      "RangeIndex: 72515 entries, 0 to 72514\n",
      "Data columns (total 25 columns):\n",
      " #   Column                             Non-Null Count  Dtype  \n",
      "---  ------                             --------------  -----  \n",
      " 0   id                                 72515 non-null  int64  \n",
      " 1   customer_type                      72515 non-null  int64  \n",
      " 2   age                                72515 non-null  float64\n",
      " 3   class                              72515 non-null  float64\n",
      " 4   flight_distance                    72515 non-null  float64\n",
      " 5   inflight_wifi_service              72515 non-null  float64\n",
      " 6   departure_arrival_time_convenient  72515 non-null  float64\n",
      " 7   ease_of_online_booking             72515 non-null  float64\n",
      " 8   gate_location                      72515 non-null  float64\n",
      " 9   food_and_drink                     72515 non-null  float64\n",
      " 10  online_boarding                    72515 non-null  float64\n",
      " 11  seat_comfort                       72515 non-null  float64\n",
      " 12  inflight_entertainment             72515 non-null  float64\n",
      " 13  on_board_service                   72515 non-null  float64\n",
      " 14  leg_room_service                   72515 non-null  float64\n",
      " 15  baggage_handling                   72515 non-null  float64\n",
      " 16  checkin_service                    72515 non-null  float64\n",
      " 17  inflight_service                   72515 non-null  float64\n",
      " 18  cleanliness                        72515 non-null  float64\n",
      " 19  departure_delay_in_minutes         72515 non-null  float64\n",
      " 20  arrival_delay_in_minutes           72515 non-null  float64\n",
      " 21  gender_Female                      72515 non-null  float64\n",
      " 22  gender_Male                        72515 non-null  float64\n",
      " 23  type_of_travel_business_travel     72515 non-null  float64\n",
      " 24  type_of_travel_personal_travel     72515 non-null  float64\n",
      "dtypes: float64(23), int64(2)\n",
      "memory usage: 13.8 MB\n"
     ]
    }
   ],
   "source": [
    "# Observing data information\n",
    "X_train.info()"
   ]
  },
  {
   "cell_type": "code",
   "execution_count": 5,
   "id": "af38a128",
   "metadata": {},
   "outputs": [],
   "source": [
    "# Remove the ID column from the datasets as it is not a categorical column\n",
    "\n",
    "X_train = X_train.drop(['id'] , axis =1)\n",
    "X_test = X_test.drop(['id'] , axis =1)\n",
    "X_val = X_val.drop(['id'] , axis =1)"
   ]
  },
  {
   "cell_type": "markdown",
   "id": "475a1898",
   "metadata": {},
   "source": [
    "### Training dataset"
   ]
  },
  {
   "cell_type": "code",
   "execution_count": 6,
   "id": "15fcb7ec",
   "metadata": {},
   "outputs": [
    {
     "name": "stderr",
     "output_type": "stream",
     "text": [
      "C:\\Users\\rafae\\anaconda3\\lib\\site-packages\\joblib\\externals\\loky\\backend\\context.py:136: UserWarning: Could not find the number of physical cores for the following reason:\n",
      "found 0 physical cores < 1\n",
      "Returning the number of logical cores instead. You can silence this warning by setting LOKY_MAX_CPU_COUNT to the number of cores you want to use.\n",
      "  warnings.warn(\n",
      "  File \"C:\\Users\\rafae\\anaconda3\\lib\\site-packages\\joblib\\externals\\loky\\backend\\context.py\", line 282, in _count_physical_cores\n",
      "    raise ValueError(f\"found {cpu_count_physical} physical cores < 1\")\n"
     ]
    },
    {
     "name": "stdout",
     "output_type": "stream",
     "text": [
      "k=3 | Accuracy: 0.957, Precision: 0.973, Recall: 0.926, F1-Score: 0.949\n",
      "k=5 | Accuracy: 0.948, Precision: 0.97, Recall: 0.907, F1-Score: 0.937\n",
      "k=7 | Accuracy: 0.943, Precision: 0.969, Recall: 0.898, F1-Score: 0.932\n",
      "k=9 | Accuracy: 0.94, Precision: 0.968, Recall: 0.89, F1-Score: 0.927\n",
      "k=11 | Accuracy: 0.937, Precision: 0.966, Recall: 0.886, F1-Score: 0.924\n",
      "k=13 | Accuracy: 0.935, Precision: 0.965, Recall: 0.882, F1-Score: 0.921\n",
      "k=15 | Accuracy: 0.934, Precision: 0.965, Recall: 0.88, F1-Score: 0.92\n",
      "k=17 | Accuracy: 0.933, Precision: 0.963, Recall: 0.878, F1-Score: 0.919\n",
      "k=19 | Accuracy: 0.932, Precision: 0.962, Recall: 0.877, F1-Score: 0.917\n"
     ]
    }
   ],
   "source": [
    "# Define the lists of values\n",
    "k_values = np.arange(3, 21, 2)\n",
    "\n",
    "# Lists to store the results\n",
    "results_knn = []\n",
    "\n",
    "for k in k_values:\n",
    "    \n",
    "    # Instantiate the KNN Classifier with the current n_neighbors values\n",
    "    knn_classifier = KNeighborsClassifier(n_neighbors=k)\n",
    "    \n",
    "    # Train the model with the training data\n",
    "    knn_classifier.fit(X_train, y_train)\n",
    "    \n",
    "    # Make predictions on the training data\n",
    "    y_train_pred_knn = knn_classifier.predict(X_train)\n",
    "    \n",
    "    # Calculate the evaluation metrics and round to 3 decimal places\n",
    "    train_accuracy_knn = round(mt.accuracy_score(y_train, y_train_pred_knn), 3)\n",
    "    train_precision_knn = round(mt.precision_score(y_train, y_train_pred_knn), 3)\n",
    "    train_recall_knn = round(mt.recall_score(y_train, y_train_pred_knn), 3)\n",
    "    train_f1_knn = round(mt.f1_score(y_train, y_train_pred_knn), 3)\n",
    "    \n",
    "    # Store the results in a list\n",
    "    results_knn.append({\n",
    "        'k': k,\n",
    "        'Accuracy': train_accuracy_knn,\n",
    "        'Precision': train_precision_knn,\n",
    "        'Recall': train_recall_knn,\n",
    "        'F1-Score': train_f1_knn\n",
    "    })\n",
    "\n",
    "# Display the results \n",
    "for result in results_knn:\n",
    "    print(f\"k={result['k']} \"\n",
    "          f\"| Accuracy: {result['Accuracy']}, Precision: {result['Precision']}, \"\n",
    "          f\"Recall: {result['Recall']}, F1-Score: {result['F1-Score']}\")"
   ]
  },
  {
   "cell_type": "code",
   "execution_count": 7,
   "id": "b52ba30f",
   "metadata": {},
   "outputs": [
    {
     "name": "stdout",
     "output_type": "stream",
     "text": [
      "Best k=3 | Accuracy: 0.957, Precision: 0.973, Recall: 0.926, F1-Score: 0.949\n"
     ]
    }
   ],
   "source": [
    "# Find the result with the best metrics\n",
    "best_result_knn = max(results_knn, key=lambda x: (x['Accuracy'], x['Precision'], x['Recall'], x['F1-Score']))\n",
    "\n",
    "# Store the best k and the corresponding metrics in variables\n",
    "best_train_k_knn = best_result_knn['k']\n",
    "best_train_accuracy_knn = best_result_knn['Accuracy']\n",
    "best_train_precision_knn = best_result_knn['Precision']\n",
    "best_train_recall_knn = best_result_knn['Recall']\n",
    "best_train_f1_knn = best_result_knn['F1-Score']\n",
    "\n",
    "# Display the best k value and the corresponding metrics\n",
    "print(f\"Best k={best_train_k_knn} \"\n",
    "      f\"| Accuracy: {best_train_accuracy_knn}, Precision: {best_train_precision_knn}, \"\n",
    "      f\"Recall: {best_train_recall_knn}, F1-Score: {best_train_f1_knn}\")"
   ]
  },
  {
   "cell_type": "markdown",
   "id": "35dba0dd",
   "metadata": {},
   "source": [
    "### Validation dataset"
   ]
  },
  {
   "cell_type": "code",
   "execution_count": 8,
   "id": "dfd05470",
   "metadata": {},
   "outputs": [
    {
     "name": "stdout",
     "output_type": "stream",
     "text": [
      "Accuracy: 0.924, Precision: 0.943, Recall: 0.877, F1-Score: 0.909\n"
     ]
    }
   ],
   "source": [
    "# Retrain the model with the best k on the training data\n",
    "knn_classifier = KNeighborsClassifier(n_neighbors=best_train_k_knn)\n",
    "\n",
    "knn_classifier.fit(X_train, y_train)\n",
    "\n",
    "# Make predictions on the validation data\n",
    "y_val_pred_knn = knn_classifier.predict(X_val)\n",
    "\n",
    "# Calculate the evaluation metrics and round to 3 decimal places\n",
    "val_accuracy_knn = round(mt.accuracy_score(y_val, y_val_pred_knn), 3)\n",
    "val_precision_knn = round(mt.precision_score(y_val, y_val_pred_knn), 3)\n",
    "val_recall_knn = round(mt.recall_score(y_val, y_val_pred_knn), 3)\n",
    "val_f1_knn = round(mt.f1_score(y_val, y_val_pred_knn), 3)\n",
    "\n",
    "# Display the results\n",
    "print(f\"Accuracy: {val_accuracy_knn}, Precision: {val_precision_knn}, \"\n",
    "      f\"Recall: {val_recall_knn}, F1-Score: {val_f1_knn}\")"
   ]
  },
  {
   "cell_type": "markdown",
   "id": "29293fbf",
   "metadata": {},
   "source": [
    "### Test dataset"
   ]
  },
  {
   "cell_type": "code",
   "execution_count": 9,
   "id": "b81c61a8",
   "metadata": {},
   "outputs": [
    {
     "name": "stdout",
     "output_type": "stream",
     "text": [
      "Accuracy: 0.928, Precision: 0.945, Recall: 0.887, F1-Score: 0.915\n"
     ]
    }
   ],
   "source": [
    "# Retrain the model with the best k on the training and validation data\n",
    "knn_classifier = KNeighborsClassifier(n_neighbors=best_train_k_knn)\n",
    "\n",
    "X_train_val = pd.concat([X_train, X_val])\n",
    "y_train_val = pd.concat([y_train, y_val])\n",
    "\n",
    "knn_classifier.fit(X_train_val, y_train_val)\n",
    "\n",
    "# Make predictions on the test data\n",
    "y_test_pred_knn = knn_classifier.predict(X_test)\n",
    "\n",
    "# Calculate the evaluation metrics and round to 3 decimal places\n",
    "test_accuracy_knn = round(mt.accuracy_score(y_test, y_test_pred_knn), 3)\n",
    "test_precision_knn = round(mt.precision_score(y_test, y_test_pred_knn), 3)\n",
    "test_recall_knn = round(mt.recall_score(y_test, y_test_pred_knn), 3)\n",
    "test_f1_knn = round(mt.f1_score(y_test, y_test_pred_knn), 3)\n",
    "\n",
    "# Display the results\n",
    "print(f\"Accuracy: {test_accuracy_knn}, Precision: {test_precision_knn}, \"\n",
    "      f\"Recall: {test_recall_knn}, F1-Score: {test_f1_knn}\")"
   ]
  },
  {
   "cell_type": "markdown",
   "id": "3235359b",
   "metadata": {},
   "source": [
    "## Decision Tree"
   ]
  },
  {
   "cell_type": "markdown",
   "id": "0c75e998",
   "metadata": {},
   "source": [
    "### Training Dataset"
   ]
  },
  {
   "cell_type": "code",
   "execution_count": 10,
   "id": "c617addd",
   "metadata": {},
   "outputs": [
    {
     "name": "stdout",
     "output_type": "stream",
     "text": [
      "Max depth=1 | Accuracy: 0.788, Precision: 0.724, Recall: 0.828, F1-Score: 0.772\n",
      "Max depth=2 | Accuracy: 0.857, Precision: 0.83, Recall: 0.843, F1-Score: 0.836\n",
      "Max depth=3 | Accuracy: 0.884, Precision: 0.84, Recall: 0.906, F1-Score: 0.871\n",
      "Max depth=4 | Accuracy: 0.893, Precision: 0.923, Recall: 0.822, F1-Score: 0.87\n",
      "Max depth=5 | Accuracy: 0.907, Precision: 0.908, Recall: 0.874, F1-Score: 0.89\n",
      "Max depth=6 | Accuracy: 0.922, Precision: 0.895, Recall: 0.93, F1-Score: 0.912\n",
      "Max depth=7 | Accuracy: 0.932, Precision: 0.944, Recall: 0.897, F1-Score: 0.92\n",
      "Max depth=8 | Accuracy: 0.939, Precision: 0.937, Recall: 0.922, F1-Score: 0.929\n",
      "Max depth=9 | Accuracy: 0.946, Precision: 0.959, Recall: 0.914, F1-Score: 0.936\n",
      "Max depth=10 | Accuracy: 0.952, Precision: 0.961, Recall: 0.928, F1-Score: 0.944\n",
      "Max depth=11 | Accuracy: 0.959, Precision: 0.964, Recall: 0.94, F1-Score: 0.952\n",
      "Max depth=12 | Accuracy: 0.965, Precision: 0.977, Recall: 0.941, F1-Score: 0.958\n",
      "Max depth=13 | Accuracy: 0.97, Precision: 0.981, Recall: 0.949, F1-Score: 0.965\n",
      "Max depth=14 | Accuracy: 0.974, Precision: 0.982, Recall: 0.957, F1-Score: 0.969\n",
      "Max depth=15 | Accuracy: 0.977, Precision: 0.99, Recall: 0.958, F1-Score: 0.973\n",
      "Max depth=16 | Accuracy: 0.981, Precision: 0.989, Recall: 0.966, F1-Score: 0.978\n",
      "Max depth=17 | Accuracy: 0.985, Precision: 0.992, Recall: 0.973, F1-Score: 0.982\n",
      "Max depth=18 | Accuracy: 0.988, Precision: 0.994, Recall: 0.978, F1-Score: 0.986\n",
      "Max depth=19 | Accuracy: 0.991, Precision: 0.995, Recall: 0.983, F1-Score: 0.989\n",
      "Max depth=20 | Accuracy: 0.993, Precision: 0.995, Recall: 0.988, F1-Score: 0.991\n",
      "Max depth=21 | Accuracy: 0.994, Precision: 0.996, Recall: 0.991, F1-Score: 0.994\n",
      "Max depth=22 | Accuracy: 0.996, Precision: 0.998, Recall: 0.994, F1-Score: 0.996\n",
      "Max depth=23 | Accuracy: 0.997, Precision: 0.998, Recall: 0.996, F1-Score: 0.997\n",
      "Max depth=24 | Accuracy: 0.998, Precision: 0.999, Recall: 0.997, F1-Score: 0.998\n",
      "Max depth=25 | Accuracy: 0.999, Precision: 0.999, Recall: 0.998, F1-Score: 0.999\n",
      "Max depth=26 | Accuracy: 0.999, Precision: 1.0, Recall: 0.999, F1-Score: 0.999\n",
      "Max depth=27 | Accuracy: 1.0, Precision: 1.0, Recall: 0.999, F1-Score: 0.999\n",
      "Max depth=28 | Accuracy: 1.0, Precision: 1.0, Recall: 0.999, F1-Score: 1.0\n",
      "Max depth=29 | Accuracy: 1.0, Precision: 1.0, Recall: 0.999, F1-Score: 1.0\n",
      "Max depth=30 | Accuracy: 1.0, Precision: 1.0, Recall: 1.0, F1-Score: 1.0\n",
      "Max depth=31 | Accuracy: 1.0, Precision: 1.0, Recall: 1.0, F1-Score: 1.0\n",
      "Max depth=32 | Accuracy: 1.0, Precision: 1.0, Recall: 1.0, F1-Score: 1.0\n",
      "Max depth=33 | Accuracy: 1.0, Precision: 1.0, Recall: 1.0, F1-Score: 1.0\n",
      "Max depth=34 | Accuracy: 1.0, Precision: 1.0, Recall: 1.0, F1-Score: 1.0\n",
      "Max depth=35 | Accuracy: 1.0, Precision: 1.0, Recall: 1.0, F1-Score: 1.0\n",
      "Max depth=36 | Accuracy: 1.0, Precision: 1.0, Recall: 1.0, F1-Score: 1.0\n",
      "Max depth=37 | Accuracy: 1.0, Precision: 1.0, Recall: 1.0, F1-Score: 1.0\n",
      "Max depth=38 | Accuracy: 1.0, Precision: 1.0, Recall: 1.0, F1-Score: 1.0\n",
      "Max depth=39 | Accuracy: 1.0, Precision: 1.0, Recall: 1.0, F1-Score: 1.0\n",
      "Max depth=40 | Accuracy: 1.0, Precision: 1.0, Recall: 1.0, F1-Score: 1.0\n",
      "Max depth=41 | Accuracy: 1.0, Precision: 1.0, Recall: 1.0, F1-Score: 1.0\n",
      "Max depth=42 | Accuracy: 1.0, Precision: 1.0, Recall: 1.0, F1-Score: 1.0\n",
      "Max depth=43 | Accuracy: 1.0, Precision: 1.0, Recall: 1.0, F1-Score: 1.0\n",
      "Max depth=44 | Accuracy: 1.0, Precision: 1.0, Recall: 1.0, F1-Score: 1.0\n",
      "Max depth=45 | Accuracy: 1.0, Precision: 1.0, Recall: 1.0, F1-Score: 1.0\n",
      "Max depth=46 | Accuracy: 1.0, Precision: 1.0, Recall: 1.0, F1-Score: 1.0\n",
      "Max depth=47 | Accuracy: 1.0, Precision: 1.0, Recall: 1.0, F1-Score: 1.0\n",
      "Max depth=48 | Accuracy: 1.0, Precision: 1.0, Recall: 1.0, F1-Score: 1.0\n",
      "Max depth=49 | Accuracy: 1.0, Precision: 1.0, Recall: 1.0, F1-Score: 1.0\n"
     ]
    }
   ],
   "source": [
    "# Define the list of values\n",
    "depth_values = np.arange(1, 50, 1)\n",
    "\n",
    "# Lists to store the results\n",
    "results_tree = []\n",
    "\n",
    "for depth in depth_values:\n",
    "    \n",
    "    # Instantiate the Decision Tree with the current max_depth values\n",
    "    tree = tr.DecisionTreeClassifier(max_depth=depth)\n",
    "    \n",
    "    # Train the model on the training data\n",
    "    tree.fit(X_train, y_train)\n",
    "    \n",
    "    # Make predictions on the training data\n",
    "    y_train_pred_tree = tree.predict(X_train)\n",
    "    \n",
    "    # Calculate the evaluation metrics and round to 3 decimal places\n",
    "    train_accuracy_tree = round(mt.accuracy_score(y_train, y_train_pred_tree), 3)\n",
    "    train_precision_tree = round(mt.precision_score(y_train, y_train_pred_tree), 3)\n",
    "    train_recall_tree = round(mt.recall_score(y_train, y_train_pred_tree), 3)\n",
    "    train_f1_tree = round(mt.f1_score(y_train, y_train_pred_tree), 3)\n",
    "    \n",
    "    # Store the results in a list\n",
    "    results_tree.append({\n",
    "        'Max depth': depth,\n",
    "        'Accuracy': train_accuracy_tree,\n",
    "        'Precision': train_precision_tree,\n",
    "        'Recall': train_recall_tree,\n",
    "        'F1-Score': train_f1_tree\n",
    "    })\n",
    "\n",
    "# Display the results \n",
    "for result in results_tree:\n",
    "    print(f\"Max depth={result['Max depth']} \"\n",
    "          f\"| Accuracy: {result['Accuracy']}, Precision: {result['Precision']}, \"\n",
    "          f\"Recall: {result['Recall']}, F1-Score: {result['F1-Score']}\")"
   ]
  },
  {
   "cell_type": "code",
   "execution_count": 11,
   "id": "ca2d8576",
   "metadata": {},
   "outputs": [
    {
     "data": {
      "image/png": "[encoded data removed]",
      "text/plain": [
       "<Figure size 1200x600 with 1 Axes>"
      ]
     },
     "metadata": {},
     "output_type": "display_data"
    }
   ],
   "source": [
    "# Create a DataFrame from the results\n",
    "results_df = pd.DataFrame(results_tree)\n",
    "\n",
    "# Plot accuracy as a function of max_depth\n",
    "plt.figure(figsize=(12, 6))\n",
    "plt.plot(results_df['Max depth'], results_df['Accuracy'], marker='o', label='Accuracy')\n",
    "\n",
    "# Add title and labels\n",
    "plt.title('Accuracy vs. Max Depth')\n",
    "plt.xlabel('Max Depth')\n",
    "plt.ylabel('Accuracy')\n",
    "plt.xticks(np.arange(0, 51, 5))\n",
    "plt.grid()\n",
    "plt.legend()\n",
    "plt.show()"
   ]
  },
  {
   "cell_type": "code",
   "execution_count": 12,
   "id": "97ed45cc",
   "metadata": {},
   "outputs": [
    {
     "name": "stdout",
     "output_type": "stream",
     "text": [
      "Best Max depth=30 | Accuracy: 1.0, Precision: 1.0, Recall: 1.0, F1-Score: 1.0\n"
     ]
    }
   ],
   "source": [
    "# Find the result with the best metrics\n",
    "best_result_tree = max(results_tree, key=lambda x: (x['Accuracy'], x['Precision'], x['Recall'], x['F1-Score']))\n",
    "\n",
    "# Store the best max_depth and corresponding metrics in variables\n",
    "best_train_depth_tree = best_result_tree['Max depth']\n",
    "best_train_accuracy_tree = best_result_tree['Accuracy']\n",
    "best_train_precision_tree = best_result_tree['Precision']\n",
    "best_train_recall_tree = best_result_tree['Recall']\n",
    "best_train_f1_tree = best_result_tree['F1-Score']\n",
    "\n",
    "# Display the best max_depth value and corresponding metrics\n",
    "print(f\"Best Max depth={best_train_depth_tree} \"\n",
    "      f\"| Accuracy: {best_train_accuracy_tree}, Precision: {best_train_precision_tree}, \"\n",
    "      f\"Recall: {best_train_recall_tree}, F1-Score: {best_train_f1_tree}\")"
   ]
  },
  {
   "cell_type": "markdown",
   "id": "9b119254",
   "metadata": {},
   "source": [
    "### Validation dataset"
   ]
  },
  {
   "cell_type": "code",
   "execution_count": 13,
   "id": "4a054a94",
   "metadata": {},
   "outputs": [
    {
     "name": "stdout",
     "output_type": "stream",
     "text": [
      "Accuracy: 0.943, Precision: 0.931, Recall: 0.939, F1-Score: 0.935\n"
     ]
    }
   ],
   "source": [
    "# Retrain the model with the best max_depth for the training data\n",
    "tree = tr.DecisionTreeClassifier(max_depth=best_train_depth_tree)\n",
    "\n",
    "tree.fit(X_train, y_train)\n",
    "\n",
    "# Make predictions on the validation data\n",
    "y_val_pred_tree = tree.predict(X_val)\n",
    "\n",
    "# Calculate evaluation metrics and round to 3 decimal places\n",
    "val_accuracy_tree = round(mt.accuracy_score(y_val, y_val_pred_tree), 3)\n",
    "val_precision_tree = round(mt.precision_score(y_val, y_val_pred_tree), 3)\n",
    "val_recall_tree = round(mt.recall_score(y_val, y_val_pred_tree), 3)\n",
    "val_f1_tree = round(mt.f1_score(y_val, y_val_pred_tree), 3)\n",
    "\n",
    "# Display the results\n",
    "print(f\"Accuracy: {val_accuracy_tree}, Precision: {val_precision_tree}, \"\n",
    "      f\"Recall: {val_recall_tree}, F1-Score: {val_f1_tree}\")"
   ]
  },
  {
   "cell_type": "markdown",
   "id": "95d4a048",
   "metadata": {},
   "source": [
    "### Test dataset"
   ]
  },
  {
   "cell_type": "code",
   "execution_count": 14,
   "id": "27adc42e",
   "metadata": {},
   "outputs": [
    {
     "name": "stdout",
     "output_type": "stream",
     "text": [
      "Accuracy: 0.947, Precision: 0.938, Recall: 0.942, F1-Score: 0.94\n"
     ]
    }
   ],
   "source": [
    "# Retrain the model with the best max_depth for the training and validation data\n",
    "tree = tr.DecisionTreeClassifier(max_depth=best_train_depth_tree)\n",
    "\n",
    "X_train_val = pd.concat([X_train, X_val])\n",
    "y_train_val = pd.concat([y_train, y_val])\n",
    "    \n",
    "tree.fit(X_train_val, y_train_val)\n",
    "\n",
    "# Make predictions on the test data\n",
    "y_test_pred_tree = tree.predict(X_test)\n",
    "\n",
    "# Calculate evaluation metrics and round to 3 decimal places\n",
    "test_accuracy_tree = round(mt.accuracy_score(y_test, y_test_pred_tree), 3)\n",
    "test_precision_tree = round(mt.precision_score(y_test, y_test_pred_tree), 3)\n",
    "test_recall_tree = round(mt.recall_score(y_test, y_test_pred_tree), 3)\n",
    "test_f1_tree = round(mt.f1_score(y_test, y_test_pred_tree), 3)\n",
    "\n",
    "# Display the results\n",
    "print(f\"Accuracy: {test_accuracy_tree}, Precision: {test_precision_tree}, \"\n",
    "      f\"Recall: {test_recall_tree}, F1-Score: {test_f1_tree}\")"
   ]
  },
  {
   "cell_type": "markdown",
   "id": "54736a33",
   "metadata": {},
   "source": [
    "## Random Forest"
   ]
  },
  {
   "cell_type": "markdown",
   "id": "a9aca95d",
   "metadata": {},
   "source": [
    "### Training dataset"
   ]
  },
  {
   "cell_type": "code",
   "execution_count": 15,
   "id": "e1c8cd07",
   "metadata": {},
   "outputs": [
    {
     "name": "stdout",
     "output_type": "stream",
     "text": [
      "n_estimators=50, max_depth=1 | Accuracy: 0.855, Precision: 0.903, Recall: 0.747, F1-Score: 0.817\n",
      "n_estimators=50, max_depth=2 | Accuracy: 0.875, Precision: 0.895, Recall: 0.806, F1-Score: 0.848\n",
      "n_estimators=50, max_depth=3 | Accuracy: 0.904, Precision: 0.911, Recall: 0.861, F1-Score: 0.886\n",
      "n_estimators=50, max_depth=4 | Accuracy: 0.906, Precision: 0.908, Recall: 0.871, F1-Score: 0.889\n",
      "n_estimators=50, max_depth=5 | Accuracy: 0.92, Precision: 0.921, Recall: 0.893, F1-Score: 0.907\n",
      "n_estimators=50, max_depth=6 | Accuracy: 0.93, Precision: 0.925, Recall: 0.913, F1-Score: 0.919\n",
      "n_estimators=50, max_depth=7 | Accuracy: 0.933, Precision: 0.929, Recall: 0.917, F1-Score: 0.923\n",
      "n_estimators=50, max_depth=8 | Accuracy: 0.94, Precision: 0.936, Recall: 0.924, F1-Score: 0.93\n",
      "n_estimators=50, max_depth=9 | Accuracy: 0.942, Precision: 0.94, Recall: 0.927, F1-Score: 0.933\n",
      "n_estimators=50, max_depth=10 | Accuracy: 0.95, Precision: 0.949, Recall: 0.934, F1-Score: 0.941\n",
      "n_estimators=50, max_depth=11 | Accuracy: 0.955, Precision: 0.957, Recall: 0.94, F1-Score: 0.948\n",
      "n_estimators=50, max_depth=12 | Accuracy: 0.961, Precision: 0.965, Recall: 0.946, F1-Score: 0.955\n",
      "n_estimators=50, max_depth=13 | Accuracy: 0.968, Precision: 0.973, Recall: 0.953, F1-Score: 0.963\n",
      "n_estimators=50, max_depth=14 | Accuracy: 0.974, Precision: 0.981, Recall: 0.958, F1-Score: 0.969\n",
      "n_estimators=50, max_depth=15 | Accuracy: 0.978, Precision: 0.985, Recall: 0.963, F1-Score: 0.974\n",
      "n_estimators=50, max_depth=16 | Accuracy: 0.984, Precision: 0.991, Recall: 0.971, F1-Score: 0.981\n",
      "n_estimators=50, max_depth=17 | Accuracy: 0.987, Precision: 0.994, Recall: 0.977, F1-Score: 0.985\n",
      "n_estimators=50, max_depth=18 | Accuracy: 0.99, Precision: 0.996, Recall: 0.982, F1-Score: 0.989\n",
      "n_estimators=50, max_depth=19 | Accuracy: 0.993, Precision: 0.997, Recall: 0.987, F1-Score: 0.992\n",
      "n_estimators=50, max_depth=20 | Accuracy: 0.996, Precision: 0.999, Recall: 0.991, F1-Score: 0.995\n",
      "n_estimators=50, max_depth=21 | Accuracy: 0.997, Precision: 0.999, Recall: 0.993, F1-Score: 0.996\n",
      "n_estimators=50, max_depth=22 | Accuracy: 0.998, Precision: 1.0, Recall: 0.995, F1-Score: 0.998\n",
      "n_estimators=50, max_depth=23 | Accuracy: 0.999, Precision: 1.0, Recall: 0.997, F1-Score: 0.998\n",
      "n_estimators=50, max_depth=24 | Accuracy: 0.999, Precision: 1.0, Recall: 0.997, F1-Score: 0.999\n",
      "n_estimators=50, max_depth=25 | Accuracy: 0.999, Precision: 1.0, Recall: 0.998, F1-Score: 0.999\n",
      "n_estimators=50, max_depth=26 | Accuracy: 0.999, Precision: 1.0, Recall: 0.999, F1-Score: 0.999\n",
      "n_estimators=50, max_depth=27 | Accuracy: 1.0, Precision: 1.0, Recall: 0.999, F1-Score: 1.0\n",
      "n_estimators=50, max_depth=28 | Accuracy: 1.0, Precision: 1.0, Recall: 1.0, F1-Score: 1.0\n",
      "n_estimators=50, max_depth=29 | Accuracy: 1.0, Precision: 1.0, Recall: 1.0, F1-Score: 1.0\n",
      "n_estimators=100, max_depth=1 | Accuracy: 0.864, Precision: 0.892, Recall: 0.781, F1-Score: 0.833\n",
      "n_estimators=100, max_depth=2 | Accuracy: 0.87, Precision: 0.884, Recall: 0.805, F1-Score: 0.842\n",
      "n_estimators=100, max_depth=3 | Accuracy: 0.896, Precision: 0.909, Recall: 0.846, F1-Score: 0.876\n",
      "n_estimators=100, max_depth=4 | Accuracy: 0.908, Precision: 0.913, Recall: 0.872, F1-Score: 0.892\n",
      "n_estimators=100, max_depth=5 | Accuracy: 0.921, Precision: 0.921, Recall: 0.893, F1-Score: 0.907\n",
      "n_estimators=100, max_depth=6 | Accuracy: 0.925, Precision: 0.922, Recall: 0.904, F1-Score: 0.913\n",
      "n_estimators=100, max_depth=7 | Accuracy: 0.935, Precision: 0.93, Recall: 0.92, F1-Score: 0.925\n",
      "n_estimators=100, max_depth=8 | Accuracy: 0.938, Precision: 0.935, Recall: 0.92, F1-Score: 0.928\n",
      "n_estimators=100, max_depth=9 | Accuracy: 0.942, Precision: 0.939, Recall: 0.927, F1-Score: 0.933\n",
      "n_estimators=100, max_depth=10 | Accuracy: 0.949, Precision: 0.947, Recall: 0.935, F1-Score: 0.941\n",
      "n_estimators=100, max_depth=11 | Accuracy: 0.956, Precision: 0.955, Recall: 0.941, F1-Score: 0.948\n",
      "n_estimators=100, max_depth=12 | Accuracy: 0.962, Precision: 0.965, Recall: 0.947, F1-Score: 0.956\n",
      "n_estimators=100, max_depth=13 | Accuracy: 0.969, Precision: 0.974, Recall: 0.954, F1-Score: 0.964\n",
      "n_estimators=100, max_depth=14 | Accuracy: 0.974, Precision: 0.981, Recall: 0.958, F1-Score: 0.969\n",
      "n_estimators=100, max_depth=15 | Accuracy: 0.979, Precision: 0.987, Recall: 0.964, F1-Score: 0.975\n",
      "n_estimators=100, max_depth=16 | Accuracy: 0.983, Precision: 0.99, Recall: 0.97, F1-Score: 0.98\n",
      "n_estimators=100, max_depth=17 | Accuracy: 0.987, Precision: 0.993, Recall: 0.977, F1-Score: 0.985\n",
      "n_estimators=100, max_depth=18 | Accuracy: 0.991, Precision: 0.996, Recall: 0.983, F1-Score: 0.99\n",
      "n_estimators=100, max_depth=19 | Accuracy: 0.994, Precision: 0.998, Recall: 0.988, F1-Score: 0.993\n",
      "n_estimators=100, max_depth=20 | Accuracy: 0.996, Precision: 0.999, Recall: 0.992, F1-Score: 0.996\n",
      "n_estimators=100, max_depth=21 | Accuracy: 0.998, Precision: 1.0, Recall: 0.995, F1-Score: 0.997\n",
      "n_estimators=100, max_depth=22 | Accuracy: 0.998, Precision: 1.0, Recall: 0.996, F1-Score: 0.998\n",
      "n_estimators=100, max_depth=23 | Accuracy: 0.999, Precision: 1.0, Recall: 0.997, F1-Score: 0.998\n",
      "n_estimators=100, max_depth=24 | Accuracy: 0.999, Precision: 1.0, Recall: 0.998, F1-Score: 0.999\n",
      "n_estimators=100, max_depth=25 | Accuracy: 0.999, Precision: 1.0, Recall: 0.999, F1-Score: 0.999\n",
      "n_estimators=100, max_depth=26 | Accuracy: 1.0, Precision: 1.0, Recall: 0.999, F1-Score: 1.0\n",
      "n_estimators=100, max_depth=27 | Accuracy: 1.0, Precision: 1.0, Recall: 1.0, F1-Score: 1.0\n",
      "n_estimators=100, max_depth=28 | Accuracy: 1.0, Precision: 1.0, Recall: 1.0, F1-Score: 1.0\n",
      "n_estimators=100, max_depth=29 | Accuracy: 1.0, Precision: 1.0, Recall: 1.0, F1-Score: 1.0\n",
      "n_estimators=150, max_depth=1 | Accuracy: 0.86, Precision: 0.892, Recall: 0.77, F1-Score: 0.826\n",
      "n_estimators=150, max_depth=2 | Accuracy: 0.869, Precision: 0.88, Recall: 0.807, F1-Score: 0.842\n",
      "n_estimators=150, max_depth=3 | Accuracy: 0.888, Precision: 0.896, Recall: 0.84, F1-Score: 0.867\n",
      "n_estimators=150, max_depth=4 | Accuracy: 0.91, Precision: 0.91, Recall: 0.879, F1-Score: 0.894\n",
      "n_estimators=150, max_depth=5 | Accuracy: 0.92, Precision: 0.917, Recall: 0.896, F1-Score: 0.907\n",
      "n_estimators=150, max_depth=6 | Accuracy: 0.926, Precision: 0.922, Recall: 0.907, F1-Score: 0.914\n",
      "n_estimators=150, max_depth=7 | Accuracy: 0.934, Precision: 0.929, Recall: 0.918, F1-Score: 0.923\n",
      "n_estimators=150, max_depth=8 | Accuracy: 0.939, Precision: 0.935, Recall: 0.923, F1-Score: 0.929\n",
      "n_estimators=150, max_depth=9 | Accuracy: 0.943, Precision: 0.94, Recall: 0.929, F1-Score: 0.934\n",
      "n_estimators=150, max_depth=10 | Accuracy: 0.949, Precision: 0.948, Recall: 0.933, F1-Score: 0.94\n",
      "n_estimators=150, max_depth=11 | Accuracy: 0.956, Precision: 0.957, Recall: 0.941, F1-Score: 0.949\n",
      "n_estimators=150, max_depth=12 | Accuracy: 0.964, Precision: 0.967, Recall: 0.949, F1-Score: 0.958\n",
      "n_estimators=150, max_depth=13 | Accuracy: 0.969, Precision: 0.974, Recall: 0.954, F1-Score: 0.964\n",
      "n_estimators=150, max_depth=14 | Accuracy: 0.974, Precision: 0.98, Recall: 0.959, F1-Score: 0.97\n",
      "n_estimators=150, max_depth=15 | Accuracy: 0.978, Precision: 0.986, Recall: 0.964, F1-Score: 0.975\n",
      "n_estimators=150, max_depth=16 | Accuracy: 0.983, Precision: 0.991, Recall: 0.97, F1-Score: 0.98\n",
      "n_estimators=150, max_depth=17 | Accuracy: 0.988, Precision: 0.994, Recall: 0.978, F1-Score: 0.986\n",
      "n_estimators=150, max_depth=18 | Accuracy: 0.991, Precision: 0.996, Recall: 0.983, F1-Score: 0.99\n",
      "n_estimators=150, max_depth=19 | Accuracy: 0.994, Precision: 0.998, Recall: 0.989, F1-Score: 0.993\n",
      "n_estimators=150, max_depth=20 | Accuracy: 0.996, Precision: 0.999, Recall: 0.992, F1-Score: 0.996\n",
      "n_estimators=150, max_depth=21 | Accuracy: 0.997, Precision: 1.0, Recall: 0.994, F1-Score: 0.997\n",
      "n_estimators=150, max_depth=22 | Accuracy: 0.998, Precision: 1.0, Recall: 0.996, F1-Score: 0.998\n",
      "n_estimators=150, max_depth=23 | Accuracy: 0.999, Precision: 1.0, Recall: 0.997, F1-Score: 0.998\n",
      "n_estimators=150, max_depth=24 | Accuracy: 0.999, Precision: 1.0, Recall: 0.998, F1-Score: 0.999\n",
      "n_estimators=150, max_depth=25 | Accuracy: 0.999, Precision: 1.0, Recall: 0.998, F1-Score: 0.999\n",
      "n_estimators=150, max_depth=26 | Accuracy: 1.0, Precision: 1.0, Recall: 0.999, F1-Score: 1.0\n",
      "n_estimators=150, max_depth=27 | Accuracy: 1.0, Precision: 1.0, Recall: 0.999, F1-Score: 1.0\n",
      "n_estimators=150, max_depth=28 | Accuracy: 1.0, Precision: 1.0, Recall: 1.0, F1-Score: 1.0\n",
      "n_estimators=150, max_depth=29 | Accuracy: 1.0, Precision: 1.0, Recall: 1.0, F1-Score: 1.0\n"
     ]
    }
   ],
   "source": [
    "# Define the lists of values for n_estimators and max_depth\n",
    "n_estimators_values = np.arange(50, 200, 50)\n",
    "depth_values_rf = np.arange(1, 30, 1)\n",
    "\n",
    "# Lists to store the results\n",
    "results_rf = []\n",
    "\n",
    "# Nested loop to test all combinations\n",
    "for n_estimators in n_estimators_values:\n",
    "    for max_depth in depth_values_rf:\n",
    "    \n",
    "        # Instantiate the Random Forest with the current values of n_estimators and max_depth\n",
    "        forest = RandomForestClassifier(n_estimators=n_estimators, max_depth=max_depth)\n",
    "    \n",
    "        # Train the model with the training data\n",
    "        forest.fit(X_train, y_train)\n",
    "    \n",
    "        # Make predictions on the training data\n",
    "        y_train_pred_rf = forest.predict(X_train)\n",
    "    \n",
    "        # Calculate evaluation metrics and round to 3 decimal places\n",
    "        train_accuracy_rf = round(mt.accuracy_score(y_train, y_train_pred_rf), 3)\n",
    "        train_precision_rf = round(mt.precision_score(y_train, y_train_pred_rf), 3)\n",
    "        train_recall_rf = round(mt.recall_score(y_train, y_train_pred_rf), 3)\n",
    "        train_f1_rf = round(mt.f1_score(y_train, y_train_pred_rf), 3)\n",
    "    \n",
    "        # Store the results in a list\n",
    "        results_rf.append({\n",
    "            'n_estimators': n_estimators,\n",
    "            'Max depth': max_depth,\n",
    "            'Accuracy': train_accuracy_rf,\n",
    "            'Precision': train_precision_rf,\n",
    "            'Recall': train_recall_rf,\n",
    "            'F1-Score': train_f1_rf\n",
    "        })\n",
    "\n",
    "# Display the results \n",
    "for result in results_rf:\n",
    "    print(f\"n_estimators={result['n_estimators']}, max_depth={result['Max depth']} \"\n",
    "          f\"| Accuracy: {result['Accuracy']}, Precision: {result['Precision']}, \"\n",
    "          f\"Recall: {result['Recall']}, F1-Score: {result['F1-Score']}\")"
   ]
  },
  {
   "cell_type": "code",
   "execution_count": 16,
   "id": "56e43fac",
   "metadata": {},
   "outputs": [
    {
     "name": "stdout",
     "output_type": "stream",
     "text": [
      "Best n_estimators=50, Max depth=28 | Accuracy: 1.0, Precision: 1.0, Recall: 1.0, F1-Score: 1.0\n"
     ]
    }
   ],
   "source": [
    "# Find the result with the best metrics\n",
    "best_result_rf = max(results_rf, key=lambda x: (x['Accuracy'], x['Precision'], x['Recall'], x['F1-Score']))\n",
    "\n",
    "# Store the best n_estimators and max_depth and their corresponding metrics in variables\n",
    "best_train_n_estimators_rf = best_result_rf['n_estimators']\n",
    "best_train_depth_rf = best_result_rf['Max depth']\n",
    "best_train_accuracy_rf = best_result_rf['Accuracy']\n",
    "best_train_precision_rf = best_result_rf['Precision']\n",
    "best_train_recall_rf = best_result_rf['Recall']\n",
    "best_train_f1_rf = best_result_rf['F1-Score']\n",
    "\n",
    "# Display the best values of n_estimators and max_depth and their corresponding metrics\n",
    "print(f\"Best n_estimators={best_train_n_estimators_rf}, Max depth={best_train_depth_rf} \"\n",
    "      f\"| Accuracy: {best_train_accuracy_rf}, Precision: {best_train_precision_rf}, \"\n",
    "      f\"Recall: {best_train_recall_rf}, F1-Score: {best_train_f1_rf}\")"
   ]
  },
  {
   "cell_type": "markdown",
   "id": "d4bdbfae",
   "metadata": {},
   "source": [
    "### Validation dataset"
   ]
  },
  {
   "cell_type": "code",
   "execution_count": 19,
   "id": "78384452",
   "metadata": {},
   "outputs": [
    {
     "name": "stdout",
     "output_type": "stream",
     "text": [
      "Accuracy: 0.961, Precision: 0.97, Recall: 0.94, F1-Score: 0.955\n"
     ]
    }
   ],
   "source": [
    "# Re-train the model with the best n_estimators and max_depth for the training data\n",
    "forest = RandomForestClassifier(n_estimators=best_train_n_estimators_rf, max_depth=best_train_depth_rf)\n",
    "forest.fit(X_train, y_train)\n",
    "\n",
    "# Make predictions on the validation data\n",
    "y_val_pred_rf = forest.predict(X_val)\n",
    "\n",
    "# Calculate evaluation metrics and round to 3 decimal places\n",
    "val_accuracy_rf = round(mt.accuracy_score(y_val, y_val_pred_rf), 3)\n",
    "val_precision_rf = round(mt.precision_score(y_val, y_val_pred_rf), 3)\n",
    "val_recall_rf = round(mt.recall_score(y_val, y_val_pred_rf), 3)\n",
    "val_f1_rf = round(mt.f1_score(y_val, y_val_pred_rf), 3)\n",
    "\n",
    "# Display the results\n",
    "print(f\"Accuracy: {val_accuracy_rf}, Precision: {val_precision_rf}, \"\n",
    "      f\"Recall: {val_recall_rf}, F1-Score: {val_f1_rf}\")"
   ]
  },
  {
   "cell_type": "markdown",
   "id": "ca71d9b6",
   "metadata": {},
   "source": [
    "### Test dataset"
   ]
  },
  {
   "cell_type": "code",
   "execution_count": 20,
   "id": "413abfdb",
   "metadata": {},
   "outputs": [
    {
     "name": "stdout",
     "output_type": "stream",
     "text": [
      "Accuracy: 0.962, Precision: 0.972, Recall: 0.942, F1-Score: 0.957\n"
     ]
    }
   ],
   "source": [
    "# Re-train the model with the best n_estimators and max_depth for the training and validation data\n",
    "forest = RandomForestClassifier(n_estimators=best_train_n_estimators_rf, max_depth=best_train_depth_rf)\n",
    "\n",
    "# Combine the training and validation data\n",
    "X_train_val = pd.concat([X_train, X_val])\n",
    "y_train_val = pd.concat([y_train, y_val])\n",
    "\n",
    "# Train the model with the combined data\n",
    "forest.fit(X_train_val, y_train_val)\n",
    "\n",
    "# Make predictions on the test data\n",
    "y_test_pred_rf = forest.predict(X_test)\n",
    "\n",
    "# Calculate evaluation metrics and round to 3 decimal places\n",
    "test_accuracy_rf = round(mt.accuracy_score(y_test, y_test_pred_rf), 3)\n",
    "test_precision_rf = round(mt.precision_score(y_test, y_test_pred_rf), 3)\n",
    "test_recall_rf = round(mt.recall_score(y_test, y_test_pred_rf), 3)\n",
    "test_f1_rf = round(mt.f1_score(y_test, y_test_pred_rf), 3)\n",
    "\n",
    "# Display the results\n",
    "print(f\"Accuracy: {test_accuracy_rf}, Precision: {test_precision_rf}, \"\n",
    "      f\"Recall: {test_recall_rf}, F1-Score: {test_f1_rf}\")\n"
   ]
  },
  {
   "cell_type": "markdown",
   "id": "c139a4a8",
   "metadata": {},
   "source": [
    "## Logistic Regression"
   ]
  },
  {
   "cell_type": "markdown",
   "id": "019160f3",
   "metadata": {},
   "source": [
    "### Training dataset"
   ]
  },
  {
   "cell_type": "code",
   "execution_count": 21,
   "id": "d59812e4",
   "metadata": {
    "scrolled": true
   },
   "outputs": [
    {
     "name": "stderr",
     "output_type": "stream",
     "text": [
      "C:\\Users\\rafae\\anaconda3\\lib\\site-packages\\sklearn\\linear_model\\_sag.py:349: ConvergenceWarning: The max_iter was reached which means the coef_ did not converge\n",
      "  warnings.warn(\n",
      "C:\\Users\\rafae\\anaconda3\\lib\\site-packages\\sklearn\\linear_model\\_sag.py:349: ConvergenceWarning: The max_iter was reached which means the coef_ did not converge\n",
      "  warnings.warn(\n",
      "C:\\Users\\rafae\\anaconda3\\lib\\site-packages\\sklearn\\linear_model\\_sag.py:349: ConvergenceWarning: The max_iter was reached which means the coef_ did not converge\n",
      "  warnings.warn(\n",
      "C:\\Users\\rafae\\anaconda3\\lib\\site-packages\\sklearn\\linear_model\\_sag.py:349: ConvergenceWarning: The max_iter was reached which means the coef_ did not converge\n",
      "  warnings.warn(\n",
      "C:\\Users\\rafae\\anaconda3\\lib\\site-packages\\sklearn\\linear_model\\_sag.py:349: ConvergenceWarning: The max_iter was reached which means the coef_ did not converge\n",
      "  warnings.warn(\n",
      "C:\\Users\\rafae\\anaconda3\\lib\\site-packages\\sklearn\\linear_model\\_sag.py:349: ConvergenceWarning: The max_iter was reached which means the coef_ did not converge\n",
      "  warnings.warn(\n",
      "C:\\Users\\rafae\\anaconda3\\lib\\site-packages\\sklearn\\linear_model\\_sag.py:349: ConvergenceWarning: The max_iter was reached which means the coef_ did not converge\n",
      "  warnings.warn(\n",
      "C:\\Users\\rafae\\anaconda3\\lib\\site-packages\\sklearn\\linear_model\\_sag.py:349: ConvergenceWarning: The max_iter was reached which means the coef_ did not converge\n",
      "  warnings.warn(\n",
      "C:\\Users\\rafae\\anaconda3\\lib\\site-packages\\sklearn\\linear_model\\_sag.py:349: ConvergenceWarning: The max_iter was reached which means the coef_ did not converge\n",
      "  warnings.warn(\n",
      "C:\\Users\\rafae\\anaconda3\\lib\\site-packages\\sklearn\\linear_model\\_sag.py:349: ConvergenceWarning: The max_iter was reached which means the coef_ did not converge\n",
      "  warnings.warn(\n",
      "C:\\Users\\rafae\\anaconda3\\lib\\site-packages\\sklearn\\linear_model\\_sag.py:349: ConvergenceWarning: The max_iter was reached which means the coef_ did not converge\n",
      "  warnings.warn(\n"
     ]
    },
    {
     "name": "stdout",
     "output_type": "stream",
     "text": [
      "C=1, max_iter=100, solver=lbfgs | Accuracy: 0.875, Precision: 0.871, Recall: 0.836, F1-Score: 0.853\n",
      "C=1, max_iter=100, solver=liblinear | Accuracy: 0.875, Precision: 0.871, Recall: 0.836, F1-Score: 0.853\n",
      "C=1, max_iter=100, solver=newton-cg | Accuracy: 0.875, Precision: 0.871, Recall: 0.836, F1-Score: 0.853\n",
      "C=1, max_iter=100, solver=newton-cholesky | Accuracy: 0.875, Precision: 0.871, Recall: 0.836, F1-Score: 0.853\n",
      "C=1, max_iter=100, solver=sag | Accuracy: 0.875, Precision: 0.871, Recall: 0.836, F1-Score: 0.853\n",
      "C=1, max_iter=100, solver=saga | Accuracy: 0.875, Precision: 0.871, Recall: 0.836, F1-Score: 0.853\n",
      "C=1, max_iter=200, solver=lbfgs | Accuracy: 0.875, Precision: 0.871, Recall: 0.836, F1-Score: 0.853\n",
      "C=1, max_iter=200, solver=liblinear | Accuracy: 0.875, Precision: 0.871, Recall: 0.836, F1-Score: 0.853\n",
      "C=1, max_iter=200, solver=newton-cg | Accuracy: 0.875, Precision: 0.871, Recall: 0.836, F1-Score: 0.853\n",
      "C=1, max_iter=200, solver=newton-cholesky | Accuracy: 0.875, Precision: 0.871, Recall: 0.836, F1-Score: 0.853\n",
      "C=1, max_iter=200, solver=sag | Accuracy: 0.875, Precision: 0.871, Recall: 0.836, F1-Score: 0.853\n",
      "C=1, max_iter=200, solver=saga | Accuracy: 0.875, Precision: 0.871, Recall: 0.836, F1-Score: 0.853\n",
      "C=1, max_iter=300, solver=lbfgs | Accuracy: 0.875, Precision: 0.871, Recall: 0.836, F1-Score: 0.853\n",
      "C=1, max_iter=300, solver=liblinear | Accuracy: 0.875, Precision: 0.871, Recall: 0.836, F1-Score: 0.853\n",
      "C=1, max_iter=300, solver=newton-cg | Accuracy: 0.875, Precision: 0.871, Recall: 0.836, F1-Score: 0.853\n",
      "C=1, max_iter=300, solver=newton-cholesky | Accuracy: 0.875, Precision: 0.871, Recall: 0.836, F1-Score: 0.853\n",
      "C=1, max_iter=300, solver=sag | Accuracy: 0.875, Precision: 0.871, Recall: 0.836, F1-Score: 0.853\n",
      "C=1, max_iter=300, solver=saga | Accuracy: 0.875, Precision: 0.871, Recall: 0.836, F1-Score: 0.853\n",
      "C=1, max_iter=400, solver=lbfgs | Accuracy: 0.875, Precision: 0.871, Recall: 0.836, F1-Score: 0.853\n",
      "C=1, max_iter=400, solver=liblinear | Accuracy: 0.875, Precision: 0.871, Recall: 0.836, F1-Score: 0.853\n",
      "C=1, max_iter=400, solver=newton-cg | Accuracy: 0.875, Precision: 0.871, Recall: 0.836, F1-Score: 0.853\n",
      "C=1, max_iter=400, solver=newton-cholesky | Accuracy: 0.875, Precision: 0.871, Recall: 0.836, F1-Score: 0.853\n",
      "C=1, max_iter=400, solver=sag | Accuracy: 0.875, Precision: 0.871, Recall: 0.836, F1-Score: 0.853\n",
      "C=1, max_iter=400, solver=saga | Accuracy: 0.875, Precision: 0.871, Recall: 0.836, F1-Score: 0.853\n",
      "C=2, max_iter=100, solver=lbfgs | Accuracy: 0.875, Precision: 0.871, Recall: 0.836, F1-Score: 0.853\n",
      "C=2, max_iter=100, solver=liblinear | Accuracy: 0.875, Precision: 0.871, Recall: 0.836, F1-Score: 0.853\n",
      "C=2, max_iter=100, solver=newton-cg | Accuracy: 0.875, Precision: 0.871, Recall: 0.837, F1-Score: 0.853\n",
      "C=2, max_iter=100, solver=newton-cholesky | Accuracy: 0.875, Precision: 0.871, Recall: 0.836, F1-Score: 0.853\n",
      "C=2, max_iter=100, solver=sag | Accuracy: 0.875, Precision: 0.871, Recall: 0.836, F1-Score: 0.853\n",
      "C=2, max_iter=100, solver=saga | Accuracy: 0.875, Precision: 0.871, Recall: 0.836, F1-Score: 0.853\n",
      "C=2, max_iter=200, solver=lbfgs | Accuracy: 0.875, Precision: 0.871, Recall: 0.836, F1-Score: 0.853\n",
      "C=2, max_iter=200, solver=liblinear | Accuracy: 0.875, Precision: 0.871, Recall: 0.836, F1-Score: 0.853\n",
      "C=2, max_iter=200, solver=newton-cg | Accuracy: 0.875, Precision: 0.871, Recall: 0.837, F1-Score: 0.853\n",
      "C=2, max_iter=200, solver=newton-cholesky | Accuracy: 0.875, Precision: 0.871, Recall: 0.836, F1-Score: 0.853\n",
      "C=2, max_iter=200, solver=sag | Accuracy: 0.875, Precision: 0.871, Recall: 0.836, F1-Score: 0.853\n",
      "C=2, max_iter=200, solver=saga | Accuracy: 0.875, Precision: 0.871, Recall: 0.836, F1-Score: 0.853\n",
      "C=2, max_iter=300, solver=lbfgs | Accuracy: 0.875, Precision: 0.871, Recall: 0.836, F1-Score: 0.853\n",
      "C=2, max_iter=300, solver=liblinear | Accuracy: 0.875, Precision: 0.871, Recall: 0.836, F1-Score: 0.853\n",
      "C=2, max_iter=300, solver=newton-cg | Accuracy: 0.875, Precision: 0.871, Recall: 0.837, F1-Score: 0.853\n",
      "C=2, max_iter=300, solver=newton-cholesky | Accuracy: 0.875, Precision: 0.871, Recall: 0.836, F1-Score: 0.853\n",
      "C=2, max_iter=300, solver=sag | Accuracy: 0.875, Precision: 0.871, Recall: 0.836, F1-Score: 0.853\n",
      "C=2, max_iter=300, solver=saga | Accuracy: 0.875, Precision: 0.871, Recall: 0.836, F1-Score: 0.853\n",
      "C=2, max_iter=400, solver=lbfgs | Accuracy: 0.875, Precision: 0.871, Recall: 0.836, F1-Score: 0.853\n",
      "C=2, max_iter=400, solver=liblinear | Accuracy: 0.875, Precision: 0.871, Recall: 0.836, F1-Score: 0.853\n",
      "C=2, max_iter=400, solver=newton-cg | Accuracy: 0.875, Precision: 0.871, Recall: 0.837, F1-Score: 0.853\n",
      "C=2, max_iter=400, solver=newton-cholesky | Accuracy: 0.875, Precision: 0.871, Recall: 0.836, F1-Score: 0.853\n",
      "C=2, max_iter=400, solver=sag | Accuracy: 0.875, Precision: 0.871, Recall: 0.836, F1-Score: 0.853\n",
      "C=2, max_iter=400, solver=saga | Accuracy: 0.875, Precision: 0.871, Recall: 0.836, F1-Score: 0.853\n",
      "C=3, max_iter=100, solver=lbfgs | Accuracy: 0.875, Precision: 0.871, Recall: 0.836, F1-Score: 0.853\n",
      "C=3, max_iter=100, solver=liblinear | Accuracy: 0.875, Precision: 0.871, Recall: 0.836, F1-Score: 0.853\n",
      "C=3, max_iter=100, solver=newton-cg | Accuracy: 0.875, Precision: 0.871, Recall: 0.836, F1-Score: 0.853\n",
      "C=3, max_iter=100, solver=newton-cholesky | Accuracy: 0.875, Precision: 0.871, Recall: 0.836, F1-Score: 0.853\n",
      "C=3, max_iter=100, solver=sag | Accuracy: 0.875, Precision: 0.871, Recall: 0.836, F1-Score: 0.853\n",
      "C=3, max_iter=100, solver=saga | Accuracy: 0.875, Precision: 0.871, Recall: 0.836, F1-Score: 0.853\n",
      "C=3, max_iter=200, solver=lbfgs | Accuracy: 0.875, Precision: 0.871, Recall: 0.836, F1-Score: 0.853\n",
      "C=3, max_iter=200, solver=liblinear | Accuracy: 0.875, Precision: 0.871, Recall: 0.836, F1-Score: 0.853\n",
      "C=3, max_iter=200, solver=newton-cg | Accuracy: 0.875, Precision: 0.871, Recall: 0.836, F1-Score: 0.853\n",
      "C=3, max_iter=200, solver=newton-cholesky | Accuracy: 0.875, Precision: 0.871, Recall: 0.836, F1-Score: 0.853\n",
      "C=3, max_iter=200, solver=sag | Accuracy: 0.875, Precision: 0.871, Recall: 0.836, F1-Score: 0.853\n",
      "C=3, max_iter=200, solver=saga | Accuracy: 0.875, Precision: 0.871, Recall: 0.836, F1-Score: 0.853\n",
      "C=3, max_iter=300, solver=lbfgs | Accuracy: 0.875, Precision: 0.871, Recall: 0.836, F1-Score: 0.853\n",
      "C=3, max_iter=300, solver=liblinear | Accuracy: 0.875, Precision: 0.871, Recall: 0.836, F1-Score: 0.853\n",
      "C=3, max_iter=300, solver=newton-cg | Accuracy: 0.875, Precision: 0.871, Recall: 0.836, F1-Score: 0.853\n",
      "C=3, max_iter=300, solver=newton-cholesky | Accuracy: 0.875, Precision: 0.871, Recall: 0.836, F1-Score: 0.853\n",
      "C=3, max_iter=300, solver=sag | Accuracy: 0.875, Precision: 0.871, Recall: 0.836, F1-Score: 0.853\n",
      "C=3, max_iter=300, solver=saga | Accuracy: 0.875, Precision: 0.871, Recall: 0.836, F1-Score: 0.853\n",
      "C=3, max_iter=400, solver=lbfgs | Accuracy: 0.875, Precision: 0.871, Recall: 0.836, F1-Score: 0.853\n",
      "C=3, max_iter=400, solver=liblinear | Accuracy: 0.875, Precision: 0.871, Recall: 0.836, F1-Score: 0.853\n",
      "C=3, max_iter=400, solver=newton-cg | Accuracy: 0.875, Precision: 0.871, Recall: 0.836, F1-Score: 0.853\n",
      "C=3, max_iter=400, solver=newton-cholesky | Accuracy: 0.875, Precision: 0.871, Recall: 0.836, F1-Score: 0.853\n",
      "C=3, max_iter=400, solver=sag | Accuracy: 0.875, Precision: 0.871, Recall: 0.836, F1-Score: 0.853\n",
      "C=3, max_iter=400, solver=saga | Accuracy: 0.875, Precision: 0.871, Recall: 0.836, F1-Score: 0.853\n",
      "C=4, max_iter=100, solver=lbfgs | Accuracy: 0.875, Precision: 0.871, Recall: 0.836, F1-Score: 0.853\n",
      "C=4, max_iter=100, solver=liblinear | Accuracy: 0.875, Precision: 0.871, Recall: 0.836, F1-Score: 0.853\n",
      "C=4, max_iter=100, solver=newton-cg | Accuracy: 0.875, Precision: 0.871, Recall: 0.836, F1-Score: 0.853\n",
      "C=4, max_iter=100, solver=newton-cholesky | Accuracy: 0.875, Precision: 0.871, Recall: 0.836, F1-Score: 0.853\n",
      "C=4, max_iter=100, solver=sag | Accuracy: 0.875, Precision: 0.871, Recall: 0.836, F1-Score: 0.853\n",
      "C=4, max_iter=100, solver=saga | Accuracy: 0.875, Precision: 0.871, Recall: 0.836, F1-Score: 0.853\n",
      "C=4, max_iter=200, solver=lbfgs | Accuracy: 0.875, Precision: 0.871, Recall: 0.836, F1-Score: 0.853\n",
      "C=4, max_iter=200, solver=liblinear | Accuracy: 0.875, Precision: 0.871, Recall: 0.836, F1-Score: 0.853\n",
      "C=4, max_iter=200, solver=newton-cg | Accuracy: 0.875, Precision: 0.871, Recall: 0.836, F1-Score: 0.853\n",
      "C=4, max_iter=200, solver=newton-cholesky | Accuracy: 0.875, Precision: 0.871, Recall: 0.836, F1-Score: 0.853\n",
      "C=4, max_iter=200, solver=sag | Accuracy: 0.875, Precision: 0.871, Recall: 0.836, F1-Score: 0.853\n",
      "C=4, max_iter=200, solver=saga | Accuracy: 0.875, Precision: 0.871, Recall: 0.836, F1-Score: 0.853\n",
      "C=4, max_iter=300, solver=lbfgs | Accuracy: 0.875, Precision: 0.871, Recall: 0.836, F1-Score: 0.853\n",
      "C=4, max_iter=300, solver=liblinear | Accuracy: 0.875, Precision: 0.871, Recall: 0.836, F1-Score: 0.853\n",
      "C=4, max_iter=300, solver=newton-cg | Accuracy: 0.875, Precision: 0.871, Recall: 0.836, F1-Score: 0.853\n",
      "C=4, max_iter=300, solver=newton-cholesky | Accuracy: 0.875, Precision: 0.871, Recall: 0.836, F1-Score: 0.853\n",
      "C=4, max_iter=300, solver=sag | Accuracy: 0.875, Precision: 0.871, Recall: 0.836, F1-Score: 0.853\n",
      "C=4, max_iter=300, solver=saga | Accuracy: 0.875, Precision: 0.871, Recall: 0.836, F1-Score: 0.853\n",
      "C=4, max_iter=400, solver=lbfgs | Accuracy: 0.875, Precision: 0.871, Recall: 0.836, F1-Score: 0.853\n",
      "C=4, max_iter=400, solver=liblinear | Accuracy: 0.875, Precision: 0.871, Recall: 0.836, F1-Score: 0.853\n",
      "C=4, max_iter=400, solver=newton-cg | Accuracy: 0.875, Precision: 0.871, Recall: 0.836, F1-Score: 0.853\n",
      "C=4, max_iter=400, solver=newton-cholesky | Accuracy: 0.875, Precision: 0.871, Recall: 0.836, F1-Score: 0.853\n",
      "C=4, max_iter=400, solver=sag | Accuracy: 0.875, Precision: 0.871, Recall: 0.836, F1-Score: 0.853\n",
      "C=4, max_iter=400, solver=saga | Accuracy: 0.875, Precision: 0.871, Recall: 0.836, F1-Score: 0.853\n"
     ]
    }
   ],
   "source": [
    "# Define the lists of values for C, solver, and max_iter\n",
    "C_values = np.arange(1, 5, 1)\n",
    "max_iter_values = np.arange(100, 500, 100)\n",
    "solver_values = ['lbfgs', 'liblinear', 'newton-cg', 'newton-cholesky', 'sag', 'saga']\n",
    "\n",
    "# Lists to store the results\n",
    "results_lr = []\n",
    "\n",
    "# Nested loop to test all combinations\n",
    "for C in C_values:\n",
    "    for max_iter in max_iter_values:\n",
    "        for solver in solver_values:\n",
    "            \n",
    "            # Instantiate the Logistic Regression with the current values of C, max_iter, and solver\n",
    "            logistic_model = LogisticRegression(C=C, max_iter=max_iter, solver=solver)\n",
    "\n",
    "            # Train the model with the training data\n",
    "            logistic_model.fit(X_train, y_train)\n",
    "    \n",
    "            # Make predictions on the training data\n",
    "            y_train_pred_lr = logistic_model.predict(X_train)\n",
    "    \n",
    "            # Calculate evaluation metrics and round to 3 decimal places\n",
    "            train_accuracy_lr = round(mt.accuracy_score(y_train, y_train_pred_lr), 3)\n",
    "            train_precision_lr = round(mt.precision_score(y_train, y_train_pred_lr), 3)\n",
    "            train_recall_lr = round(mt.recall_score(y_train, y_train_pred_lr), 3)\n",
    "            train_f1_lr = round(mt.f1_score(y_train, y_train_pred_lr), 3)\n",
    "    \n",
    "            # Store the results in a list\n",
    "            results_lr.append({\n",
    "                'C': C,\n",
    "                'Max iter': max_iter,\n",
    "                'Solver': solver,\n",
    "                'Accuracy': train_accuracy_lr,\n",
    "                'Precision': train_precision_lr,\n",
    "                'Recall': train_recall_lr,\n",
    "                'F1-Score': train_f1_lr\n",
    "            })\n",
    "\n",
    "# Display the results \n",
    "for result in results_lr:\n",
    "    print(f\"C={result['C']}, max_iter={result['Max iter']}, solver={result['Solver']} \"\n",
    "          f\"| Accuracy: {result['Accuracy']}, Precision: {result['Precision']}, \"\n",
    "          f\"Recall: {result['Recall']}, F1-Score: {result['F1-Score']}\")"
   ]
  },
  {
   "cell_type": "code",
   "execution_count": 22,
   "id": "6ba04d7a",
   "metadata": {},
   "outputs": [
    {
     "name": "stdout",
     "output_type": "stream",
     "text": [
      "Best C=2, Max iter=100, Solver=newton-cg | Accuracy: 0.875, Precision: 0.871, Recall: 0.837, F1-Score: 0.853\n"
     ]
    }
   ],
   "source": [
    "# Find the result with the best metrics\n",
    "best_result_lr = max(results_lr, key=lambda x: (x['Accuracy'], x['Precision'], x['Recall'], x['F1-Score']))\n",
    "\n",
    "# Store the best C, max_iter, and solver along with the corresponding metrics in variables\n",
    "best_train_c_lr = best_result_lr['C']\n",
    "best_train_max_iter_lr = best_result_lr['Max iter']\n",
    "best_train_solver_lr = best_result_lr['Solver']\n",
    "best_train_accuracy_lr = best_result_lr['Accuracy']\n",
    "best_train_precision_lr = best_result_lr['Precision']\n",
    "best_train_recall_lr = best_result_lr['Recall']\n",
    "best_train_f1_lr = best_result_lr['F1-Score']\n",
    "\n",
    "# Display the best C, max_iter, and solver along with the corresponding metrics\n",
    "print(f\"Best C={best_train_c_lr}, Max iter={best_train_max_iter_lr}, Solver={best_train_solver_lr} \"\n",
    "      f\"| Accuracy: {best_train_accuracy_lr}, Precision: {best_train_precision_lr}, \"\n",
    "      f\"Recall: {best_train_recall_lr}, F1-Score: {best_train_f1_lr}\")"
   ]
  },
  {
   "cell_type": "markdown",
   "id": "460a67c5",
   "metadata": {},
   "source": [
    "### Validation dataset"
   ]
  },
  {
   "cell_type": "code",
   "execution_count": 23,
   "id": "b41c9525",
   "metadata": {},
   "outputs": [
    {
     "name": "stdout",
     "output_type": "stream",
     "text": [
      "Accuracy: 0.874, Precision: 0.869, Recall: 0.835, F1-Score: 0.852\n"
     ]
    }
   ],
   "source": [
    "# Re-train the model with the best C, max_iter, and solver for the training data\n",
    "logistic_model = LogisticRegression(C=best_train_c_lr, max_iter=best_train_max_iter_lr, solver=best_train_solver_lr)\n",
    "\n",
    "logistic_model.fit(X_train, y_train)\n",
    "\n",
    "# Make predictions on the validation data\n",
    "y_val_pred_lr = logistic_model.predict(X_val)\n",
    "\n",
    "# Calculate the evaluation metrics and round to 3 decimal places\n",
    "val_accuracy_lr = round(mt.accuracy_score(y_val, y_val_pred_lr), 3)\n",
    "val_precision_lr = round(mt.precision_score(y_val, y_val_pred_lr), 3)\n",
    "val_recall_lr = round(mt.recall_score(y_val, y_val_pred_lr), 3)\n",
    "val_f1_lr = round(mt.f1_score(y_val, y_val_pred_lr), 3)\n",
    "\n",
    "# Display the results\n",
    "print(f\"Accuracy: {val_accuracy_lr}, Precision: {val_precision_lr}, \"\n",
    "      f\"Recall: {val_recall_lr}, F1-Score: {val_f1_lr}\")\n"
   ]
  },
  {
   "cell_type": "markdown",
   "id": "42a02b23",
   "metadata": {},
   "source": [
    "### Test dataset"
   ]
  },
  {
   "cell_type": "code",
   "execution_count": 24,
   "id": "3875a1c6",
   "metadata": {},
   "outputs": [
    {
     "name": "stdout",
     "output_type": "stream",
     "text": [
      "Accuracy: 0.871, Precision: 0.868, Recall: 0.833, F1-Score: 0.85\n"
     ]
    }
   ],
   "source": [
    "# Re-train the model with the best C, max_iter, and solver for the training and validation data\n",
    "logistic_model = LogisticRegression(C=best_train_c_lr, max_iter=best_train_max_iter_lr, solver=best_train_solver_lr)\n",
    "\n",
    "# Combine the training and validation data\n",
    "X_train_val = pd.concat([X_train, X_val])\n",
    "y_train_val = pd.concat([y_train, y_val])\n",
    "\n",
    "# Train the model with the combined data\n",
    "logistic_model.fit(X_train_val, y_train_val)\n",
    "\n",
    "# Make predictions on the test data\n",
    "y_test_pred_lr = logistic_model.predict(X_test)\n",
    "\n",
    "# Calculate the evaluation metrics and round to 3 decimal places\n",
    "test_accuracy_lr = round(mt.accuracy_score(y_test, y_test_pred_lr), 3)\n",
    "test_precision_lr = round(mt.precision_score(y_test, y_test_pred_lr), 3)\n",
    "test_recall_lr = round(mt.recall_score(y_test, y_test_pred_lr), 3)\n",
    "test_f1_lr = round(mt.f1_score(y_test, y_test_pred_lr), 3)\n",
    "\n",
    "# Display the results\n",
    "print(f\"Accuracy: {test_accuracy_lr}, Precision: {test_precision_lr}, \"\n",
    "      f\"Recall: {test_recall_lr}, F1-Score: {test_f1_lr}\")"
   ]
  },
  {
   "cell_type": "markdown",
   "id": "a20b8c0a",
   "metadata": {},
   "source": [
    "## Generating image for all classification experiments"
   ]
  },
  {
   "cell_type": "markdown",
   "id": "5f17e8ae",
   "metadata": {},
   "source": [
    "### Training"
   ]
  },
  {
   "cell_type": "code",
   "execution_count": 33,
   "id": "5c436496",
   "metadata": {},
   "outputs": [
    {
     "data": {
      "image/png": "[encoded data removed]",
      "text/plain": [
       "<Figure size 800x400 with 1 Axes>"
      ]
     },
     "metadata": {},
     "output_type": "display_data"
    }
   ],
   "source": [
    "# Training data for each algorithm\n",
    "train_algorithms = ['KNN', 'Decision Tree', 'Random Forest', 'Logistic Regression']\n",
    "\n",
    "train_accuracy = [best_train_accuracy_knn, best_train_accuracy_tree, best_train_accuracy_rf, best_train_accuracy_lr]\n",
    "train_precision = [best_train_precision_knn, best_train_precision_tree, best_train_precision_rf, best_train_precision_lr]\n",
    "train_recall = [best_train_recall_knn, best_train_recall_tree, best_train_recall_rf, best_train_recall_lr]\n",
    "train_f1_score = [best_train_f1_knn, best_train_f1_tree, best_train_f1_rf, best_train_f1_lr]\n",
    "\n",
    "# Create a DataFrame with the data\n",
    "train_data = {\n",
    "    'Algorithm': train_algorithms,\n",
    "    'Accuracy': train_accuracy,\n",
    "    'Precision': train_precision,\n",
    "    'Recall': train_recall,\n",
    "    'F1-Score': train_f1_score\n",
    "}\n",
    "\n",
    "df_train = pd.DataFrame(train_data)\n",
    "\n",
    "# Create the table as a figure\n",
    "fig, ax = plt.subplots(figsize=(8, 4))  # Set the figure size\n",
    "ax.axis('tight')\n",
    "ax.axis('off')\n",
    "table = ax.table(cellText=df_train.values, colLabels=df_train.columns, cellLoc='center', loc='center')\n",
    "\n",
    "# Adjust the font size of the table\n",
    "table.auto_set_font_size(False)\n",
    "table.set_fontsize(10)\n",
    "table.scale(1.2, 1.2)  # Adjust cell size\n",
    "\n",
    "# Save the image\n",
    "plt.savefig(\"algorithm_metrics_train.png\", bbox_inches='tight', dpi=300)\n",
    "\n",
    "# Display the image\n",
    "plt.show()"
   ]
  },
  {
   "cell_type": "markdown",
   "id": "ba018e4a",
   "metadata": {},
   "source": [
    "### Validation"
   ]
  },
  {
   "cell_type": "code",
   "execution_count": 34,
   "id": "ef18790b",
   "metadata": {},
   "outputs": [
    {
     "data": {
      "image/png": "[encoded data removed]",
      "text/plain": [
       "<Figure size 800x400 with 1 Axes>"
      ]
     },
     "metadata": {},
     "output_type": "display_data"
    }
   ],
   "source": [
    "# Validation data for each algorithm\n",
    "val_algorithms = ['KNN', 'Decision Tree', 'Random Forest', 'Logistic Regression']\n",
    "\n",
    "val_accuracy = [val_accuracy_knn, val_accuracy_tree, val_accuracy_rf, val_accuracy_lr]\n",
    "val_precision = [val_precision_knn, val_precision_tree, val_precision_rf, val_precision_lr]\n",
    "val_recall = [val_recall_knn, val_recall_tree, val_recall_rf, val_recall_lr]\n",
    "val_f1_score = [val_f1_knn, val_f1_tree, val_f1_rf, val_f1_lr]\n",
    "\n",
    "# Create a DataFrame with the data\n",
    "val_data = {\n",
    "    'Algorithm': val_algorithms,\n",
    "    'Accuracy': val_accuracy,\n",
    "    'Precision': val_precision,\n",
    "    'Recall': val_recall,\n",
    "    'F1-Score': val_f1_score\n",
    "}\n",
    "\n",
    "df_val = pd.DataFrame(val_data)\n",
    "\n",
    "# Create the table as a figure\n",
    "fig, ax = plt.subplots(figsize=(8, 4))  # Set the figure size\n",
    "ax.axis('tight')\n",
    "ax.axis('off')\n",
    "table = ax.table(cellText=df_val.values, colLabels=df_val.columns, cellLoc='center', loc='center')\n",
    "\n",
    "# Adjust the font size of the table\n",
    "table.auto_set_font_size(False)\n",
    "table.set_fontsize(10)\n",
    "table.scale(1.2, 1.2)  # Adjust cell size\n",
    "\n",
    "# Save the image\n",
    "plt.savefig(\"algorithm_metrics_val.png\", bbox_inches='tight', dpi=300)\n",
    "\n",
    "# Display the image\n",
    "plt.show()"
   ]
  },
  {
   "cell_type": "markdown",
   "id": "b053bb71",
   "metadata": {},
   "source": [
    "### Test"
   ]
  },
  {
   "cell_type": "code",
   "execution_count": 35,
   "id": "d7e69932",
   "metadata": {},
   "outputs": [
    {
     "data": {
      "image/png": "[encoded data removed]",
      "text/plain": [
       "<Figure size 800x400 with 1 Axes>"
      ]
     },
     "metadata": {},
     "output_type": "display_data"
    }
   ],
   "source": [
    "# Test data for each algorithm\n",
    "test_algorithms = ['KNN', 'Decision Tree', 'Random Forest', 'Logistic Regression']\n",
    "\n",
    "test_accuracy = [test_accuracy_knn, test_accuracy_tree, test_accuracy_rf, test_accuracy_lr]\n",
    "test_precision = [test_precision_knn, test_precision_tree, test_precision_rf, test_precision_lr]\n",
    "test_recall = [test_recall_knn, test_recall_tree, test_recall_rf, test_recall_lr]\n",
    "test_f1_score = [test_f1_knn, test_f1_tree, test_f1_rf, test_f1_lr]\n",
    "\n",
    "# Create a DataFrame with the data\n",
    "test_data = {\n",
    "    'Algorithm': test_algorithms,\n",
    "    'Accuracy': test_accuracy,\n",
    "    'Precision': test_precision,\n",
    "    'Recall': test_recall,\n",
    "    'F1-Score': test_f1_score\n",
    "}\n",
    "\n",
    "df_test = pd.DataFrame(test_data)\n",
    "\n",
    "# Create the table as a figure\n",
    "fig, ax = plt.subplots(figsize=(8, 4))  # Set the figure size\n",
    "ax.axis('tight')\n",
    "ax.axis('off')\n",
    "table = ax.table(cellText=df_test.values, colLabels=df_test.columns, cellLoc='center', loc='center')\n",
    "\n",
    "# Adjust the font size of the table\n",
    "table.auto_set_font_size(False)\n",
    "table.set_fontsize(10)\n",
    "table.scale(1.2, 1.2)  # Adjust cell size\n",
    "\n",
    "# Save the image\n",
    "plt.savefig(\"algorithm_metrics_test.png\", bbox_inches='tight', dpi=300)\n",
    "\n",
    "# Display the image\n",
    "plt.show()"
   ]
  },
  {
   "cell_type": "code",
   "execution_count": null,
   "id": "fd44dd82",
   "metadata": {},
   "outputs": [],
   "source": []
  }
 ],
 "metadata": {
  "kernelspec": {
   "display_name": "Python 3 (ipykernel)",
   "language": "python",
   "name": "python3"
  },
  "language_info": {
   "codemirror_mode": {
    "name": "ipython",
    "version": 3
   },
   "file_extension": ".py",
   "mimetype": "text/x-python",
   "name": "python",
   "nbconvert_exporter": "python",
   "pygments_lexer": "ipython3",
   "version": "3.9.13"
  }
 },
 "nbformat": 4,
 "nbformat_minor": 5
}
