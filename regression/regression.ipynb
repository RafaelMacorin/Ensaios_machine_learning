{
 "cells": [
  {
   "cell_type": "markdown",
   "id": "62c79e9a",
   "metadata": {},
   "source": [
    "# Machine Learning Experiments"
   ]
  },
  {
   "cell_type": "markdown",
   "id": "f6c52691",
   "metadata": {},
   "source": [
    "## Linear Regression"
   ]
  },
  {
   "cell_type": "markdown",
   "id": "d6116f58",
   "metadata": {},
   "source": [
    "### Import libraries"
   ]
  },
  {
   "cell_type": "code",
   "execution_count": 1,
   "id": "32bb931d",
   "metadata": {},
   "outputs": [],
   "source": [
    "import numpy as np\n",
    "import pandas as pd\n",
    "\n",
    "\n",
    "from sklearn.linear_model import LinearRegression\n",
    "from sklearn.linear_model import Lasso\n",
    "from sklearn.linear_model import Ridge\n",
    "from sklearn.linear_model import ElasticNet\n",
    "from sklearn import tree as tr\n",
    "from sklearn.ensemble import RandomForestRegressor\n",
    "from sklearn import preprocessing as pp\n",
    "from sklearn.pipeline import Pipeline\n",
    "from sklearn import metrics as mt\n",
    "from matplotlib import pyplot as plt\n",
    "\n",
    "import warnings\n",
    "warnings.filterwarnings('ignore')"
   ]
  },
  {
   "cell_type": "markdown",
   "id": "b12b4ac0",
   "metadata": {},
   "source": [
    "### Load datasets"
   ]
  },
  {
   "cell_type": "code",
   "execution_count": 2,
   "id": "d1a57ac5",
   "metadata": {},
   "outputs": [],
   "source": [
    "X_train = pd.read_csv('./X_training.csv')\n",
    "X_test = pd.read_csv('./X_test.csv')\n",
    "X_val = pd.read_csv('./X_validation.csv')\n",
    "y_train = pd.read_csv('./y_training.csv')\n",
    "y_test = pd.read_csv('./y_test.csv')\n",
    "y_val = pd.read_csv('./y_validation.csv')"
   ]
  },
  {
   "cell_type": "code",
   "execution_count": 3,
   "id": "11f38bbc",
   "metadata": {},
   "outputs": [
    {
     "data": {
      "text/html": [
       "<div>\n",
       "<style scoped>\n",
       "    .dataframe tbody tr th:only-of-type {\n",
       "        vertical-align: middle;\n",
       "    }\n",
       "\n",
       "    .dataframe tbody tr th {\n",
       "        vertical-align: top;\n",
       "    }\n",
       "\n",
       "    .dataframe thead th {\n",
       "        text-align: right;\n",
       "    }\n",
       "</style>\n",
       "<table border=\"1\" class=\"dataframe\">\n",
       "  <thead>\n",
       "    <tr style=\"text-align: right;\">\n",
       "      <th></th>\n",
       "      <th>song_duration_ms</th>\n",
       "      <th>acousticness</th>\n",
       "      <th>danceability</th>\n",
       "      <th>energy</th>\n",
       "      <th>instrumentalness</th>\n",
       "      <th>key</th>\n",
       "      <th>liveness</th>\n",
       "      <th>loudness</th>\n",
       "      <th>audio_mode</th>\n",
       "      <th>speechiness</th>\n",
       "      <th>tempo</th>\n",
       "      <th>time_signature</th>\n",
       "      <th>audio_valence</th>\n",
       "    </tr>\n",
       "  </thead>\n",
       "  <tbody>\n",
       "    <tr>\n",
       "      <th>0</th>\n",
       "      <td>0.205673</td>\n",
       "      <td>0.0921</td>\n",
       "      <td>0.720</td>\n",
       "      <td>0.802</td>\n",
       "      <td>0.000000</td>\n",
       "      <td>0.090909</td>\n",
       "      <td>0.694</td>\n",
       "      <td>0.431778</td>\n",
       "      <td>1</td>\n",
       "      <td>0.0582</td>\n",
       "      <td>0.103876</td>\n",
       "      <td>0.8</td>\n",
       "      <td>0.723</td>\n",
       "    </tr>\n",
       "    <tr>\n",
       "      <th>1</th>\n",
       "      <td>-0.240409</td>\n",
       "      <td>0.7370</td>\n",
       "      <td>0.483</td>\n",
       "      <td>0.412</td>\n",
       "      <td>0.000000</td>\n",
       "      <td>0.636364</td>\n",
       "      <td>0.116</td>\n",
       "      <td>-0.262732</td>\n",
       "      <td>1</td>\n",
       "      <td>0.0402</td>\n",
       "      <td>1.711532</td>\n",
       "      <td>0.6</td>\n",
       "      <td>0.247</td>\n",
       "    </tr>\n",
       "    <tr>\n",
       "      <th>2</th>\n",
       "      <td>-0.125770</td>\n",
       "      <td>0.2740</td>\n",
       "      <td>0.671</td>\n",
       "      <td>0.565</td>\n",
       "      <td>0.000065</td>\n",
       "      <td>1.000000</td>\n",
       "      <td>0.370</td>\n",
       "      <td>0.013612</td>\n",
       "      <td>0</td>\n",
       "      <td>0.1600</td>\n",
       "      <td>1.009176</td>\n",
       "      <td>0.8</td>\n",
       "      <td>0.561</td>\n",
       "    </tr>\n",
       "  </tbody>\n",
       "</table>\n",
       "</div>"
      ],
      "text/plain": [
       "   song_duration_ms  acousticness  danceability  energy  instrumentalness  \\\n",
       "0          0.205673        0.0921         0.720   0.802          0.000000   \n",
       "1         -0.240409        0.7370         0.483   0.412          0.000000   \n",
       "2         -0.125770        0.2740         0.671   0.565          0.000065   \n",
       "\n",
       "        key  liveness  loudness  audio_mode  speechiness     tempo  \\\n",
       "0  0.090909     0.694  0.431778           1       0.0582  0.103876   \n",
       "1  0.636364     0.116 -0.262732           1       0.0402  1.711532   \n",
       "2  1.000000     0.370  0.013612           0       0.1600  1.009176   \n",
       "\n",
       "   time_signature  audio_valence  \n",
       "0             0.8          0.723  \n",
       "1             0.6          0.247  \n",
       "2             0.8          0.561  "
      ]
     },
     "execution_count": 3,
     "metadata": {},
     "output_type": "execute_result"
    }
   ],
   "source": [
    "X_train.head(3)"
   ]
  },
  {
   "cell_type": "markdown",
   "id": "5ba557e2",
   "metadata": {},
   "source": [
    "### Pre-processing"
   ]
  },
  {
   "cell_type": "code",
   "execution_count": 4,
   "id": "1e706ff7",
   "metadata": {},
   "outputs": [
    {
     "name": "stdout",
     "output_type": "stream",
     "text": [
      "<class 'pandas.core.frame.DataFrame'>\n",
      "RangeIndex: 10547 entries, 0 to 10546\n",
      "Data columns (total 13 columns):\n",
      " #   Column            Non-Null Count  Dtype  \n",
      "---  ------            --------------  -----  \n",
      " 0   song_duration_ms  10547 non-null  float64\n",
      " 1   acousticness      10547 non-null  float64\n",
      " 2   danceability      10547 non-null  float64\n",
      " 3   energy            10547 non-null  float64\n",
      " 4   instrumentalness  10547 non-null  float64\n",
      " 5   key               10547 non-null  float64\n",
      " 6   liveness          10547 non-null  float64\n",
      " 7   loudness          10547 non-null  float64\n",
      " 8   audio_mode        10547 non-null  int64  \n",
      " 9   speechiness       10547 non-null  float64\n",
      " 10  tempo             10547 non-null  float64\n",
      " 11  time_signature    10547 non-null  float64\n",
      " 12  audio_valence     10547 non-null  float64\n",
      "dtypes: float64(12), int64(1)\n",
      "memory usage: 1.0 MB\n"
     ]
    }
   ],
   "source": [
    "# Observing data information\n",
    "X_train.info()"
   ]
  },
  {
   "cell_type": "markdown",
   "id": "bd7a221c",
   "metadata": {},
   "source": [
    "### Training dataset"
   ]
  },
  {
   "cell_type": "code",
   "execution_count": 5,
   "id": "fb5a2c0a",
   "metadata": {},
   "outputs": [
    {
     "name": "stdout",
     "output_type": "stream",
     "text": [
      "R²=0.046 | MSE: 455.996, RMSE: 21.35, MAE: 17.0, MAPE: 8.65%\n"
     ]
    }
   ],
   "source": [
    "# Instantiate Linear Regression\n",
    "lr = LinearRegression()\n",
    "\n",
    "# Train the model with the training data\n",
    "lr.fit(X_train, y_train)\n",
    "\n",
    "# Make predictions on the training data\n",
    "y_train_pred_lr = lr.predict(X_train)\n",
    "\n",
    "# Calculate evaluation metrics and round to 3 decimal places\n",
    "# R squared\n",
    "train_r2_lr = round(mt.r2_score(y_train, y_train_pred_lr), 3)\n",
    "\n",
    "# MSE\n",
    "train_mse_lr = round(mt.mean_squared_error(y_train, y_train_pred_lr), 3)\n",
    "\n",
    "# RMSE\n",
    "train_rmse_lr = round(np.sqrt(train_mse_lr), 2)\n",
    "\n",
    "# MAE\n",
    "train_mae_lr = round(mt.mean_absolute_error(y_train, y_train_pred_lr), 2)\n",
    "\n",
    "# MAPE\n",
    "train_mape_lr = round(mt.mean_absolute_percentage_error(y_train, y_train_pred_lr), 2)\n",
    "\n",
    "# Display the results\n",
    "print(f\"R²={train_r2_lr} \"\n",
    "      f\"| MSE: {train_mse_lr}, RMSE: {train_rmse_lr}, \"\n",
    "      f\"MAE: {train_mae_lr}, MAPE: {train_mape_lr}%\")"
   ]
  },
  {
   "cell_type": "markdown",
   "id": "59532ff0",
   "metadata": {},
   "source": [
    "### Validation dataset"
   ]
  },
  {
   "cell_type": "code",
   "execution_count": 6,
   "id": "29c73521",
   "metadata": {},
   "outputs": [
    {
     "name": "stdout",
     "output_type": "stream",
     "text": [
      "R²=0.04 | MSE: 458.447, RMSE: 21.41, MAE: 17.04, MAPE: 8.68%\n"
     ]
    }
   ],
   "source": [
    "# Train the model with the training data\n",
    "lr.fit(X_train, y_train)\n",
    "\n",
    "# Make predictions on the validation data\n",
    "y_val_pred_lr = lr.predict(X_val)\n",
    "\n",
    "# Calculate evaluation metrics and round to 3 decimal places\n",
    "# R squared\n",
    "val_r2_lr = round(mt.r2_score(y_val, y_val_pred_lr), 3)\n",
    "\n",
    "# MSE\n",
    "val_mse_lr = round(mt.mean_squared_error(y_val, y_val_pred_lr), 3)\n",
    "\n",
    "# RMSE\n",
    "val_rmse_lr = round(np.sqrt(val_mse_lr), 2)\n",
    "\n",
    "# MAE\n",
    "val_mae_lr = round(mt.mean_absolute_error(y_val, y_val_pred_lr), 2)\n",
    "\n",
    "# MAPE\n",
    "val_mape_lr = round(mt.mean_absolute_percentage_error(y_val, y_val_pred_lr), 2)\n",
    "\n",
    "# Display the results\n",
    "print(f\"R²={val_r2_lr} \"\n",
    "      f\"| MSE: {val_mse_lr}, RMSE: {val_rmse_lr}, \"\n",
    "      f\"MAE: {val_mae_lr}, MAPE: {val_mape_lr}%\")"
   ]
  },
  {
   "cell_type": "markdown",
   "id": "531dc3da",
   "metadata": {},
   "source": [
    "### Test dataset"
   ]
  },
  {
   "cell_type": "code",
   "execution_count": 7,
   "id": "f1493cb9",
   "metadata": {},
   "outputs": [
    {
     "name": "stdout",
     "output_type": "stream",
     "text": [
      "R²=0.051 | MSE: 461.988, RMSE: 21.49, MAE: 17.14, MAPE: 8.53%\n"
     ]
    }
   ],
   "source": [
    "# Train the model with the training and validation data\n",
    "X_train_val = pd.concat([X_train, X_val])\n",
    "y_train_val = pd.concat([y_train, y_val])\n",
    "\n",
    "lr.fit(X_train_val, y_train_val)\n",
    "\n",
    "# Make predictions on the test data\n",
    "y_test_pred_lr = lr.predict(X_test)\n",
    "\n",
    "# Calculate evaluation metrics and round to 3 decimal places\n",
    "# R squared\n",
    "test_r2_lr = round(mt.r2_score(y_test, y_test_pred_lr), 3)\n",
    "\n",
    "# MSE\n",
    "test_mse_lr = round(mt.mean_squared_error(y_test, y_test_pred_lr), 3)\n",
    "\n",
    "# RMSE\n",
    "test_rmse_lr = round(np.sqrt(test_mse_lr), 2)\n",
    "\n",
    "# MAE\n",
    "test_mae_lr = round(mt.mean_absolute_error(y_test, y_test_pred_lr), 2)\n",
    "\n",
    "# MAPE\n",
    "test_mape_lr = round(mt.mean_absolute_percentage_error(y_test, y_test_pred_lr), 2)\n",
    "\n",
    "# Display the results\n",
    "print(f\"R²={test_r2_lr} \"\n",
    "      f\"| MSE: {test_mse_lr}, RMSE: {test_rmse_lr}, \"\n",
    "      f\"MAE: {test_mae_lr}, MAPE: {test_mape_lr}%\")\n"
   ]
  },
  {
   "cell_type": "markdown",
   "id": "0b84ccb9",
   "metadata": {},
   "source": [
    "## Lasso"
   ]
  },
  {
   "cell_type": "markdown",
   "id": "b1db726e",
   "metadata": {},
   "source": [
    "### Training dataset"
   ]
  },
  {
   "cell_type": "code",
   "execution_count": 8,
   "id": "22fcb2bc",
   "metadata": {},
   "outputs": [
    {
     "name": "stdout",
     "output_type": "stream",
     "text": [
      "Alpha=0.0001, max_iter=100 | R²: 0.046, MSE: 455.996, RMSE: 21.35, MAE: 17.0, MAPE: 8.65\n",
      "Alpha=0.0001, max_iter=500 | R²: 0.046, MSE: 455.996, RMSE: 21.35, MAE: 17.0, MAPE: 8.65\n",
      "Alpha=0.0001, max_iter=1000 | R²: 0.046, MSE: 455.996, RMSE: 21.35, MAE: 17.0, MAPE: 8.65\n",
      "Alpha=0.0001, max_iter=5000 | R²: 0.046, MSE: 455.996, RMSE: 21.35, MAE: 17.0, MAPE: 8.65\n",
      "Alpha=0.001, max_iter=100 | R²: 0.046, MSE: 455.997, RMSE: 21.35, MAE: 17.0, MAPE: 8.65\n",
      "Alpha=0.001, max_iter=500 | R²: 0.046, MSE: 455.997, RMSE: 21.35, MAE: 17.0, MAPE: 8.65\n",
      "Alpha=0.001, max_iter=1000 | R²: 0.046, MSE: 455.997, RMSE: 21.35, MAE: 17.0, MAPE: 8.65\n",
      "Alpha=0.001, max_iter=5000 | R²: 0.046, MSE: 455.997, RMSE: 21.35, MAE: 17.0, MAPE: 8.65\n",
      "Alpha=0.01, max_iter=100 | R²: 0.046, MSE: 456.057, RMSE: 21.36, MAE: 17.0, MAPE: 8.66\n",
      "Alpha=0.01, max_iter=500 | R²: 0.046, MSE: 456.057, RMSE: 21.36, MAE: 17.0, MAPE: 8.66\n",
      "Alpha=0.01, max_iter=1000 | R²: 0.046, MSE: 456.057, RMSE: 21.36, MAE: 17.0, MAPE: 8.66\n",
      "Alpha=0.01, max_iter=5000 | R²: 0.046, MSE: 456.057, RMSE: 21.36, MAE: 17.0, MAPE: 8.66\n",
      "Alpha=0.1, max_iter=100 | R²: 0.041, MSE: 458.309, RMSE: 21.41, MAE: 17.05, MAPE: 8.67\n",
      "Alpha=0.1, max_iter=500 | R²: 0.041, MSE: 458.309, RMSE: 21.41, MAE: 17.05, MAPE: 8.67\n",
      "Alpha=0.1, max_iter=1000 | R²: 0.041, MSE: 458.309, RMSE: 21.41, MAE: 17.05, MAPE: 8.67\n",
      "Alpha=0.1, max_iter=5000 | R²: 0.041, MSE: 458.309, RMSE: 21.41, MAE: 17.05, MAPE: 8.67\n",
      "Alpha=1, max_iter=100 | R²: 0.007, MSE: 474.475, RMSE: 21.78, MAE: 17.31, MAPE: 8.74\n",
      "Alpha=1, max_iter=500 | R²: 0.007, MSE: 474.475, RMSE: 21.78, MAE: 17.31, MAPE: 8.74\n",
      "Alpha=1, max_iter=1000 | R²: 0.007, MSE: 474.475, RMSE: 21.78, MAE: 17.31, MAPE: 8.74\n",
      "Alpha=1, max_iter=5000 | R²: 0.007, MSE: 474.475, RMSE: 21.78, MAE: 17.31, MAPE: 8.74\n",
      "Alpha=10, max_iter=100 | R²: 0.0, MSE: 478.013, RMSE: 21.86, MAE: 17.37, MAPE: 8.74\n",
      "Alpha=10, max_iter=500 | R²: 0.0, MSE: 478.013, RMSE: 21.86, MAE: 17.37, MAPE: 8.74\n",
      "Alpha=10, max_iter=1000 | R²: 0.0, MSE: 478.013, RMSE: 21.86, MAE: 17.37, MAPE: 8.74\n",
      "Alpha=10, max_iter=5000 | R²: 0.0, MSE: 478.013, RMSE: 21.86, MAE: 17.37, MAPE: 8.74\n"
     ]
    }
   ],
   "source": [
    "# Define the lists of values for alpha and max_iter\n",
    "lasso_alpha_values = [0.0001, 0.001, 0.01, 0.1, 1, 10]\n",
    "lasso_max_iter_values = [100, 500, 1000, 5000]\n",
    "\n",
    "# Lists to store the results\n",
    "results_lr_lasso = []\n",
    "\n",
    "# Nested loop to test all combinations\n",
    "for alpha in lasso_alpha_values:\n",
    "    for max_iter in lasso_max_iter_values:\n",
    "        \n",
    "        # Instantiate the Lasso with the current values of alpha and max_iter\n",
    "        lasso = Lasso(alpha=alpha, max_iter=max_iter)\n",
    "\n",
    "        # Train the model with the training data\n",
    "        lasso.fit(X_train, y_train)\n",
    "\n",
    "        # Make predictions on the training data\n",
    "        y_train_pred_lr_lasso = lasso.predict(X_train)\n",
    "\n",
    "        # Calculate evaluation metrics and round to 3 decimal places\n",
    "        # R squared\n",
    "        train_r2_lr_lasso = round(mt.r2_score(y_train, y_train_pred_lr_lasso), 3)\n",
    "\n",
    "        # MSE\n",
    "        train_mse_lr_lasso = round(mt.mean_squared_error(y_train, y_train_pred_lr_lasso), 3)\n",
    "\n",
    "        # RMSE\n",
    "        train_rmse_lr_lasso = round(np.sqrt(train_mse_lr_lasso), 2)\n",
    "\n",
    "        # MAE\n",
    "        train_mae_lr_lasso = round(mt.mean_absolute_error(y_train, y_train_pred_lr_lasso), 2)\n",
    "\n",
    "        # MAPE\n",
    "        train_mape_lr_lasso = round(mt.mean_absolute_percentage_error(y_train, y_train_pred_lr_lasso), 2)\n",
    "        \n",
    "        # Store the results in a list\n",
    "        results_lr_lasso.append({\n",
    "            'Alpha': alpha,\n",
    "            'Max iter': max_iter,\n",
    "            'R²': train_r2_lr_lasso,\n",
    "            'MSE': train_mse_lr_lasso,\n",
    "            'RMSE': train_rmse_lr_lasso,\n",
    "            'MAE': train_mae_lr_lasso,\n",
    "            'MAPE': train_mape_lr_lasso\n",
    "        })\n",
    "\n",
    "# Display the results\n",
    "for result in results_lr_lasso:\n",
    "    print(f\"Alpha={result['Alpha']}, max_iter={result['Max iter']} \"\n",
    "          f\"| R²: {result['R²']}, MSE: {result['MSE']}, \"\n",
    "          f\"RMSE: {result['RMSE']}, MAE: {result['MAE']}, MAPE: {result['MAPE']}\")"
   ]
  },
  {
   "cell_type": "code",
   "execution_count": 9,
   "id": "17e7ba86",
   "metadata": {},
   "outputs": [
    {
     "name": "stdout",
     "output_type": "stream",
     "text": [
      "Best Alpha=0.0001, Max iter=100 | R²: 0.046 MSE: 455.996, RMSE: 21.35, MAE: 17.0, MAPE: 8.65\n"
     ]
    }
   ],
   "source": [
    "# Find the result with the best metrics\n",
    "best_result_lr_lasso = max(results_lr_lasso, key=lambda x: (x['R²'], -x['MSE'], -x['RMSE'], -x['MAE'], -x['MAPE']))\n",
    "\n",
    "# Store the best alpha and max_iter values and the corresponding metrics in variables\n",
    "train_alpha_lr_lasso = best_result_lr_lasso['Alpha']\n",
    "train_max_iter_lr_lasso = best_result_lr_lasso['Max iter']\n",
    "train_r2_lr_lasso = best_result_lr_lasso['R²']\n",
    "train_mse_lr_lasso = best_result_lr_lasso['MSE']\n",
    "train_rmse_lr_lasso = best_result_lr_lasso['RMSE']\n",
    "train_mae_lr_lasso = best_result_lr_lasso['MAE']\n",
    "train_mape_lr_lasso = best_result_lr_lasso['MAPE']\n",
    "\n",
    "# Display the best alpha and max_iter values and the corresponding metrics\n",
    "print(f\"Best Alpha={train_alpha_lr_lasso}, Max iter={train_max_iter_lr_lasso} \"\n",
    "      f\"| R²: {train_r2_lr_lasso} MSE: {train_mse_lr_lasso}, RMSE: {train_rmse_lr_lasso}, \"\n",
    "      f\"MAE: {train_mae_lr_lasso}, MAPE: {train_mape_lr_lasso}\")"
   ]
  },
  {
   "cell_type": "markdown",
   "id": "447e5fd9",
   "metadata": {},
   "source": [
    "### Validation dataset"
   ]
  },
  {
   "cell_type": "code",
   "execution_count": 10,
   "id": "283a5062",
   "metadata": {},
   "outputs": [
    {
     "name": "stdout",
     "output_type": "stream",
     "text": [
      "| R²: 0.04 MSE: 458.446, RMSE: 21.41, MAE: 17.04, MAPE: 8.68\n"
     ]
    }
   ],
   "source": [
    "# Retrain the model with the best alpha and max_iter for the training data\n",
    "lasso = Lasso(alpha=train_alpha_lr_lasso, max_iter=train_max_iter_lr_lasso)\n",
    "\n",
    "lasso.fit(X_train, y_train)\n",
    "\n",
    "# Make predictions on the validation data\n",
    "y_val_pred_lr_lasso = lasso.predict(X_val)\n",
    "\n",
    "# Calculate evaluation metrics and round to 3 decimal places\n",
    "# R squared\n",
    "val_r2_lr_lasso = round(mt.r2_score(y_val, y_val_pred_lr_lasso), 3)\n",
    "\n",
    "# MSE\n",
    "val_mse_lr_lasso = round(mt.mean_squared_error(y_val, y_val_pred_lr_lasso), 3)\n",
    "\n",
    "# RMSE\n",
    "val_rmse_lr_lasso = round(np.sqrt(val_mse_lr_lasso), 2)\n",
    "\n",
    "# MAE\n",
    "val_mae_lr_lasso = round(mt.mean_absolute_error(y_val, y_val_pred_lr_lasso), 2)\n",
    "\n",
    "# MAPE\n",
    "val_mape_lr_lasso = round(mt.mean_absolute_percentage_error(y_val, y_val_pred_lr_lasso), 2)\n",
    "\n",
    "# Display the results\n",
    "print(f\"| R²: {val_r2_lr_lasso} MSE: {val_mse_lr_lasso}, RMSE: {val_rmse_lr_lasso}, \"\n",
    "      f\"MAE: {val_mae_lr_lasso}, MAPE: {val_mape_lr_lasso}\")"
   ]
  },
  {
   "cell_type": "markdown",
   "id": "5ab2c826",
   "metadata": {},
   "source": [
    "### Test dataset"
   ]
  },
  {
   "cell_type": "code",
   "execution_count": 11,
   "id": "131dddc7",
   "metadata": {},
   "outputs": [
    {
     "name": "stdout",
     "output_type": "stream",
     "text": [
      "| R²: 0.051 MSE: 461.99, RMSE: 21.49, MAE: 17.14, MAPE: 8.53\n"
     ]
    }
   ],
   "source": [
    "# Retrain the model with the best alpha and max_iter for the training and validation data\n",
    "lasso = Lasso(alpha=train_alpha_lr_lasso, max_iter=train_max_iter_lr_lasso)\n",
    "\n",
    "X_train_val = pd.concat([X_train, X_val])\n",
    "y_train_val = pd.concat([y_train, y_val])\n",
    "\n",
    "lasso.fit(X_train_val, y_train_val)\n",
    "\n",
    "# Make predictions on the test data\n",
    "y_test_pred_lr_lasso = lasso.predict(X_test)\n",
    "\n",
    "# Calculate evaluation metrics and round to 3 decimal places\n",
    "# R squared\n",
    "test_r2_lr_lasso = round(mt.r2_score(y_test, y_test_pred_lr_lasso), 3)\n",
    "\n",
    "# MSE\n",
    "test_mse_lr_lasso = round(mt.mean_squared_error(y_test, y_test_pred_lr_lasso), 3)\n",
    "\n",
    "# RMSE\n",
    "test_rmse_lr_lasso = round(np.sqrt(test_mse_lr_lasso), 2)\n",
    "\n",
    "# MAE\n",
    "test_mae_lr_lasso = round(mt.mean_absolute_error(y_test, y_test_pred_lr_lasso), 2)\n",
    "\n",
    "# MAPE\n",
    "test_mape_lr_lasso = round(mt.mean_absolute_percentage_error(y_test, y_test_pred_lr_lasso), 2)\n",
    "\n",
    "# Display the results\n",
    "print(f\"| R²: {test_r2_lr_lasso} MSE: {test_mse_lr_lasso}, RMSE: {test_rmse_lr_lasso}, \"\n",
    "      f\"MAE: {test_mae_lr_lasso}, MAPE: {test_mape_lr_lasso}\")\n"
   ]
  },
  {
   "cell_type": "markdown",
   "id": "399328c0",
   "metadata": {},
   "source": [
    "## Ridge"
   ]
  },
  {
   "cell_type": "markdown",
   "id": "c5c67c42",
   "metadata": {},
   "source": [
    "### Training dataset"
   ]
  },
  {
   "cell_type": "code",
   "execution_count": 12,
   "id": "4736253e",
   "metadata": {},
   "outputs": [
    {
     "name": "stdout",
     "output_type": "stream",
     "text": [
      "Alpha=0.0001, max_iter=100 | R²: 0.046, MSE: 455.996, RMSE: 21.35, MAE: 17.0, MAPE: 8.65\n",
      "Alpha=0.0001, max_iter=500 | R²: 0.046, MSE: 455.996, RMSE: 21.35, MAE: 17.0, MAPE: 8.65\n",
      "Alpha=0.0001, max_iter=1000 | R²: 0.046, MSE: 455.996, RMSE: 21.35, MAE: 17.0, MAPE: 8.65\n",
      "Alpha=0.0001, max_iter=5000 | R²: 0.046, MSE: 455.996, RMSE: 21.35, MAE: 17.0, MAPE: 8.65\n",
      "Alpha=0.001, max_iter=100 | R²: 0.046, MSE: 455.996, RMSE: 21.35, MAE: 17.0, MAPE: 8.65\n",
      "Alpha=0.001, max_iter=500 | R²: 0.046, MSE: 455.996, RMSE: 21.35, MAE: 17.0, MAPE: 8.65\n",
      "Alpha=0.001, max_iter=1000 | R²: 0.046, MSE: 455.996, RMSE: 21.35, MAE: 17.0, MAPE: 8.65\n",
      "Alpha=0.001, max_iter=5000 | R²: 0.046, MSE: 455.996, RMSE: 21.35, MAE: 17.0, MAPE: 8.65\n",
      "Alpha=0.01, max_iter=100 | R²: 0.046, MSE: 455.996, RMSE: 21.35, MAE: 17.0, MAPE: 8.65\n",
      "Alpha=0.01, max_iter=500 | R²: 0.046, MSE: 455.996, RMSE: 21.35, MAE: 17.0, MAPE: 8.65\n",
      "Alpha=0.01, max_iter=1000 | R²: 0.046, MSE: 455.996, RMSE: 21.35, MAE: 17.0, MAPE: 8.65\n",
      "Alpha=0.01, max_iter=5000 | R²: 0.046, MSE: 455.996, RMSE: 21.35, MAE: 17.0, MAPE: 8.65\n",
      "Alpha=0.1, max_iter=100 | R²: 0.046, MSE: 455.996, RMSE: 21.35, MAE: 17.0, MAPE: 8.65\n",
      "Alpha=0.1, max_iter=500 | R²: 0.046, MSE: 455.996, RMSE: 21.35, MAE: 17.0, MAPE: 8.65\n",
      "Alpha=0.1, max_iter=1000 | R²: 0.046, MSE: 455.996, RMSE: 21.35, MAE: 17.0, MAPE: 8.65\n",
      "Alpha=0.1, max_iter=5000 | R²: 0.046, MSE: 455.996, RMSE: 21.35, MAE: 17.0, MAPE: 8.65\n",
      "Alpha=1, max_iter=100 | R²: 0.046, MSE: 455.996, RMSE: 21.35, MAE: 17.0, MAPE: 8.65\n",
      "Alpha=1, max_iter=500 | R²: 0.046, MSE: 455.996, RMSE: 21.35, MAE: 17.0, MAPE: 8.65\n",
      "Alpha=1, max_iter=1000 | R²: 0.046, MSE: 455.996, RMSE: 21.35, MAE: 17.0, MAPE: 8.65\n",
      "Alpha=1, max_iter=5000 | R²: 0.046, MSE: 455.996, RMSE: 21.35, MAE: 17.0, MAPE: 8.65\n",
      "Alpha=10, max_iter=100 | R²: 0.046, MSE: 456.02, RMSE: 21.35, MAE: 17.0, MAPE: 8.66\n",
      "Alpha=10, max_iter=500 | R²: 0.046, MSE: 456.02, RMSE: 21.35, MAE: 17.0, MAPE: 8.66\n",
      "Alpha=10, max_iter=1000 | R²: 0.046, MSE: 456.02, RMSE: 21.35, MAE: 17.0, MAPE: 8.66\n",
      "Alpha=10, max_iter=5000 | R²: 0.046, MSE: 456.02, RMSE: 21.35, MAE: 17.0, MAPE: 8.66\n"
     ]
    }
   ],
   "source": [
    "# Define the lists of values for alpha and max_iter\n",
    "ridge_alpha_values = [0.0001, 0.001, 0.01, 0.1, 1, 10]\n",
    "ridge_max_iter_values = [100, 500, 1000, 5000]\n",
    "\n",
    "# Lists to store the results\n",
    "results_lr_ridge = []\n",
    "\n",
    "# Nested loop to test all combinations\n",
    "for alpha in ridge_alpha_values:\n",
    "    for max_iter in ridge_max_iter_values:\n",
    "        \n",
    "        # Instantiate the ridge model with the current alpha and max_iter values\n",
    "        ridge = Ridge(alpha=alpha, max_iter=max_iter)\n",
    "\n",
    "        # Train the model with the training data\n",
    "        ridge.fit(X_train, y_train)\n",
    "\n",
    "        # Make predictions on the training data\n",
    "        y_train_pred_lr_ridge = ridge.predict(X_train)\n",
    "\n",
    "        # Calculate evaluation metrics and round to 3 decimal places\n",
    "        # R squared\n",
    "        train_r2_lr_ridge = round(mt.r2_score(y_train, y_train_pred_lr_ridge), 3)\n",
    "\n",
    "        # MSE\n",
    "        train_mse_lr_ridge = round(mt.mean_squared_error(y_train, y_train_pred_lr_ridge), 3)\n",
    "\n",
    "        # RMSE\n",
    "        train_rmse_lr_ridge = round(np.sqrt(train_mse_lr_ridge), 2)\n",
    "\n",
    "        # MAE\n",
    "        train_mae_lr_ridge = round(mt.mean_absolute_error(y_train, y_train_pred_lr_ridge), 2)\n",
    "\n",
    "        # MAPE\n",
    "        train_mape_lr_ridge = round(mt.mean_absolute_percentage_error(y_train, y_train_pred_lr_ridge), 2)\n",
    "        \n",
    "        # Store the results in a list\n",
    "        results_lr_ridge.append({\n",
    "            'Alpha': alpha,\n",
    "            'Max iter': max_iter,\n",
    "            'R²': train_r2_lr_ridge,\n",
    "            'MSE': train_mse_lr_ridge,\n",
    "            'RMSE': train_rmse_lr_ridge,\n",
    "            'MAE': train_mae_lr_ridge,\n",
    "            'MAPE': train_mape_lr_ridge\n",
    "        })\n",
    "\n",
    "# Display the results\n",
    "for result in results_lr_ridge:\n",
    "    print(f\"Alpha={result['Alpha']}, max_iter={result['Max iter']} \"\n",
    "          f\"| R²: {result['R²']}, MSE: {result['MSE']}, \"\n",
    "          f\"RMSE: {result['RMSE']}, MAE: {result['MAE']}, MAPE: {result['MAPE']}\")"
   ]
  },
  {
   "cell_type": "code",
   "execution_count": 13,
   "id": "7b63e89f",
   "metadata": {},
   "outputs": [
    {
     "name": "stdout",
     "output_type": "stream",
     "text": [
      "Best Alpha=0.0001, Max iter=100 | R²: 0.046, MSE: 455.996, RMSE: 21.35, MAE: 17.0, MAPE: 8.65\n"
     ]
    }
   ],
   "source": [
    "# Find the result with the best metrics\n",
    "best_result_lr_ridge = max(results_lr_ridge, key=lambda x: (x['R²'], -x['MSE'], -x['RMSE'], -x['MAE'], -x['MAPE']))\n",
    "\n",
    "# Store the best alpha and max_iter and their corresponding metrics in variables\n",
    "train_alpha_lr_ridge = best_result_lr_ridge['Alpha']\n",
    "train_max_iter_lr_ridge = best_result_lr_ridge['Max iter']\n",
    "train_r2_lr_ridge = best_result_lr_ridge['R²']\n",
    "train_mse_lr_ridge = best_result_lr_ridge['MSE']\n",
    "train_rmse_lr_ridge = best_result_lr_ridge['RMSE']\n",
    "train_mae_lr_ridge = best_result_lr_ridge['MAE']\n",
    "train_mape_lr_ridge = best_result_lr_ridge['MAPE']\n",
    "\n",
    "# Display the best alpha and max_iter and their corresponding metrics\n",
    "print(f\"Best Alpha={train_alpha_lr_ridge}, Max iter={train_max_iter_lr_ridge} \"\n",
    "      f\"| R²: {train_r2_lr_ridge}, MSE: {train_mse_lr_ridge}, RMSE: {train_rmse_lr_ridge}, \"\n",
    "      f\"MAE: {train_mae_lr_ridge}, MAPE: {train_mape_lr_ridge}\")"
   ]
  },
  {
   "cell_type": "markdown",
   "id": "3b4faf56",
   "metadata": {},
   "source": [
    "### Validation dataset"
   ]
  },
  {
   "cell_type": "code",
   "execution_count": 14,
   "id": "e4a5575d",
   "metadata": {},
   "outputs": [
    {
     "name": "stdout",
     "output_type": "stream",
     "text": [
      "| R²: 0.04 MSE: 458.447, RMSE: 21.41, MAE: 17.04, MAPE: 8.68\n"
     ]
    }
   ],
   "source": [
    "# Retrain the model with the best alpha and max_iter for the training data\n",
    "ridge = Ridge(alpha=train_alpha_lr_ridge, max_iter=train_max_iter_lr_ridge)\n",
    "\n",
    "ridge.fit(X_train, y_train)\n",
    "\n",
    "# Make predictions on the validation data\n",
    "y_val_pred_lr_ridge = ridge.predict(X_val)\n",
    "\n",
    "# Calculate evaluation metrics and round to 3 decimal places\n",
    "# R squared\n",
    "val_r2_lr_ridge = round(mt.r2_score(y_val, y_val_pred_lr_ridge), 3)\n",
    "\n",
    "# MSE\n",
    "val_mse_lr_ridge = round(mt.mean_squared_error(y_val, y_val_pred_lr_ridge), 3)\n",
    "\n",
    "# RMSE\n",
    "val_rmse_lr_ridge = round(np.sqrt(val_mse_lr_ridge), 2)\n",
    "\n",
    "# MAE\n",
    "val_mae_lr_ridge = round(mt.mean_absolute_error(y_val, y_val_pred_lr_ridge), 2)\n",
    "\n",
    "# MAPE\n",
    "val_mape_lr_ridge = round(mt.mean_absolute_percentage_error(y_val, y_val_pred_lr_ridge), 2)\n",
    "\n",
    "# Display the results\n",
    "print(f\"| R²: {val_r2_lr_ridge} MSE: {val_mse_lr_ridge}, RMSE: {val_rmse_lr_ridge}, \"\n",
    "      f\"MAE: {val_mae_lr_ridge}, MAPE: {val_mape_lr_ridge}\")"
   ]
  },
  {
   "cell_type": "markdown",
   "id": "e2c7ad32",
   "metadata": {},
   "source": [
    "### Test dataset"
   ]
  },
  {
   "cell_type": "code",
   "execution_count": 15,
   "id": "8a144315",
   "metadata": {},
   "outputs": [
    {
     "name": "stdout",
     "output_type": "stream",
     "text": [
      "| R²: 0.051 MSE: 461.988, RMSE: 21.49, MAE: 17.14, MAPE: 8.53\n"
     ]
    }
   ],
   "source": [
    "# Retrain the model with the best alpha and max_iter for the training and validation data\n",
    "ridge = Ridge(alpha=train_alpha_lr_ridge, max_iter=train_max_iter_lr_ridge)\n",
    "\n",
    "X_train_val = pd.concat([X_train, X_val])\n",
    "y_train_val = pd.concat([y_train, y_val])\n",
    "\n",
    "ridge.fit(X_train_val, y_train_val)\n",
    "\n",
    "# Make predictions on the test data\n",
    "y_test_pred_lr_ridge = ridge.predict(X_test)\n",
    "\n",
    "# Calculate evaluation metrics and round to 3 decimal places\n",
    "# R squared\n",
    "test_r2_lr_ridge = round(mt.r2_score(y_test, y_test_pred_lr_ridge), 3)\n",
    "\n",
    "# MSE\n",
    "test_mse_lr_ridge = round(mt.mean_squared_error(y_test, y_test_pred_lr_ridge), 3)\n",
    "\n",
    "# RMSE\n",
    "test_rmse_lr_ridge = round(np.sqrt(test_mse_lr_ridge), 2)\n",
    "\n",
    "# MAE\n",
    "test_mae_lr_ridge = round(mt.mean_absolute_error(y_test, y_test_pred_lr_ridge), 2)\n",
    "\n",
    "# MAPE\n",
    "test_mape_lr_ridge = round(mt.mean_absolute_percentage_error(y_test, y_test_pred_lr_ridge), 2)\n",
    "\n",
    "# Display the results\n",
    "print(f\"| R²: {test_r2_lr_ridge} MSE: {test_mse_lr_ridge}, RMSE: {test_rmse_lr_ridge}, \"\n",
    "      f\"MAE: {test_mae_lr_ridge}, MAPE: {test_mape_lr_ridge}\")\n"
   ]
  },
  {
   "cell_type": "markdown",
   "id": "f8fe84f9",
   "metadata": {},
   "source": [
    "## Elastic Net"
   ]
  },
  {
   "cell_type": "markdown",
   "id": "3e0d0ced",
   "metadata": {},
   "source": [
    "### Training dataset"
   ]
  },
  {
   "cell_type": "code",
   "execution_count": 16,
   "id": "d61bc374",
   "metadata": {},
   "outputs": [
    {
     "name": "stdout",
     "output_type": "stream",
     "text": [
      "Alpha=0.0001, max_iter=100 | R²: 0.046, MSE: 455.996, RMSE: 21.35, MAE: 17.0, MAPE: 8.65\n",
      "Alpha=0.0001, max_iter=500 | R²: 0.046, MSE: 455.996, RMSE: 21.35, MAE: 17.0, MAPE: 8.65\n",
      "Alpha=0.0001, max_iter=1000 | R²: 0.046, MSE: 455.996, RMSE: 21.35, MAE: 17.0, MAPE: 8.65\n",
      "Alpha=0.0001, max_iter=5000 | R²: 0.046, MSE: 455.996, RMSE: 21.35, MAE: 17.0, MAPE: 8.65\n",
      "Alpha=0.001, max_iter=100 | R²: 0.046, MSE: 456.005, RMSE: 21.35, MAE: 17.0, MAPE: 8.65\n",
      "Alpha=0.001, max_iter=500 | R²: 0.046, MSE: 456.005, RMSE: 21.35, MAE: 17.0, MAPE: 8.65\n",
      "Alpha=0.001, max_iter=1000 | R²: 0.046, MSE: 456.005, RMSE: 21.35, MAE: 17.0, MAPE: 8.65\n",
      "Alpha=0.001, max_iter=5000 | R²: 0.046, MSE: 456.005, RMSE: 21.35, MAE: 17.0, MAPE: 8.65\n",
      "Alpha=0.01, max_iter=100 | R²: 0.045, MSE: 456.476, RMSE: 21.37, MAE: 17.01, MAPE: 8.66\n",
      "Alpha=0.01, max_iter=500 | R²: 0.045, MSE: 456.476, RMSE: 21.37, MAE: 17.01, MAPE: 8.66\n",
      "Alpha=0.01, max_iter=1000 | R²: 0.045, MSE: 456.476, RMSE: 21.37, MAE: 17.01, MAPE: 8.66\n",
      "Alpha=0.01, max_iter=5000 | R²: 0.045, MSE: 456.476, RMSE: 21.37, MAE: 17.01, MAPE: 8.66\n",
      "Alpha=0.1, max_iter=100 | R²: 0.03, MSE: 463.436, RMSE: 21.53, MAE: 17.12, MAPE: 8.68\n",
      "Alpha=0.1, max_iter=500 | R²: 0.03, MSE: 463.436, RMSE: 21.53, MAE: 17.12, MAPE: 8.68\n",
      "Alpha=0.1, max_iter=1000 | R²: 0.03, MSE: 463.436, RMSE: 21.53, MAE: 17.12, MAPE: 8.68\n",
      "Alpha=0.1, max_iter=5000 | R²: 0.03, MSE: 463.436, RMSE: 21.53, MAE: 17.12, MAPE: 8.68\n",
      "Alpha=1, max_iter=100 | R²: 0.008, MSE: 474.269, RMSE: 21.78, MAE: 17.3, MAPE: 8.73\n",
      "Alpha=1, max_iter=500 | R²: 0.008, MSE: 474.269, RMSE: 21.78, MAE: 17.3, MAPE: 8.73\n",
      "Alpha=1, max_iter=1000 | R²: 0.008, MSE: 474.269, RMSE: 21.78, MAE: 17.3, MAPE: 8.73\n",
      "Alpha=1, max_iter=5000 | R²: 0.008, MSE: 474.269, RMSE: 21.78, MAE: 17.3, MAPE: 8.73\n",
      "Alpha=10, max_iter=100 | R²: 0.0, MSE: 478.013, RMSE: 21.86, MAE: 17.37, MAPE: 8.74\n",
      "Alpha=10, max_iter=500 | R²: 0.0, MSE: 478.013, RMSE: 21.86, MAE: 17.37, MAPE: 8.74\n",
      "Alpha=10, max_iter=1000 | R²: 0.0, MSE: 478.013, RMSE: 21.86, MAE: 17.37, MAPE: 8.74\n",
      "Alpha=10, max_iter=5000 | R²: 0.0, MSE: 478.013, RMSE: 21.86, MAE: 17.37, MAPE: 8.74\n"
     ]
    }
   ],
   "source": [
    "# Define the lists of values for alpha and max_iter\n",
    "elastic_alpha_values = [0.0001, 0.001, 0.01, 0.1, 1, 10]\n",
    "elastic_max_iter_values = [100, 500, 1000, 5000]\n",
    "\n",
    "# Lists to store the results\n",
    "results_lr_elastic = []\n",
    "\n",
    "# Nested loop to test all combinations\n",
    "for alpha in elastic_alpha_values:\n",
    "    for max_iter in elastic_max_iter_values:\n",
    "        \n",
    "        # Instantiate ElasticNet with the current values of alpha and max_iter\n",
    "        elastic = ElasticNet(alpha=alpha, max_iter=max_iter)\n",
    "\n",
    "        # Train the model with the training data\n",
    "        elastic.fit(X_train, y_train)\n",
    "\n",
    "        # Make predictions on the training data\n",
    "        y_train_pred_lr_elastic = elastic.predict(X_train)\n",
    "\n",
    "        # Calculate evaluation metrics and round to 3 decimal places\n",
    "        # R squared\n",
    "        train_r2_lr_elastic = round(mt.r2_score(y_train, y_train_pred_lr_elastic), 3)\n",
    "\n",
    "        # MSE\n",
    "        train_mse_lr_elastic = round(mt.mean_squared_error(y_train, y_train_pred_lr_elastic), 3)\n",
    "\n",
    "        # RMSE\n",
    "        train_rmse_lr_elastic = round(np.sqrt(train_mse_lr_elastic), 2)\n",
    "\n",
    "        # MAE\n",
    "        train_mae_lr_elastic = round(mt.mean_absolute_error(y_train, y_train_pred_lr_elastic), 2)\n",
    "\n",
    "        # MAPE\n",
    "        train_mape_lr_elastic = round(mt.mean_absolute_percentage_error(y_train, y_train_pred_lr_elastic), 2)\n",
    "        \n",
    "        # Store the results in a list\n",
    "        results_lr_elastic.append({\n",
    "            'Alpha': alpha,\n",
    "            'Max iter': max_iter,\n",
    "            'R²': train_r2_lr_elastic,\n",
    "            'MSE': train_mse_lr_elastic,\n",
    "            'RMSE': train_rmse_lr_elastic,\n",
    "            'MAE': train_mae_lr_elastic,\n",
    "            'MAPE': train_mape_lr_elastic\n",
    "        })\n",
    "\n",
    "# Display the results\n",
    "for result in results_lr_elastic:\n",
    "    print(f\"Alpha={result['Alpha']}, max_iter={result['Max iter']} \"\n",
    "          f\"| R²: {result['R²']}, MSE: {result['MSE']}, \"\n",
    "          f\"RMSE: {result['RMSE']}, MAE: {result['MAE']}, MAPE: {result['MAPE']}\")"
   ]
  },
  {
   "cell_type": "code",
   "execution_count": 17,
   "id": "8686b82a",
   "metadata": {},
   "outputs": [
    {
     "name": "stdout",
     "output_type": "stream",
     "text": [
      "Best Alpha=0.0001, Max iter=100 | R²: 0.046, MSE: 455.996, RMSE: 21.35, MAE: 17.0, MAPE: 8.65\n"
     ]
    }
   ],
   "source": [
    "# Find the result with the best metrics\n",
    "best_result_lr_elastic = max(results_lr_elastic, key=lambda x: (x['R²'], -x['MSE'], -x['RMSE'], -x['MAE'], -x['MAPE']))\n",
    "\n",
    "# Store the best alpha and max_iter and the corresponding metrics in variables\n",
    "train_alpha_lr_elastic = best_result_lr_elastic['Alpha']\n",
    "train_max_iter_lr_elastic = best_result_lr_elastic['Max iter']\n",
    "train_r2_lr_elastic = best_result_lr_elastic['R²']\n",
    "train_mse_lr_elastic = best_result_lr_elastic['MSE']\n",
    "train_rmse_lr_elastic = best_result_lr_elastic['RMSE']\n",
    "train_mae_lr_elastic = best_result_lr_elastic['MAE']\n",
    "train_mape_lr_elastic = best_result_lr_elastic['MAPE']\n",
    "\n",
    "# Display the best alpha and max_iter and the corresponding metrics\n",
    "print(f\"Best Alpha={train_alpha_lr_elastic}, Max iter={train_max_iter_lr_elastic} \"\n",
    "      f\"| R²: {train_r2_lr_elastic}, MSE: {train_mse_lr_elastic}, RMSE: {train_rmse_lr_elastic}, \"\n",
    "      f\"MAE: {train_mae_lr_elastic}, MAPE: {train_mape_lr_elastic}\")"
   ]
  },
  {
   "cell_type": "markdown",
   "id": "ba85e911",
   "metadata": {},
   "source": [
    "### Validation dataset"
   ]
  },
  {
   "cell_type": "code",
   "execution_count": 18,
   "id": "2c8b5a1e",
   "metadata": {},
   "outputs": [
    {
     "name": "stdout",
     "output_type": "stream",
     "text": [
      "| R²: 0.04 MSE: 458.446, RMSE: 21.41, MAE: 17.04, MAPE: 8.68\n"
     ]
    }
   ],
   "source": [
    "# Retrain the model with the best alpha and max_iter for the training data\n",
    "elastic = ElasticNet(alpha=train_alpha_lr_elastic, max_iter=train_max_iter_lr_elastic)\n",
    "\n",
    "elastic.fit(X_train, y_train)\n",
    "\n",
    "# Make predictions on the validation data\n",
    "y_val_pred_lr_elastic = elastic.predict(X_val)\n",
    "\n",
    "# Calculate the evaluation metrics and round to 3 decimal places\n",
    "# R squared\n",
    "val_r2_lr_elastic = round(mt.r2_score(y_val, y_val_pred_lr_elastic), 3)\n",
    "\n",
    "# MSE\n",
    "val_mse_lr_elastic = round(mt.mean_squared_error(y_val, y_val_pred_lr_elastic), 3)\n",
    "\n",
    "# RMSE\n",
    "val_rmse_lr_elastic = round(np.sqrt(val_mse_lr_elastic), 2)\n",
    "\n",
    "# MAE\n",
    "val_mae_lr_elastic = round(mt.mean_absolute_error(y_val, y_val_pred_lr_elastic), 2)\n",
    "\n",
    "# MAPE\n",
    "val_mape_lr_elastic = round(mt.mean_absolute_percentage_error(y_val, y_val_pred_lr_elastic), 2)\n",
    "\n",
    "# Display the results\n",
    "print(f\"| R²: {val_r2_lr_elastic} MSE: {val_mse_lr_elastic}, RMSE: {val_rmse_lr_elastic}, \"\n",
    "      f\"MAE: {val_mae_lr_elastic}, MAPE: {val_mape_lr_elastic}\")\n"
   ]
  },
  {
   "cell_type": "markdown",
   "id": "838ab897",
   "metadata": {},
   "source": [
    "### Test dataset"
   ]
  },
  {
   "cell_type": "code",
   "execution_count": 19,
   "id": "eef39891",
   "metadata": {
    "scrolled": true
   },
   "outputs": [
    {
     "name": "stdout",
     "output_type": "stream",
     "text": [
      "| R²: 0.051 MSE: 461.989, RMSE: 21.49, MAE: 17.14, MAPE: 8.53\n"
     ]
    }
   ],
   "source": [
    "# Retrain the model with the best alpha and max_iter for the training and validation data\n",
    "elastic = ElasticNet(alpha=train_alpha_lr_elastic, max_iter=train_max_iter_lr_elastic)\n",
    "\n",
    "X_train_val = pd.concat([X_train, X_val])\n",
    "y_train_val = pd.concat([y_train, y_val])\n",
    "\n",
    "elastic.fit(X_train_val, y_train_val)\n",
    "\n",
    "# Make predictions on the test data\n",
    "y_test_pred_lr_elastic = elastic.predict(X_test)\n",
    "\n",
    "# Calculate the evaluation metrics and round to 3 decimal places\n",
    "# R squared\n",
    "test_r2_lr_elastic = round(mt.r2_score(y_test, y_test_pred_lr_elastic), 3)\n",
    "\n",
    "# MSE\n",
    "test_mse_lr_elastic = round(mt.mean_squared_error(y_test, y_test_pred_lr_elastic), 3)\n",
    "\n",
    "# RMSE\n",
    "test_rmse_lr_elastic = round(np.sqrt(test_mse_lr_elastic), 2)\n",
    "\n",
    "# MAE\n",
    "test_mae_lr_elastic = round(mt.mean_absolute_error(y_test, y_test_pred_lr_elastic), 2)\n",
    "\n",
    "# MAPE\n",
    "test_mape_lr_elastic = round(mt.mean_absolute_percentage_error(y_test, y_test_pred_lr_elastic), 2)\n",
    "\n",
    "# Display the results\n",
    "print(f\"| R²: {test_r2_lr_elastic} MSE: {test_mse_lr_elastic}, RMSE: {test_rmse_lr_elastic}, \"\n",
    "      f\"MAE: {test_mae_lr_elastic}, MAPE: {test_mape_lr_elastic}\")"
   ]
  },
  {
   "cell_type": "markdown",
   "id": "107512fb",
   "metadata": {},
   "source": [
    "## Decision Tree Regression"
   ]
  },
  {
   "cell_type": "markdown",
   "id": "710c0606",
   "metadata": {},
   "source": [
    "### Training dataset"
   ]
  },
  {
   "cell_type": "code",
   "execution_count": 20,
   "id": "6f77c17e",
   "metadata": {},
   "outputs": [
    {
     "name": "stdout",
     "output_type": "stream",
     "text": [
      "Max depth=1 | R²: 0.026, MSE: 465.789, RMSE: 21.58, MAE: 17.16, MAPE: 8.62\n",
      "Max depth=2 | R²: 0.043, MSE: 457.298, RMSE: 21.38, MAE: 16.99, MAPE: 8.5\n",
      "Max depth=3 | R²: 0.063, MSE: 447.895, RMSE: 21.16, MAE: 16.83, MAPE: 8.42\n",
      "Max depth=4 | R²: 0.087, MSE: 436.593, RMSE: 20.89, MAE: 16.62, MAPE: 8.27\n",
      "Max depth=5 | R²: 0.114, MSE: 423.747, RMSE: 20.59, MAE: 16.37, MAPE: 7.87\n",
      "Max depth=6 | R²: 0.145, MSE: 408.888, RMSE: 20.22, MAE: 16.03, MAPE: 7.31\n",
      "Max depth=7 | R²: 0.192, MSE: 386.442, RMSE: 19.66, MAE: 15.51, MAPE: 6.54\n",
      "Max depth=8 | R²: 0.246, MSE: 360.589, RMSE: 18.99, MAE: 14.84, MAPE: 6.15\n",
      "Max depth=9 | R²: 0.311, MSE: 329.403, RMSE: 18.15, MAE: 13.96, MAPE: 5.61\n",
      "Max depth=10 | R²: 0.385, MSE: 294.157, RMSE: 17.15, MAE: 12.93, MAPE: 4.87\n",
      "Max depth=11 | R²: 0.46, MSE: 258.193, RMSE: 16.07, MAE: 11.75, MAPE: 4.17\n",
      "Max depth=12 | R²: 0.537, MSE: 221.191, RMSE: 14.87, MAE: 10.47, MAPE: 3.44\n",
      "Max depth=13 | R²: 0.608, MSE: 187.268, RMSE: 13.68, MAE: 9.17, MAPE: 2.93\n",
      "Max depth=14 | R²: 0.678, MSE: 153.902, RMSE: 12.41, MAE: 7.86, MAPE: 2.43\n",
      "Max depth=15 | R²: 0.738, MSE: 125.128, RMSE: 11.19, MAE: 6.61, MAPE: 2.01\n",
      "Max depth=16 | R²: 0.79, MSE: 100.605, RMSE: 10.03, MAE: 5.44, MAPE: 1.56\n",
      "Max depth=17 | R²: 0.836, MSE: 78.275, RMSE: 8.85, MAE: 4.4, MAPE: 1.13\n",
      "Max depth=18 | R²: 0.873, MSE: 60.684, RMSE: 7.79, MAE: 3.51, MAPE: 0.89\n",
      "Max depth=19 | R²: 0.904, MSE: 45.816, RMSE: 6.77, MAE: 2.77, MAPE: 0.53\n",
      "Max depth=20 | R²: 0.927, MSE: 34.875, RMSE: 5.91, MAE: 2.15, MAPE: 0.36\n",
      "Max depth=21 | R²: 0.946, MSE: 25.902, RMSE: 5.09, MAE: 1.67, MAPE: 0.26\n",
      "Max depth=22 | R²: 0.961, MSE: 18.482, RMSE: 4.3, MAE: 1.27, MAPE: 0.15\n",
      "Max depth=23 | R²: 0.971, MSE: 13.896, RMSE: 3.73, MAE: 0.99, MAPE: 0.13\n",
      "Max depth=24 | R²: 0.978, MSE: 10.408, RMSE: 3.23, MAE: 0.76, MAPE: 0.11\n",
      "Max depth=25 | R²: 0.984, MSE: 7.814, RMSE: 2.8, MAE: 0.57, MAPE: 0.1\n",
      "Max depth=26 | R²: 0.987, MSE: 6.204, RMSE: 2.49, MAE: 0.45, MAPE: 0.09\n",
      "Max depth=27 | R²: 0.989, MSE: 5.059, RMSE: 2.25, MAE: 0.36, MAPE: 0.09\n",
      "Max depth=28 | R²: 0.991, MSE: 4.401, RMSE: 2.1, MAE: 0.29, MAPE: 0.08\n",
      "Max depth=29 | R²: 0.992, MSE: 4.062, RMSE: 2.02, MAE: 0.24, MAPE: 0.08\n",
      "Max depth=30 | R²: 0.992, MSE: 3.975, RMSE: 1.99, MAE: 0.23, MAPE: 0.08\n",
      "Max depth=31 | R²: 0.992, MSE: 3.945, RMSE: 1.99, MAE: 0.22, MAPE: 0.08\n",
      "Max depth=32 | R²: 0.992, MSE: 3.94, RMSE: 1.98, MAE: 0.21, MAPE: 0.08\n",
      "Max depth=33 | R²: 0.992, MSE: 3.94, RMSE: 1.98, MAE: 0.21, MAPE: 0.08\n",
      "Max depth=34 | R²: 0.992, MSE: 3.94, RMSE: 1.98, MAE: 0.21, MAPE: 0.08\n",
      "Max depth=35 | R²: 0.992, MSE: 3.94, RMSE: 1.98, MAE: 0.21, MAPE: 0.08\n",
      "Max depth=36 | R²: 0.992, MSE: 3.94, RMSE: 1.98, MAE: 0.21, MAPE: 0.08\n",
      "Max depth=37 | R²: 0.992, MSE: 3.94, RMSE: 1.98, MAE: 0.21, MAPE: 0.08\n",
      "Max depth=38 | R²: 0.992, MSE: 3.94, RMSE: 1.98, MAE: 0.21, MAPE: 0.08\n",
      "Max depth=39 | R²: 0.992, MSE: 3.94, RMSE: 1.98, MAE: 0.21, MAPE: 0.08\n",
      "Max depth=40 | R²: 0.992, MSE: 3.94, RMSE: 1.98, MAE: 0.21, MAPE: 0.08\n",
      "Max depth=41 | R²: 0.992, MSE: 3.94, RMSE: 1.98, MAE: 0.21, MAPE: 0.08\n",
      "Max depth=42 | R²: 0.992, MSE: 3.94, RMSE: 1.98, MAE: 0.21, MAPE: 0.08\n",
      "Max depth=43 | R²: 0.992, MSE: 3.94, RMSE: 1.98, MAE: 0.21, MAPE: 0.08\n",
      "Max depth=44 | R²: 0.992, MSE: 3.94, RMSE: 1.98, MAE: 0.21, MAPE: 0.08\n",
      "Max depth=45 | R²: 0.992, MSE: 3.94, RMSE: 1.98, MAE: 0.21, MAPE: 0.08\n",
      "Max depth=46 | R²: 0.992, MSE: 3.94, RMSE: 1.98, MAE: 0.21, MAPE: 0.08\n",
      "Max depth=47 | R²: 0.992, MSE: 3.94, RMSE: 1.98, MAE: 0.21, MAPE: 0.08\n",
      "Max depth=48 | R²: 0.992, MSE: 3.94, RMSE: 1.98, MAE: 0.21, MAPE: 0.08\n",
      "Max depth=49 | R²: 0.992, MSE: 3.94, RMSE: 1.98, MAE: 0.21, MAPE: 0.08\n"
     ]
    }
   ],
   "source": [
    "# Define the range of depth values\n",
    "depth_values = np.arange(1, 50, 1)\n",
    "\n",
    "# Lists to store the results\n",
    "results_tree = []\n",
    "\n",
    "for depth in depth_values:\n",
    "    \n",
    "    # Instantiate the Decision Tree with the current max_depth value\n",
    "    tree = tr.DecisionTreeRegressor(max_depth=depth)\n",
    "    \n",
    "    # Train the model with the training data\n",
    "    tree.fit(X_train, y_train)\n",
    "    \n",
    "    # Make predictions on the training data\n",
    "    y_train_pred_tree = tree.predict(X_train)\n",
    "    \n",
    "    # Calculate the evaluation metrics and round to 3 decimal places\n",
    "    # R squared\n",
    "    train_r2_tree = round(mt.r2_score(y_train, y_train_pred_tree), 3)\n",
    "\n",
    "    # MSE\n",
    "    train_mse_tree = round(mt.mean_squared_error(y_train, y_train_pred_tree), 3)\n",
    "\n",
    "    # RMSE\n",
    "    train_rmse_tree = round(np.sqrt(train_mse_tree), 2)\n",
    "\n",
    "    # MAE\n",
    "    train_mae_tree = round(mt.mean_absolute_error(y_train, y_train_pred_tree), 2)\n",
    "\n",
    "    # MAPE\n",
    "    train_mape_tree = round(mt.mean_absolute_percentage_error(y_train, y_train_pred_tree), 2)\n",
    "        \n",
    "    # Store the results in a list\n",
    "    results_tree.append({\n",
    "        'Max depth': depth,\n",
    "        'R²': train_r2_tree,\n",
    "        'MSE': train_mse_tree,\n",
    "        'RMSE': train_rmse_tree,\n",
    "        'MAE': train_mae_tree,\n",
    "        'MAPE': train_mape_tree\n",
    "    })\n",
    "\n",
    "# Display the results\n",
    "for result in results_tree:\n",
    "    print(f\"Max depth={result['Max depth']} \"\n",
    "          f\"| R²: {result['R²']}, MSE: {result['MSE']}, \"\n",
    "          f\"RMSE: {result['RMSE']}, MAE: {result['MAE']}, MAPE: {result['MAPE']}\")"
   ]
  },
  {
   "cell_type": "code",
   "execution_count": 21,
   "id": "0fe1157c",
   "metadata": {},
   "outputs": [
    {
     "name": "stdout",
     "output_type": "stream",
     "text": [
      "Best Max depth=32 | R²: 0.992 MSE: 3.94, RMSE: 1.98, MAE: 0.21, MAPE: 0.08\n"
     ]
    }
   ],
   "source": [
    "# Find the result with the best metrics\n",
    "best_result_tree = max(results_tree, key=lambda x: (x['R²'], -x['MSE'], -x['RMSE'], -x['MAE'], -x['MAPE']))\n",
    "\n",
    "# Store the best max_depth and the corresponding metrics in variables\n",
    "train_max_depth_tree = best_result_tree['Max depth']\n",
    "train_r2_tree = best_result_tree['R²']\n",
    "train_mse_tree = best_result_tree['MSE']\n",
    "train_rmse_tree = best_result_tree['RMSE']\n",
    "train_mae_tree = best_result_tree['MAE']\n",
    "train_mape_tree = best_result_tree['MAPE']\n",
    "\n",
    "# Display the best value of max_depth and the corresponding metrics\n",
    "print(f\"Best Max depth={train_max_depth_tree} \"\n",
    "      f\"| R²: {train_r2_tree} MSE: {train_mse_tree}, RMSE: {train_rmse_tree}, \"\n",
    "      f\"MAE: {train_mae_tree}, MAPE: {train_mape_tree}\")"
   ]
  },
  {
   "cell_type": "markdown",
   "id": "7785c178",
   "metadata": {},
   "source": [
    "### Validation dataset"
   ]
  },
  {
   "cell_type": "code",
   "execution_count": 22,
   "id": "0292fc62",
   "metadata": {},
   "outputs": [
    {
     "name": "stdout",
     "output_type": "stream",
     "text": [
      "| R²: -0.301 MSE: 621.386, RMSE: 24.93, MAE: 17.21, MAPE: 6.73\n"
     ]
    }
   ],
   "source": [
    "# Retrain the model with the best max_depth for the training data\n",
    "tree = tr.DecisionTreeRegressor(max_depth=train_max_depth_tree)\n",
    "\n",
    "tree.fit(X_train, y_train)\n",
    "\n",
    "# Make predictions on the validation data\n",
    "y_val_pred_tree = tree.predict(X_val)\n",
    "\n",
    "# Calculate the evaluation metrics and round to 3 decimal places\n",
    "# R squared\n",
    "val_r2_tree = round(mt.r2_score(y_val, y_val_pred_tree), 3)\n",
    "\n",
    "# MSE\n",
    "val_mse_tree = round(mt.mean_squared_error(y_val, y_val_pred_tree), 3)\n",
    "\n",
    "# RMSE\n",
    "val_rmse_tree = round(np.sqrt(val_mse_tree), 2)\n",
    "\n",
    "# MAE\n",
    "val_mae_tree = round(mt.mean_absolute_error(y_val, y_val_pred_tree), 2)\n",
    "\n",
    "# MAPE\n",
    "val_mape_tree = round(mt.mean_absolute_percentage_error(y_val, y_val_pred_tree), 2)\n",
    "\n",
    "# Display the results\n",
    "print(f\"| R²: {val_r2_tree} MSE: {val_mse_tree}, RMSE: {val_rmse_tree}, \"\n",
    "      f\"MAE: {val_mae_tree}, MAPE: {val_mape_tree}\")"
   ]
  },
  {
   "cell_type": "markdown",
   "id": "b8c66b0f",
   "metadata": {},
   "source": [
    "### Test dataset"
   ]
  },
  {
   "cell_type": "code",
   "execution_count": 23,
   "id": "2e9c9718",
   "metadata": {},
   "outputs": [
    {
     "name": "stdout",
     "output_type": "stream",
     "text": [
      "| R²: -0.175 MSE: 572.283, RMSE: 23.92, MAE: 15.8, MAPE: 6.08\n"
     ]
    }
   ],
   "source": [
    "# Retrain the model with the best max_depth for the training and validation data\n",
    "tree = tr.DecisionTreeRegressor(max_depth=train_max_depth_tree)\n",
    "\n",
    "# Combine the training and validation data\n",
    "X_train_val = pd.concat([X_train, X_val])\n",
    "y_train_val = pd.concat([y_train, y_val])\n",
    "\n",
    "# Fit the model to the combined training data\n",
    "tree.fit(X_train_val, y_train_val)\n",
    "\n",
    "# Make predictions on the test data\n",
    "y_test_pred_tree = tree.predict(X_test)\n",
    "\n",
    "# Calculate the evaluation metrics and round to 3 decimal places\n",
    "# R squared\n",
    "test_r2_tree = round(mt.r2_score(y_test, y_test_pred_tree), 3)\n",
    "\n",
    "# MSE\n",
    "test_mse_tree = round(mt.mean_squared_error(y_test, y_test_pred_tree), 3)\n",
    "\n",
    "# RMSE\n",
    "test_rmse_tree = round(np.sqrt(test_mse_tree), 2)\n",
    "\n",
    "# MAE\n",
    "test_mae_tree = round(mt.mean_absolute_error(y_test, y_test_pred_tree), 2)\n",
    "\n",
    "# MAPE\n",
    "test_mape_tree = round(mt.mean_absolute_percentage_error(y_test, y_test_pred_tree), 2)\n",
    "\n",
    "# Display the results\n",
    "print(f\"| R²: {test_r2_tree} MSE: {test_mse_tree}, RMSE: {test_rmse_tree}, \"\n",
    "      f\"MAE: {test_mae_tree}, MAPE: {test_mape_tree}\")\n"
   ]
  },
  {
   "cell_type": "markdown",
   "id": "31977762",
   "metadata": {},
   "source": [
    "## Random Forest Regression"
   ]
  },
  {
   "cell_type": "markdown",
   "id": "f38e7d27",
   "metadata": {},
   "source": [
    "### Training dataset"
   ]
  },
  {
   "cell_type": "code",
   "execution_count": 24,
   "id": "3a14a87f",
   "metadata": {},
   "outputs": [
    {
     "name": "stdout",
     "output_type": "stream",
     "text": [
      "n_estimators=50, Max depth=1 | R²: 0.031, MSE: 463.241, RMSE: 21.52, MAE: 17.12, MAPE: 8.64\n",
      "n_estimators=50, Max depth=2 | R²: 0.05, MSE: 454.18, RMSE: 21.31, MAE: 16.93, MAPE: 8.53\n",
      "n_estimators=50, Max depth=3 | R²: 0.075, MSE: 442.09, RMSE: 21.03, MAE: 16.69, MAPE: 8.44\n",
      "n_estimators=50, Max depth=4 | R²: 0.107, MSE: 426.905, RMSE: 20.66, MAE: 16.42, MAPE: 8.3\n",
      "n_estimators=50, Max depth=5 | R²: 0.141, MSE: 410.628, RMSE: 20.26, MAE: 16.1, MAPE: 8.04\n",
      "n_estimators=50, Max depth=6 | R²: 0.187, MSE: 388.572, RMSE: 19.71, MAE: 15.68, MAPE: 7.67\n",
      "n_estimators=50, Max depth=7 | R²: 0.243, MSE: 361.735, RMSE: 19.02, MAE: 15.13, MAPE: 7.26\n",
      "n_estimators=50, Max depth=8 | R²: 0.311, MSE: 329.355, RMSE: 18.15, MAE: 14.44, MAPE: 6.83\n",
      "n_estimators=50, Max depth=9 | R²: 0.386, MSE: 293.39, RMSE: 17.13, MAE: 13.6, MAPE: 6.26\n",
      "n_estimators=50, Max depth=10 | R²: 0.458, MSE: 259.128, RMSE: 16.1, MAE: 12.79, MAPE: 5.8\n",
      "n_estimators=50, Max depth=11 | R²: 0.538, MSE: 220.905, RMSE: 14.86, MAE: 11.77, MAPE: 5.21\n",
      "n_estimators=50, Max depth=12 | R²: 0.609, MSE: 187.028, RMSE: 13.68, MAE: 10.79, MAPE: 4.76\n",
      "n_estimators=50, Max depth=13 | R²: 0.669, MSE: 158.203, RMSE: 12.58, MAE: 9.88, MAPE: 4.38\n",
      "n_estimators=50, Max depth=14 | R²: 0.733, MSE: 127.858, RMSE: 11.31, MAE: 8.83, MAPE: 3.85\n",
      "n_estimators=50, Max depth=15 | R²: 0.774, MSE: 107.818, RMSE: 10.38, MAE: 8.04, MAPE: 3.5\n",
      "n_estimators=50, Max depth=16 | R²: 0.813, MSE: 89.368, RMSE: 9.45, MAE: 7.25, MAPE: 3.31\n",
      "n_estimators=50, Max depth=17 | R²: 0.837, MSE: 78.148, RMSE: 8.84, MAE: 6.69, MAPE: 3.1\n",
      "n_estimators=50, Max depth=18 | R²: 0.854, MSE: 69.717, RMSE: 8.35, MAE: 6.25, MAPE: 3.06\n",
      "n_estimators=50, Max depth=19 | R²: 0.869, MSE: 62.822, RMSE: 7.93, MAE: 5.89, MAPE: 2.88\n",
      "n_estimators=50, Max depth=20 | R²: 0.879, MSE: 57.918, RMSE: 7.61, MAE: 5.58, MAPE: 2.75\n",
      "n_estimators=50, Max depth=21 | R²: 0.884, MSE: 55.261, RMSE: 7.43, MAE: 5.39, MAPE: 2.78\n",
      "n_estimators=50, Max depth=22 | R²: 0.891, MSE: 51.97, RMSE: 7.21, MAE: 5.21, MAPE: 2.65\n",
      "n_estimators=50, Max depth=23 | R²: 0.893, MSE: 51.354, RMSE: 7.17, MAE: 5.15, MAPE: 2.66\n",
      "n_estimators=50, Max depth=24 | R²: 0.894, MSE: 50.431, RMSE: 7.1, MAE: 5.06, MAPE: 2.62\n",
      "n_estimators=50, Max depth=25 | R²: 0.897, MSE: 49.293, RMSE: 7.02, MAE: 5.02, MAPE: 2.67\n",
      "n_estimators=50, Max depth=26 | R²: 0.898, MSE: 48.764, RMSE: 6.98, MAE: 4.99, MAPE: 2.57\n",
      "n_estimators=50, Max depth=27 | R²: 0.899, MSE: 48.052, RMSE: 6.93, MAE: 4.94, MAPE: 2.59\n",
      "n_estimators=50, Max depth=28 | R²: 0.898, MSE: 48.858, RMSE: 6.99, MAE: 4.95, MAPE: 2.67\n",
      "n_estimators=50, Max depth=29 | R²: 0.897, MSE: 49.024, RMSE: 7.0, MAE: 4.96, MAPE: 2.63\n",
      "n_estimators=100, Max depth=1 | R²: 0.031, MSE: 463.19, RMSE: 21.52, MAE: 17.12, MAPE: 8.63\n",
      "n_estimators=100, Max depth=2 | R²: 0.051, MSE: 453.856, RMSE: 21.3, MAE: 16.93, MAPE: 8.54\n",
      "n_estimators=100, Max depth=3 | R²: 0.079, MSE: 440.459, RMSE: 20.99, MAE: 16.68, MAPE: 8.44\n",
      "n_estimators=100, Max depth=4 | R²: 0.106, MSE: 427.266, RMSE: 20.67, MAE: 16.43, MAPE: 8.3\n",
      "n_estimators=100, Max depth=5 | R²: 0.141, MSE: 410.394, RMSE: 20.26, MAE: 16.09, MAPE: 8.02\n",
      "n_estimators=100, Max depth=6 | R²: 0.185, MSE: 389.792, RMSE: 19.74, MAE: 15.7, MAPE: 7.69\n",
      "n_estimators=100, Max depth=7 | R²: 0.242, MSE: 362.192, RMSE: 19.03, MAE: 15.14, MAPE: 7.28\n",
      "n_estimators=100, Max depth=8 | R²: 0.31, MSE: 329.738, RMSE: 18.16, MAE: 14.44, MAPE: 6.81\n",
      "n_estimators=100, Max depth=9 | R²: 0.386, MSE: 293.508, RMSE: 17.13, MAE: 13.63, MAPE: 6.27\n",
      "n_estimators=100, Max depth=10 | R²: 0.465, MSE: 255.959, RMSE: 16.0, MAE: 12.72, MAPE: 5.74\n",
      "n_estimators=100, Max depth=11 | R²: 0.54, MSE: 219.982, RMSE: 14.83, MAE: 11.75, MAPE: 5.21\n",
      "n_estimators=100, Max depth=12 | R²: 0.614, MSE: 184.529, RMSE: 13.58, MAE: 10.74, MAPE: 4.73\n",
      "n_estimators=100, Max depth=13 | R²: 0.683, MSE: 151.31, RMSE: 12.3, MAE: 9.69, MAPE: 4.27\n",
      "n_estimators=100, Max depth=14 | R²: 0.734, MSE: 127.226, RMSE: 11.28, MAE: 8.83, MAPE: 3.92\n",
      "n_estimators=100, Max depth=15 | R²: 0.778, MSE: 106.103, RMSE: 10.3, MAE: 7.99, MAPE: 3.62\n",
      "n_estimators=100, Max depth=16 | R²: 0.816, MSE: 87.864, RMSE: 9.37, MAE: 7.22, MAPE: 3.29\n",
      "n_estimators=100, Max depth=17 | R²: 0.842, MSE: 75.682, RMSE: 8.7, MAE: 6.64, MAPE: 3.08\n",
      "n_estimators=100, Max depth=18 | R²: 0.856, MSE: 69.072, RMSE: 8.31, MAE: 6.26, MAPE: 2.99\n",
      "n_estimators=100, Max depth=19 | R²: 0.875, MSE: 59.933, RMSE: 7.74, MAE: 5.8, MAPE: 2.82\n",
      "n_estimators=100, Max depth=20 | R²: 0.882, MSE: 56.218, RMSE: 7.5, MAE: 5.55, MAPE: 2.77\n",
      "n_estimators=100, Max depth=21 | R²: 0.887, MSE: 53.961, RMSE: 7.35, MAE: 5.39, MAPE: 2.72\n",
      "n_estimators=100, Max depth=22 | R²: 0.894, MSE: 50.753, RMSE: 7.12, MAE: 5.18, MAPE: 2.67\n",
      "n_estimators=100, Max depth=23 | R²: 0.898, MSE: 48.873, RMSE: 6.99, MAE: 5.03, MAPE: 2.67\n",
      "n_estimators=100, Max depth=24 | R²: 0.9, MSE: 47.914, RMSE: 6.92, MAE: 4.98, MAPE: 2.6\n",
      "n_estimators=100, Max depth=25 | R²: 0.9, MSE: 47.986, RMSE: 6.93, MAE: 4.96, MAPE: 2.7\n",
      "n_estimators=100, Max depth=26 | R²: 0.902, MSE: 47.044, RMSE: 6.86, MAE: 4.92, MAPE: 2.61\n",
      "n_estimators=100, Max depth=27 | R²: 0.901, MSE: 47.401, RMSE: 6.88, MAE: 4.92, MAPE: 2.65\n",
      "n_estimators=100, Max depth=28 | R²: 0.903, MSE: 46.582, RMSE: 6.83, MAE: 4.88, MAPE: 2.65\n",
      "n_estimators=100, Max depth=29 | R²: 0.902, MSE: 46.671, RMSE: 6.83, MAE: 4.89, MAPE: 2.61\n",
      "n_estimators=150, Max depth=1 | R²: 0.031, MSE: 463.191, RMSE: 21.52, MAE: 17.12, MAPE: 8.64\n",
      "n_estimators=150, Max depth=2 | R²: 0.051, MSE: 453.742, RMSE: 21.3, MAE: 16.93, MAPE: 8.53\n",
      "n_estimators=150, Max depth=3 | R²: 0.078, MSE: 440.804, RMSE: 21.0, MAE: 16.68, MAPE: 8.44\n",
      "n_estimators=150, Max depth=4 | R²: 0.107, MSE: 426.852, RMSE: 20.66, MAE: 16.41, MAPE: 8.3\n",
      "n_estimators=150, Max depth=5 | R²: 0.141, MSE: 410.696, RMSE: 20.27, MAE: 16.11, MAPE: 8.02\n",
      "n_estimators=150, Max depth=6 | R²: 0.187, MSE: 388.715, RMSE: 19.72, MAE: 15.68, MAPE: 7.68\n",
      "n_estimators=150, Max depth=7 | R²: 0.244, MSE: 361.377, RMSE: 19.01, MAE: 15.13, MAPE: 7.29\n",
      "n_estimators=150, Max depth=8 | R²: 0.312, MSE: 329.059, RMSE: 18.14, MAE: 14.43, MAPE: 6.78\n",
      "n_estimators=150, Max depth=9 | R²: 0.387, MSE: 293.102, RMSE: 17.12, MAE: 13.62, MAPE: 6.26\n",
      "n_estimators=150, Max depth=10 | R²: 0.464, MSE: 256.007, RMSE: 16.0, MAE: 12.72, MAPE: 5.76\n",
      "n_estimators=150, Max depth=11 | R²: 0.54, MSE: 219.745, RMSE: 14.82, MAE: 11.77, MAPE: 5.25\n",
      "n_estimators=150, Max depth=12 | R²: 0.617, MSE: 182.943, RMSE: 13.53, MAE: 10.71, MAPE: 4.71\n",
      "n_estimators=150, Max depth=13 | R²: 0.684, MSE: 151.235, RMSE: 12.3, MAE: 9.69, MAPE: 4.23\n",
      "n_estimators=150, Max depth=14 | R²: 0.734, MSE: 127.174, RMSE: 11.28, MAE: 8.84, MAPE: 3.92\n",
      "n_estimators=150, Max depth=15 | R²: 0.783, MSE: 103.763, RMSE: 10.19, MAE: 7.93, MAPE: 3.5\n",
      "n_estimators=150, Max depth=16 | R²: 0.816, MSE: 87.752, RMSE: 9.37, MAE: 7.21, MAPE: 3.25\n",
      "n_estimators=150, Max depth=17 | R²: 0.843, MSE: 74.889, RMSE: 8.65, MAE: 6.6, MAPE: 3.11\n",
      "n_estimators=150, Max depth=18 | R²: 0.861, MSE: 66.555, RMSE: 8.16, MAE: 6.17, MAPE: 2.92\n",
      "n_estimators=150, Max depth=19 | R²: 0.873, MSE: 60.92, RMSE: 7.81, MAE: 5.83, MAPE: 2.86\n",
      "n_estimators=150, Max depth=20 | R²: 0.885, MSE: 55.119, RMSE: 7.42, MAE: 5.5, MAPE: 2.74\n",
      "n_estimators=150, Max depth=21 | R²: 0.89, MSE: 52.546, RMSE: 7.25, MAE: 5.33, MAPE: 2.73\n",
      "n_estimators=150, Max depth=22 | R²: 0.895, MSE: 50.053, RMSE: 7.07, MAE: 5.16, MAPE: 2.65\n",
      "n_estimators=150, Max depth=23 | R²: 0.898, MSE: 48.595, RMSE: 6.97, MAE: 5.05, MAPE: 2.67\n",
      "n_estimators=150, Max depth=24 | R²: 0.9, MSE: 47.608, RMSE: 6.9, MAE: 4.96, MAPE: 2.72\n",
      "n_estimators=150, Max depth=25 | R²: 0.902, MSE: 46.911, RMSE: 6.85, MAE: 4.93, MAPE: 2.65\n",
      "n_estimators=150, Max depth=26 | R²: 0.903, MSE: 46.559, RMSE: 6.82, MAE: 4.91, MAPE: 2.59\n",
      "n_estimators=150, Max depth=27 | R²: 0.904, MSE: 45.9, RMSE: 6.77, MAE: 4.86, MAPE: 2.64\n",
      "n_estimators=150, Max depth=28 | R²: 0.903, MSE: 46.164, RMSE: 6.79, MAE: 4.87, MAPE: 2.64\n",
      "n_estimators=150, Max depth=29 | R²: 0.904, MSE: 45.83, RMSE: 6.77, MAE: 4.85, MAPE: 2.61\n"
     ]
    }
   ],
   "source": [
    "# Define the lists of values for n_estimators and max_depth\n",
    "n_estimators_values = np.arange(50, 200, 50)\n",
    "depth_values_rf = np.arange(1, 30, 1)\n",
    "\n",
    "# Lists to store results\n",
    "results_rf = []\n",
    "\n",
    "# Nested loop to test all combinations\n",
    "for n_estimators in n_estimators_values:\n",
    "    for max_depth in depth_values_rf:\n",
    "    \n",
    "        # Instantiate the Random Forest with the current values of n_estimators and max_depth\n",
    "        forest = RandomForestRegressor(n_estimators=n_estimators, max_depth=max_depth)\n",
    "    \n",
    "        # Train the model with the training data\n",
    "        forest.fit(X_train, y_train)\n",
    "    \n",
    "        # Make predictions on the training data\n",
    "        y_train_pred_rf = forest.predict(X_train)\n",
    "    \n",
    "        # Calculate the evaluation metrics and round to 3 decimal places\n",
    "        # R squared\n",
    "        train_r2_rf = round(mt.r2_score(y_train, y_train_pred_rf), 3)\n",
    "\n",
    "        # MSE\n",
    "        train_mse_rf = round(mt.mean_squared_error(y_train, y_train_pred_rf), 3)\n",
    "\n",
    "        # RMSE\n",
    "        train_rmse_rf = round(np.sqrt(train_mse_rf), 2)\n",
    "\n",
    "        # MAE\n",
    "        train_mae_rf = round(mt.mean_absolute_error(y_train, y_train_pred_rf), 2)\n",
    "\n",
    "        # MAPE\n",
    "        train_mape_rf = round(mt.mean_absolute_percentage_error(y_train, y_train_pred_rf), 2)\n",
    "        \n",
    "        # Store results in a list\n",
    "        results_rf.append({\n",
    "            'n_estimators': n_estimators,\n",
    "            'Max depth': max_depth,\n",
    "            'R²': train_r2_rf,\n",
    "            'MSE': train_mse_rf,\n",
    "            'RMSE': train_rmse_rf,\n",
    "            'MAE': train_mae_rf,\n",
    "            'MAPE': train_mape_rf\n",
    "        })\n",
    "\n",
    "# Display the results\n",
    "for result in results_rf:\n",
    "    print(f\"n_estimators={result['n_estimators']}, Max depth={result['Max depth']} \"\n",
    "          f\"| R²: {result['R²']}, MSE: {result['MSE']}, \"\n",
    "          f\"RMSE: {result['RMSE']}, MAE: {result['MAE']}, MAPE: {result['MAPE']}\")"
   ]
  },
  {
   "cell_type": "code",
   "execution_count": 25,
   "id": "a61f3146",
   "metadata": {},
   "outputs": [
    {
     "name": "stdout",
     "output_type": "stream",
     "text": [
      "Best n_estimators=150 Max depth=29 | R²: 0.904 MSE: 45.83, RMSE: 6.77, MAE: 4.85, MAPE: 2.61\n"
     ]
    }
   ],
   "source": [
    "# Find the result with the best metrics\n",
    "best_result_rf = max(results_rf, key=lambda x: (x['R²'], -x['MSE'], -x['RMSE'], -x['MAE'], -x['MAPE']))\n",
    "\n",
    "# Store the best n_estimators and max_depth along with the corresponding metrics in variables\n",
    "train_n_estimators_rf = best_result_rf['n_estimators']\n",
    "train_max_depth_rf = best_result_rf['Max depth']\n",
    "train_r2_rf = best_result_rf['R²']\n",
    "train_mse_rf = best_result_rf['MSE']\n",
    "train_rmse_rf = best_result_rf['RMSE']\n",
    "train_mae_rf = best_result_rf['MAE']\n",
    "train_mape_rf = best_result_rf['MAPE']\n",
    "\n",
    "# Display the best values of n_estimators and max_depth along with the corresponding metrics\n",
    "print(f\"Best n_estimators={train_n_estimators_rf} Max depth={train_max_depth_rf} \"\n",
    "      f\"| R²: {train_r2_rf} MSE: {train_mse_rf}, RMSE: {train_rmse_rf}, \"\n",
    "      f\"MAE: {train_mae_rf}, MAPE: {train_mape_rf}\")"
   ]
  },
  {
   "cell_type": "markdown",
   "id": "311d2b0b",
   "metadata": {},
   "source": [
    "### Validation dataset"
   ]
  },
  {
   "cell_type": "code",
   "execution_count": 26,
   "id": "daaa9c8c",
   "metadata": {},
   "outputs": [
    {
     "name": "stdout",
     "output_type": "stream",
     "text": [
      "| R²: 0.333 MSE: 318.671, RMSE: 17.85, MAE: 13.05, MAPE: 7.07\n"
     ]
    }
   ],
   "source": [
    "# Retrain the model with the best n_estimators and max_depth for the training data\n",
    "rf = RandomForestRegressor(n_estimators=train_n_estimators_rf, max_depth=train_max_depth_rf)\n",
    "\n",
    "rf.fit(X_train, y_train)\n",
    "\n",
    "# Make predictions on the validation data\n",
    "y_val_pred_rf = rf.predict(X_val)\n",
    "\n",
    "# Calculate the evaluation metrics and round to 3 decimal places\n",
    "# R squared\n",
    "val_r2_rf = round(mt.r2_score(y_val, y_val_pred_rf), 3)\n",
    "\n",
    "# MSE\n",
    "val_mse_rf = round(mt.mean_squared_error(y_val, y_val_pred_rf), 3)\n",
    "\n",
    "# RMSE\n",
    "val_rmse_rf = round(np.sqrt(val_mse_rf), 2)\n",
    "\n",
    "# MAE\n",
    "val_mae_rf = round(mt.mean_absolute_error(y_val, y_val_pred_rf), 2)\n",
    "\n",
    "# MAPE\n",
    "val_mape_rf = round(mt.mean_absolute_percentage_error(y_val, y_val_pred_rf), 2)\n",
    "\n",
    "# Display the results\n",
    "print(f\"| R²: {val_r2_rf} MSE: {val_mse_rf}, RMSE: {val_rmse_rf}, \"\n",
    "      f\"MAE: {val_mae_rf}, MAPE: {val_mape_rf}\")"
   ]
  },
  {
   "cell_type": "markdown",
   "id": "293efa15",
   "metadata": {},
   "source": [
    "### Test dataset"
   ]
  },
  {
   "cell_type": "code",
   "execution_count": 27,
   "id": "4d9639ce",
   "metadata": {},
   "outputs": [
    {
     "name": "stdout",
     "output_type": "stream",
     "text": [
      "| R²: 0.406 MSE: 289.278, RMSE: 17.01, MAE: 12.22, MAPE: 6.35\n"
     ]
    }
   ],
   "source": [
    "# Retrain the model with the best n_estimators and max_depth for the training and validation data\n",
    "rf = RandomForestRegressor(n_estimators=train_n_estimators_rf, max_depth=train_max_depth_rf)\n",
    "\n",
    "# Combine the training and validation sets for retraining\n",
    "X_train_val = pd.concat([X_train, X_val])\n",
    "y_train_val = pd.concat([y_train, y_val])\n",
    "\n",
    "# Fit the model on the combined training data\n",
    "rf.fit(X_train_val, y_train_val)\n",
    "\n",
    "# Make predictions on the test data\n",
    "y_test_pred_rf = rf.predict(X_test)\n",
    "\n",
    "# Calculate the evaluation metrics and round to 3 decimal places\n",
    "# R squared\n",
    "test_r2_rf = round(mt.r2_score(y_test, y_test_pred_rf), 3)\n",
    "\n",
    "# MSE\n",
    "test_mse_rf = round(mt.mean_squared_error(y_test, y_test_pred_rf), 3)\n",
    "\n",
    "# RMSE\n",
    "test_rmse_rf = round(np.sqrt(test_mse_rf), 2)\n",
    "\n",
    "# MAE\n",
    "test_mae_rf = round(mt.mean_absolute_error(y_test, y_test_pred_rf), 2)\n",
    "\n",
    "# MAPE\n",
    "test_mape_rf = round(mt.mean_absolute_percentage_error(y_test, y_test_pred_rf), 2)\n",
    "\n",
    "# Display the results\n",
    "print(f\"| R²: {test_r2_rf} MSE: {test_mse_rf}, RMSE: {test_rmse_rf}, \"\n",
    "      f\"MAE: {test_mae_rf}, MAPE: {test_mape_rf}\")\n"
   ]
  },
  {
   "cell_type": "markdown",
   "id": "4ae3e4b7",
   "metadata": {},
   "source": [
    "## Polynomial Regression"
   ]
  },
  {
   "cell_type": "markdown",
   "id": "1866e075",
   "metadata": {},
   "source": [
    "### Training dataset"
   ]
  },
  {
   "cell_type": "code",
   "execution_count": 29,
   "id": "41829954",
   "metadata": {},
   "outputs": [
    {
     "name": "stdout",
     "output_type": "stream",
     "text": [
      "Degree=2 | R²: 0.094, MSE: 432.986, RMSE: 20.81, MAE: 16.46, MAPE: 8.35\n",
      "Degree=3 | R²: 0.154, MSE: 404.199, RMSE: 20.1, MAE: 15.88, MAPE: 7.8\n"
     ]
    }
   ],
   "source": [
    "# Define the list of values for the polynomial degree\n",
    "pr_degree_values = np.arange(2, 4, 1)\n",
    "\n",
    "# Lists to store the results\n",
    "results_pr = []\n",
    "\n",
    "# Nested loop to test all combinations\n",
    "for degree in pr_degree_values:\n",
    "        \n",
    "    # Instantiate the Polynomial model with the current degree values\n",
    "    polynomial_model = Pipeline([\n",
    "        (\"polynomial_features\", pp.PolynomialFeatures(degree=degree)),\n",
    "        (\"linear_regression\", LinearRegression())\n",
    "    ])\n",
    "\n",
    "    # Train the model with the training data\n",
    "    polynomial_model.fit(X_train, y_train)\n",
    "\n",
    "    # Make predictions on the training data\n",
    "    y_train_pred_pr = polynomial_model.predict(X_train)\n",
    "\n",
    "    # Calculate evaluation metrics and round to 3 decimal places\n",
    "    # R squared\n",
    "    train_r2_pr = round(mt.r2_score(y_train, y_train_pred_pr), 3)\n",
    "\n",
    "    # MSE\n",
    "    train_mse_pr = round(mt.mean_squared_error(y_train, y_train_pred_pr), 3)\n",
    "\n",
    "    # RMSE\n",
    "    train_rmse_pr = round(np.sqrt(train_mse_pr), 2)\n",
    "\n",
    "    # MAE\n",
    "    train_mae_pr = round(mt.mean_absolute_error(y_train, y_train_pred_pr), 2)\n",
    "\n",
    "    # MAPE\n",
    "    train_mape_pr = round(mt.mean_absolute_percentage_error(y_train, y_train_pred_pr), 2)\n",
    "        \n",
    "    # Store the results in a list\n",
    "    results_pr.append({\n",
    "        'Degree': degree,\n",
    "        'R²': train_r2_pr,\n",
    "        'MSE': train_mse_pr,\n",
    "        'RMSE': train_rmse_pr,\n",
    "        'MAE': train_mae_pr,\n",
    "        'MAPE': train_mape_pr\n",
    "    })\n",
    "\n",
    "# Display the results\n",
    "for result in results_pr:\n",
    "    print(f\"Degree={result['Degree']} \"\n",
    "          f\"| R²: {result['R²']}, MSE: {result['MSE']}, \"\n",
    "          f\"RMSE: {result['RMSE']}, MAE: {result['MAE']}, MAPE: {result['MAPE']}\")"
   ]
  },
  {
   "cell_type": "code",
   "execution_count": 30,
   "id": "da3b9fbd",
   "metadata": {},
   "outputs": [
    {
     "name": "stdout",
     "output_type": "stream",
     "text": [
      "Best Degree=3 | R²: 0.154 MSE: 404.199, RMSE: 20.1, MAE: 15.88, MAPE: 7.8\n"
     ]
    }
   ],
   "source": [
    "# Find the result with the best metrics\n",
    "best_result_pr = max(results_pr, key=lambda x: (x['R²'], -x['MSE'], -x['RMSE'], -x['MAE'], -x['MAPE']))\n",
    "\n",
    "# Store the best degree and the corresponding metrics in variables\n",
    "train_degree_pr = best_result_pr['Degree']\n",
    "train_r2_pr = best_result_pr['R²']\n",
    "train_mse_pr = best_result_pr['MSE']\n",
    "train_rmse_pr = best_result_pr['RMSE']\n",
    "train_mae_pr = best_result_pr['MAE']\n",
    "train_mape_pr = best_result_pr['MAPE']\n",
    "\n",
    "# Display the best degree and the corresponding metrics\n",
    "print(f\"Best Degree={train_degree_pr} \"\n",
    "      f\"| R²: {train_r2_pr} MSE: {train_mse_pr}, RMSE: {train_rmse_pr}, \"\n",
    "      f\"MAE: {train_mae_pr}, MAPE: {train_mape_pr}\")"
   ]
  },
  {
   "cell_type": "markdown",
   "id": "d4b4bcd8",
   "metadata": {},
   "source": [
    "### Validation dataset"
   ]
  },
  {
   "cell_type": "code",
   "execution_count": 31,
   "id": "4c3cf8ca",
   "metadata": {},
   "outputs": [
    {
     "name": "stdout",
     "output_type": "stream",
     "text": [
      "| R²: -0.048 MSE: 500.326, RMSE: 22.37, MAE: 17.09, MAPE: 8.68\n"
     ]
    }
   ],
   "source": [
    "# Retrain the model with the best degree for the training data\n",
    "polynomial_model = Pipeline([\n",
    "    (\"polynomial_features\", pp.PolynomialFeatures(degree=train_degree_pr)),\n",
    "    (\"linear_regression\", LinearRegression())\n",
    "])\n",
    "\n",
    "polynomial_model.fit(X_train, y_train)\n",
    "\n",
    "# Make predictions on the validation data\n",
    "y_val_pred_pr = polynomial_model.predict(X_val)\n",
    "\n",
    "# Calculate evaluation metrics and round to 3 decimal places\n",
    "# R squared\n",
    "val_r2_pr = round(mt.r2_score(y_val, y_val_pred_pr), 3)\n",
    "\n",
    "# MSE\n",
    "val_mse_pr = round(mt.mean_squared_error(y_val, y_val_pred_pr), 3)\n",
    "\n",
    "# RMSE\n",
    "val_rmse_pr = round(np.sqrt(val_mse_pr), 2)\n",
    "\n",
    "# MAE\n",
    "val_mae_pr = round(mt.mean_absolute_error(y_val, y_val_pred_pr), 2)\n",
    "\n",
    "# MAPE\n",
    "val_mape_pr = round(mt.mean_absolute_percentage_error(y_val, y_val_pred_pr), 2)\n",
    "\n",
    "# Display the results\n",
    "print(f\"| R²: {val_r2_pr} MSE: {val_mse_pr}, RMSE: {val_rmse_pr}, \"\n",
    "      f\"MAE: {val_mae_pr}, MAPE: {val_mape_pr}\")"
   ]
  },
  {
   "cell_type": "markdown",
   "id": "d99219c7",
   "metadata": {},
   "source": [
    "### Test dataset"
   ]
  },
  {
   "cell_type": "code",
   "execution_count": 32,
   "id": "77724b8f",
   "metadata": {},
   "outputs": [
    {
     "name": "stdout",
     "output_type": "stream",
     "text": [
      "| R²: 0.021 MSE: 476.492, RMSE: 21.83, MAE: 16.86, MAPE: 7.98\n"
     ]
    }
   ],
   "source": [
    "# Retrain the model with the best degree for the training and validation data\n",
    "polynomial_model = Pipeline([\n",
    "    (\"polynomial_features\", pp.PolynomialFeatures(degree=train_degree_pr)),\n",
    "    (\"linear_regression\", LinearRegression())\n",
    "])\n",
    "\n",
    "X_train_val = pd.concat([X_train, X_val])\n",
    "y_train_val = pd.concat([y_train, y_val])\n",
    "\n",
    "polynomial_model.fit(X_train_val, y_train_val)\n",
    "\n",
    "# Make predictions on the test data\n",
    "y_test_pred_pr = polynomial_model.predict(X_test)\n",
    "\n",
    "# Calculate evaluation metrics and round to 3 decimal places\n",
    "# R squared\n",
    "test_r2_pr = round(mt.r2_score(y_test, y_test_pred_pr), 3)\n",
    "\n",
    "# MSE\n",
    "test_mse_pr = round(mt.mean_squared_error(y_test, y_test_pred_pr), 3)\n",
    "\n",
    "# RMSE\n",
    "test_rmse_pr = round(np.sqrt(test_mse_pr), 2)\n",
    "\n",
    "# MAE\n",
    "test_mae_pr = round(mt.mean_absolute_error(y_test, y_test_pred_pr), 2)\n",
    "\n",
    "# MAPE\n",
    "test_mape_pr = round(mt.mean_absolute_percentage_error(y_test, y_test_pred_pr), 2)\n",
    "\n",
    "# Display the results\n",
    "print(f\"| R²: {test_r2_pr} MSE: {test_mse_pr}, RMSE: {test_rmse_pr}, \"\n",
    "      f\"MAE: {test_mae_pr}, MAPE: {test_mape_pr}\")\n"
   ]
  },
  {
   "cell_type": "markdown",
   "id": "78dd156c",
   "metadata": {},
   "source": [
    "## Lasso"
   ]
  },
  {
   "cell_type": "markdown",
   "id": "9dceef15",
   "metadata": {},
   "source": [
    "### Training dataset"
   ]
  },
  {
   "cell_type": "code",
   "execution_count": 34,
   "id": "cb4d75b5",
   "metadata": {},
   "outputs": [
    {
     "name": "stdout",
     "output_type": "stream",
     "text": [
      "Degree=2, Alpha=0.0001, Max iter=100  | R²: 0.093, MSE: 433.78, RMSE: 20.83, MAE: 16.48, MAPE: 8.37\n",
      "Degree=2, Alpha=0.0001, Max iter=500  | R²: 0.094, MSE: 433.237, RMSE: 20.81, MAE: 16.47, MAPE: 8.35\n",
      "Degree=2, Alpha=0.0001, Max iter=1000  | R²: 0.094, MSE: 433.135, RMSE: 20.81, MAE: 16.46, MAPE: 8.35\n",
      "Degree=2, Alpha=0.0001, Max iter=5000  | R²: 0.094, MSE: 432.995, RMSE: 20.81, MAE: 16.46, MAPE: 8.35\n",
      "Degree=2, Alpha=0.001, Max iter=100  | R²: 0.092, MSE: 433.823, RMSE: 20.83, MAE: 16.48, MAPE: 8.38\n",
      "Degree=2, Alpha=0.001, Max iter=500  | R²: 0.093, MSE: 433.465, RMSE: 20.82, MAE: 16.47, MAPE: 8.36\n",
      "Degree=2, Alpha=0.001, Max iter=1000  | R²: 0.093, MSE: 433.419, RMSE: 20.82, MAE: 16.47, MAPE: 8.36\n",
      "Degree=2, Alpha=0.001, Max iter=5000  | R²: 0.093, MSE: 433.339, RMSE: 20.82, MAE: 16.47, MAPE: 8.37\n",
      "Degree=2, Alpha=0.01, Max iter=100  | R²: 0.087, MSE: 436.478, RMSE: 20.89, MAE: 16.54, MAPE: 8.43\n",
      "Degree=2, Alpha=0.01, Max iter=500  | R²: 0.087, MSE: 436.513, RMSE: 20.89, MAE: 16.54, MAPE: 8.43\n",
      "Degree=2, Alpha=0.01, Max iter=1000  | R²: 0.087, MSE: 436.513, RMSE: 20.89, MAE: 16.54, MAPE: 8.43\n",
      "Degree=2, Alpha=0.01, Max iter=5000  | R²: 0.087, MSE: 436.513, RMSE: 20.89, MAE: 16.54, MAPE: 8.43\n",
      "Degree=2, Alpha=0.1, Max iter=100  | R²: 0.068, MSE: 445.538, RMSE: 21.11, MAE: 16.74, MAPE: 8.56\n",
      "Degree=2, Alpha=0.1, Max iter=500  | R²: 0.068, MSE: 445.551, RMSE: 21.11, MAE: 16.74, MAPE: 8.56\n",
      "Degree=2, Alpha=0.1, Max iter=1000  | R²: 0.068, MSE: 445.551, RMSE: 21.11, MAE: 16.74, MAPE: 8.56\n",
      "Degree=2, Alpha=0.1, Max iter=5000  | R²: 0.068, MSE: 445.551, RMSE: 21.11, MAE: 16.74, MAPE: 8.56\n",
      "Degree=2, Alpha=1, Max iter=100  | R²: 0.009, MSE: 473.639, RMSE: 21.76, MAE: 17.29, MAPE: 8.7\n",
      "Degree=2, Alpha=1, Max iter=500  | R²: 0.009, MSE: 473.639, RMSE: 21.76, MAE: 17.29, MAPE: 8.7\n",
      "Degree=2, Alpha=1, Max iter=1000  | R²: 0.009, MSE: 473.639, RMSE: 21.76, MAE: 17.29, MAPE: 8.7\n",
      "Degree=2, Alpha=1, Max iter=5000  | R²: 0.009, MSE: 473.639, RMSE: 21.76, MAE: 17.29, MAPE: 8.7\n",
      "Degree=2, Alpha=10, Max iter=100  | R²: 0.0, MSE: 478.013, RMSE: 21.86, MAE: 17.37, MAPE: 8.74\n",
      "Degree=2, Alpha=10, Max iter=500  | R²: 0.0, MSE: 478.013, RMSE: 21.86, MAE: 17.37, MAPE: 8.74\n",
      "Degree=2, Alpha=10, Max iter=1000  | R²: 0.0, MSE: 478.013, RMSE: 21.86, MAE: 17.37, MAPE: 8.74\n",
      "Degree=2, Alpha=10, Max iter=5000  | R²: 0.0, MSE: 478.013, RMSE: 21.86, MAE: 17.37, MAPE: 8.74\n",
      "Degree=3, Alpha=0.0001, Max iter=100  | R²: 0.132, MSE: 414.726, RMSE: 20.36, MAE: 16.1, MAPE: 7.99\n",
      "Degree=3, Alpha=0.0001, Max iter=500  | R²: 0.143, MSE: 409.798, RMSE: 20.24, MAE: 16.01, MAPE: 7.92\n",
      "Degree=3, Alpha=0.0001, Max iter=1000  | R²: 0.146, MSE: 408.418, RMSE: 20.21, MAE: 15.98, MAPE: 7.89\n",
      "Degree=3, Alpha=0.0001, Max iter=5000  | R²: 0.149, MSE: 406.674, RMSE: 20.17, MAE: 15.94, MAPE: 7.85\n",
      "Degree=3, Alpha=0.001, Max iter=100  | R²: 0.128, MSE: 416.841, RMSE: 20.42, MAE: 16.14, MAPE: 8.07\n",
      "Degree=3, Alpha=0.001, Max iter=500  | R²: 0.135, MSE: 413.58, RMSE: 20.34, MAE: 16.08, MAPE: 8.03\n",
      "Degree=3, Alpha=0.001, Max iter=1000  | R²: 0.136, MSE: 412.913, RMSE: 20.32, MAE: 16.06, MAPE: 8.02\n",
      "Degree=3, Alpha=0.001, Max iter=5000  | R²: 0.137, MSE: 412.387, RMSE: 20.31, MAE: 16.05, MAPE: 8.02\n",
      "Degree=3, Alpha=0.01, Max iter=100  | R²: 0.109, MSE: 425.966, RMSE: 20.64, MAE: 16.32, MAPE: 8.27\n",
      "Degree=3, Alpha=0.01, Max iter=500  | R²: 0.109, MSE: 425.885, RMSE: 20.64, MAE: 16.32, MAPE: 8.26\n",
      "Degree=3, Alpha=0.01, Max iter=1000  | R²: 0.109, MSE: 425.822, RMSE: 20.64, MAE: 16.32, MAPE: 8.26\n",
      "Degree=3, Alpha=0.01, Max iter=5000  | R²: 0.109, MSE: 425.753, RMSE: 20.63, MAE: 16.31, MAPE: 8.25\n",
      "Degree=3, Alpha=0.1, Max iter=100  | R²: 0.076, MSE: 441.831, RMSE: 21.02, MAE: 16.64, MAPE: 8.49\n",
      "Degree=3, Alpha=0.1, Max iter=500  | R²: 0.076, MSE: 441.848, RMSE: 21.02, MAE: 16.65, MAPE: 8.48\n",
      "Degree=3, Alpha=0.1, Max iter=1000  | R²: 0.076, MSE: 441.848, RMSE: 21.02, MAE: 16.65, MAPE: 8.48\n",
      "Degree=3, Alpha=0.1, Max iter=5000  | R²: 0.076, MSE: 441.848, RMSE: 21.02, MAE: 16.65, MAPE: 8.48\n",
      "Degree=3, Alpha=1, Max iter=100  | R²: 0.014, MSE: 471.28, RMSE: 21.71, MAE: 17.23, MAPE: 8.65\n",
      "Degree=3, Alpha=1, Max iter=500  | R²: 0.014, MSE: 471.28, RMSE: 21.71, MAE: 17.23, MAPE: 8.65\n",
      "Degree=3, Alpha=1, Max iter=1000  | R²: 0.014, MSE: 471.28, RMSE: 21.71, MAE: 17.23, MAPE: 8.65\n",
      "Degree=3, Alpha=1, Max iter=5000  | R²: 0.014, MSE: 471.28, RMSE: 21.71, MAE: 17.23, MAPE: 8.65\n",
      "Degree=3, Alpha=10, Max iter=100  | R²: 0.0, MSE: 477.992, RMSE: 21.86, MAE: 17.37, MAPE: 8.74\n",
      "Degree=3, Alpha=10, Max iter=500  | R²: 0.0, MSE: 477.992, RMSE: 21.86, MAE: 17.37, MAPE: 8.74\n",
      "Degree=3, Alpha=10, Max iter=1000  | R²: 0.0, MSE: 477.992, RMSE: 21.86, MAE: 17.37, MAPE: 8.74\n",
      "Degree=3, Alpha=10, Max iter=5000  | R²: 0.0, MSE: 477.992, RMSE: 21.86, MAE: 17.37, MAPE: 8.74\n"
     ]
    }
   ],
   "source": [
    "# Define the lists of values for degree, alpha, and max_iter\n",
    "pr_degree_values = np.arange(2, 4, 1)\n",
    "pr_lasso_alpha_values = [0.0001, 0.001, 0.01, 0.1, 1, 10]\n",
    "pr_lasso_max_iter_values = [100, 500, 1000, 5000]\n",
    "\n",
    "# Lists to store the results\n",
    "results_pr_lasso = []\n",
    "\n",
    "# Nested loop to test all combinations\n",
    "for degree in pr_degree_values:\n",
    "    for alpha in pr_lasso_alpha_values:\n",
    "        for max_iter in pr_lasso_max_iter_values:\n",
    "        \n",
    "            # Instantiate the Polynomial with the current degree values\n",
    "            polynomial_model = Pipeline([\n",
    "                (\"polynomial_features\", pp.PolynomialFeatures(degree=degree)),\n",
    "                (\"lasso_regression\", Lasso(alpha=alpha, max_iter=max_iter))\n",
    "            ])\n",
    "\n",
    "            # Train the model with the training data\n",
    "            polynomial_model.fit(X_train, y_train)\n",
    "\n",
    "            # Make predictions on the training data\n",
    "            y_train_pred_pr_lasso = polynomial_model.predict(X_train)\n",
    "\n",
    "            # Calculate the evaluation metrics and round to 3 decimal places\n",
    "            # R squared\n",
    "            train_r2_pr_lasso = round(mt.r2_score(y_train, y_train_pred_pr_lasso), 3)\n",
    "\n",
    "            # MSE\n",
    "            train_mse_pr_lasso = round(mt.mean_squared_error(y_train, y_train_pred_pr_lasso), 3)\n",
    "\n",
    "            # RMSE\n",
    "            train_rmse_pr_lasso = round(np.sqrt(train_mse_pr_lasso), 2)\n",
    "\n",
    "            # MAE\n",
    "            train_mae_pr_lasso = round(mt.mean_absolute_error(y_train, y_train_pred_pr_lasso), 2)\n",
    "\n",
    "            # MAPE\n",
    "            train_mape_pr_lasso = round(mt.mean_absolute_percentage_error(y_train, y_train_pred_pr_lasso), 2)\n",
    "        \n",
    "            # Store the results in a list\n",
    "            results_pr_lasso.append({\n",
    "                'Degree': degree,\n",
    "                'Alpha': alpha,\n",
    "                'Max iter': max_iter,\n",
    "                'R²': train_r2_pr_lasso,\n",
    "                'MSE': train_mse_pr_lasso,\n",
    "                'RMSE': train_rmse_pr_lasso,\n",
    "                'MAE': train_mae_pr_lasso,\n",
    "                'MAPE': train_mape_pr_lasso\n",
    "            })\n",
    "\n",
    "# Display the results\n",
    "for result in results_pr_lasso:\n",
    "    print(f\"Degree={result['Degree']}, Alpha={result['Alpha']}, Max iter={result['Max iter']}  \"\n",
    "          f\"| R²: {result['R²']}, MSE: {result['MSE']}, \"\n",
    "          f\"RMSE: {result['RMSE']}, MAE: {result['MAE']}, MAPE: {result['MAPE']}\")"
   ]
  },
  {
   "cell_type": "code",
   "execution_count": 35,
   "id": "8d11df95",
   "metadata": {},
   "outputs": [
    {
     "name": "stdout",
     "output_type": "stream",
     "text": [
      "Best Degree=3, Alpha=0.0001, Max iter=5000 | R²: 0.149 MSE: 406.674, RMSE: 20.17, MAE: 15.94, MAPE: 7.85\n"
     ]
    }
   ],
   "source": [
    "# Find the result with the best metrics\n",
    "best_result_pr_lasso = max(results_pr_lasso, key=lambda x: (x['R²'], -x['MSE'], -x['RMSE'], -x['MAE'], -x['MAPE']))\n",
    "\n",
    "# Store the best degree, alpha, and max_iter and the corresponding metrics in variables\n",
    "train_degree_pr_lasso = best_result_pr_lasso['Degree']\n",
    "train_alpha_pr_lasso = best_result_pr_lasso['Alpha']\n",
    "train_max_iter_pr_lasso = best_result_pr_lasso['Max iter']\n",
    "train_r2_pr_lasso = best_result_pr_lasso['R²']\n",
    "train_mse_pr_lasso = best_result_pr_lasso['MSE']\n",
    "train_rmse_pr_lasso = best_result_pr_lasso['RMSE']\n",
    "train_mae_pr_lasso = best_result_pr_lasso['MAE']\n",
    "train_mape_pr_lasso = best_result_pr_lasso['MAPE']\n",
    "\n",
    "# Display the best value of alpha and max_iter and the corresponding metrics\n",
    "print(f\"Best Degree={train_degree_pr_lasso}, Alpha={train_alpha_pr_lasso}, Max iter={train_max_iter_pr_lasso} \"\n",
    "      f\"| R²: {train_r2_pr_lasso} MSE: {train_mse_pr_lasso}, RMSE: {train_rmse_pr_lasso}, \"\n",
    "      f\"MAE: {train_mae_pr_lasso}, MAPE: {train_mape_pr_lasso}\")"
   ]
  },
  {
   "cell_type": "markdown",
   "id": "6f52e42b",
   "metadata": {},
   "source": [
    "### Validation dataset"
   ]
  },
  {
   "cell_type": "code",
   "execution_count": 36,
   "id": "1aa809c9",
   "metadata": {},
   "outputs": [
    {
     "name": "stdout",
     "output_type": "stream",
     "text": [
      "| R²: -0.018 MSE: 486.091, RMSE: 22.05, MAE: 16.94, MAPE: 8.61\n"
     ]
    }
   ],
   "source": [
    "# Retrain the model with the best degree for the training data\n",
    "polynomial_model = Pipeline([\n",
    "    (\"polynomial_features\", pp.PolynomialFeatures(degree=train_degree_pr)),\n",
    "    (\"lasso_regression\", Lasso(alpha=train_alpha_pr_lasso, max_iter=train_max_iter_pr_lasso))\n",
    "])\n",
    "\n",
    "polynomial_model.fit(X_train, y_train)\n",
    "\n",
    "# Make predictions on the validation data\n",
    "y_val_pred_pr_lasso = polynomial_model.predict(X_val)\n",
    "\n",
    "# Calculate the evaluation metrics and round to 3 decimal places\n",
    "# R squared\n",
    "val_r2_pr_lasso = round(mt.r2_score(y_val, y_val_pred_pr_lasso), 3)\n",
    "\n",
    "# MSE\n",
    "val_mse_pr_lasso = round(mt.mean_squared_error(y_val, y_val_pred_pr_lasso), 3)\n",
    "\n",
    "# RMSE\n",
    "val_rmse_pr_lasso = round(np.sqrt(val_mse_pr_lasso), 2)\n",
    "\n",
    "# MAE\n",
    "val_mae_pr_lasso = round(mt.mean_absolute_error(y_val, y_val_pred_pr_lasso), 2)\n",
    "\n",
    "# MAPE\n",
    "val_mape_pr_lasso = round(mt.mean_absolute_percentage_error(y_val, y_val_pred_pr_lasso), 2)\n",
    "\n",
    "# Display the results\n",
    "print(f\"| R²: {val_r2_pr_lasso} MSE: {val_mse_pr_lasso}, RMSE: {val_rmse_pr_lasso}, \"\n",
    "      f\"MAE: {val_mae_pr_lasso}, MAPE: {val_mape_pr_lasso}\")"
   ]
  },
  {
   "cell_type": "markdown",
   "id": "4a3005f6",
   "metadata": {},
   "source": [
    "### Test dataset"
   ]
  },
  {
   "cell_type": "code",
   "execution_count": 37,
   "id": "3bf20889",
   "metadata": {},
   "outputs": [
    {
     "name": "stdout",
     "output_type": "stream",
     "text": [
      "| R²: 0.019 MSE: 477.474, RMSE: 21.85, MAE: 16.79, MAPE: 8.04\n"
     ]
    }
   ],
   "source": [
    "# Retrain the model with the best degree for the training and validation data\n",
    "polynomial_model = Pipeline([\n",
    "    (\"polynomial_features\", pp.PolynomialFeatures(degree=train_degree_pr)),\n",
    "    (\"lasso_regression\", Lasso(alpha=train_alpha_pr_lasso, max_iter=train_max_iter_pr_lasso))\n",
    "])\n",
    "\n",
    "polynomial_model.fit(X_train_val, y_train_val)\n",
    "\n",
    "# Make predictions on the test data\n",
    "y_test_pred_pr_lasso = polynomial_model.predict(X_test)\n",
    "\n",
    "# Calculate the evaluation metrics and round to 3 decimal places\n",
    "# R squared\n",
    "test_r2_pr_lasso = round(mt.r2_score(y_test, y_test_pred_pr_lasso), 3)\n",
    "\n",
    "# MSE\n",
    "test_mse_pr_lasso = round(mt.mean_squared_error(y_test, y_test_pred_pr_lasso), 3)\n",
    "\n",
    "# RMSE\n",
    "test_rmse_pr_lasso = round(np.sqrt(test_mse_pr_lasso), 2)\n",
    "\n",
    "# MAE\n",
    "test_mae_pr_lasso = round(mt.mean_absolute_error(y_test, y_test_pred_pr_lasso), 2)\n",
    "\n",
    "# MAPE\n",
    "test_mape_pr_lasso = round(mt.mean_absolute_percentage_error(y_test, y_test_pred_pr_lasso), 2)\n",
    "\n",
    "# Display the results\n",
    "print(f\"| R²: {test_r2_pr_lasso} MSE: {test_mse_pr_lasso}, RMSE: {test_rmse_pr_lasso}, \"\n",
    "      f\"MAE: {test_mae_pr_lasso}, MAPE: {test_mape_pr_lasso}\")"
   ]
  },
  {
   "cell_type": "markdown",
   "id": "0eaaaabb",
   "metadata": {},
   "source": [
    "## Ridge"
   ]
  },
  {
   "cell_type": "markdown",
   "id": "a2cf28e1",
   "metadata": {},
   "source": [
    "### Training dataset"
   ]
  },
  {
   "cell_type": "code",
   "execution_count": 38,
   "id": "dd7dfcfc",
   "metadata": {},
   "outputs": [
    {
     "name": "stdout",
     "output_type": "stream",
     "text": [
      "Degree=2, Alpha=0.0001, Max iter=100  | R²: 0.094, MSE: 432.986, RMSE: 20.81, MAE: 16.46, MAPE: 8.35\n",
      "Degree=2, Alpha=0.0001, Max iter=500  | R²: 0.094, MSE: 432.986, RMSE: 20.81, MAE: 16.46, MAPE: 8.35\n",
      "Degree=2, Alpha=0.0001, Max iter=1000  | R²: 0.094, MSE: 432.986, RMSE: 20.81, MAE: 16.46, MAPE: 8.35\n",
      "Degree=2, Alpha=0.0001, Max iter=5000  | R²: 0.094, MSE: 432.986, RMSE: 20.81, MAE: 16.46, MAPE: 8.35\n",
      "Degree=2, Alpha=0.001, Max iter=100  | R²: 0.094, MSE: 432.986, RMSE: 20.81, MAE: 16.46, MAPE: 8.35\n",
      "Degree=2, Alpha=0.001, Max iter=500  | R²: 0.094, MSE: 432.986, RMSE: 20.81, MAE: 16.46, MAPE: 8.35\n",
      "Degree=2, Alpha=0.001, Max iter=1000  | R²: 0.094, MSE: 432.986, RMSE: 20.81, MAE: 16.46, MAPE: 8.35\n",
      "Degree=2, Alpha=0.001, Max iter=5000  | R²: 0.094, MSE: 432.986, RMSE: 20.81, MAE: 16.46, MAPE: 8.35\n",
      "Degree=2, Alpha=0.01, Max iter=100  | R²: 0.094, MSE: 432.987, RMSE: 20.81, MAE: 16.46, MAPE: 8.35\n",
      "Degree=2, Alpha=0.01, Max iter=500  | R²: 0.094, MSE: 432.987, RMSE: 20.81, MAE: 16.46, MAPE: 8.35\n",
      "Degree=2, Alpha=0.01, Max iter=1000  | R²: 0.094, MSE: 432.987, RMSE: 20.81, MAE: 16.46, MAPE: 8.35\n",
      "Degree=2, Alpha=0.01, Max iter=5000  | R²: 0.094, MSE: 432.987, RMSE: 20.81, MAE: 16.46, MAPE: 8.35\n",
      "Degree=2, Alpha=0.1, Max iter=100  | R²: 0.094, MSE: 433.035, RMSE: 20.81, MAE: 16.46, MAPE: 8.35\n",
      "Degree=2, Alpha=0.1, Max iter=500  | R²: 0.094, MSE: 433.035, RMSE: 20.81, MAE: 16.46, MAPE: 8.35\n",
      "Degree=2, Alpha=0.1, Max iter=1000  | R²: 0.094, MSE: 433.035, RMSE: 20.81, MAE: 16.46, MAPE: 8.35\n",
      "Degree=2, Alpha=0.1, Max iter=5000  | R²: 0.094, MSE: 433.035, RMSE: 20.81, MAE: 16.46, MAPE: 8.35\n",
      "Degree=2, Alpha=1, Max iter=100  | R²: 0.093, MSE: 433.475, RMSE: 20.82, MAE: 16.47, MAPE: 8.37\n",
      "Degree=2, Alpha=1, Max iter=500  | R²: 0.093, MSE: 433.475, RMSE: 20.82, MAE: 16.47, MAPE: 8.37\n",
      "Degree=2, Alpha=1, Max iter=1000  | R²: 0.093, MSE: 433.475, RMSE: 20.82, MAE: 16.47, MAPE: 8.37\n",
      "Degree=2, Alpha=1, Max iter=5000  | R²: 0.093, MSE: 433.475, RMSE: 20.82, MAE: 16.47, MAPE: 8.37\n",
      "Degree=2, Alpha=10, Max iter=100  | R²: 0.089, MSE: 435.302, RMSE: 20.86, MAE: 16.52, MAPE: 8.42\n",
      "Degree=2, Alpha=10, Max iter=500  | R²: 0.089, MSE: 435.302, RMSE: 20.86, MAE: 16.52, MAPE: 8.42\n",
      "Degree=2, Alpha=10, Max iter=1000  | R²: 0.089, MSE: 435.302, RMSE: 20.86, MAE: 16.52, MAPE: 8.42\n",
      "Degree=2, Alpha=10, Max iter=5000  | R²: 0.089, MSE: 435.302, RMSE: 20.86, MAE: 16.52, MAPE: 8.42\n",
      "Degree=3, Alpha=0.0001, Max iter=100  | R²: 0.154, MSE: 404.201, RMSE: 20.1, MAE: 15.88, MAPE: 7.8\n",
      "Degree=3, Alpha=0.0001, Max iter=500  | R²: 0.154, MSE: 404.201, RMSE: 20.1, MAE: 15.88, MAPE: 7.8\n",
      "Degree=3, Alpha=0.0001, Max iter=1000  | R²: 0.154, MSE: 404.201, RMSE: 20.1, MAE: 15.88, MAPE: 7.8\n",
      "Degree=3, Alpha=0.0001, Max iter=5000  | R²: 0.154, MSE: 404.201, RMSE: 20.1, MAE: 15.88, MAPE: 7.8\n",
      "Degree=3, Alpha=0.001, Max iter=100  | R²: 0.154, MSE: 404.271, RMSE: 20.11, MAE: 15.89, MAPE: 7.81\n",
      "Degree=3, Alpha=0.001, Max iter=500  | R²: 0.154, MSE: 404.271, RMSE: 20.11, MAE: 15.89, MAPE: 7.81\n",
      "Degree=3, Alpha=0.001, Max iter=1000  | R²: 0.154, MSE: 404.271, RMSE: 20.11, MAE: 15.89, MAPE: 7.81\n",
      "Degree=3, Alpha=0.001, Max iter=5000  | R²: 0.154, MSE: 404.271, RMSE: 20.11, MAE: 15.89, MAPE: 7.81\n",
      "Degree=3, Alpha=0.01, Max iter=100  | R²: 0.153, MSE: 405.036, RMSE: 20.13, MAE: 15.91, MAPE: 7.84\n",
      "Degree=3, Alpha=0.01, Max iter=500  | R²: 0.153, MSE: 405.036, RMSE: 20.13, MAE: 15.91, MAPE: 7.84\n",
      "Degree=3, Alpha=0.01, Max iter=1000  | R²: 0.153, MSE: 405.036, RMSE: 20.13, MAE: 15.91, MAPE: 7.84\n",
      "Degree=3, Alpha=0.01, Max iter=5000  | R²: 0.153, MSE: 405.036, RMSE: 20.13, MAE: 15.91, MAPE: 7.84\n",
      "Degree=3, Alpha=0.1, Max iter=100  | R²: 0.147, MSE: 407.622, RMSE: 20.19, MAE: 15.96, MAPE: 7.91\n",
      "Degree=3, Alpha=0.1, Max iter=500  | R²: 0.147, MSE: 407.622, RMSE: 20.19, MAE: 15.96, MAPE: 7.91\n",
      "Degree=3, Alpha=0.1, Max iter=1000  | R²: 0.147, MSE: 407.622, RMSE: 20.19, MAE: 15.96, MAPE: 7.91\n",
      "Degree=3, Alpha=0.1, Max iter=5000  | R²: 0.147, MSE: 407.622, RMSE: 20.19, MAE: 15.96, MAPE: 7.91\n",
      "Degree=3, Alpha=1, Max iter=100  | R²: 0.135, MSE: 413.4, RMSE: 20.33, MAE: 16.07, MAPE: 8.04\n",
      "Degree=3, Alpha=1, Max iter=500  | R²: 0.135, MSE: 413.4, RMSE: 20.33, MAE: 16.07, MAPE: 8.04\n",
      "Degree=3, Alpha=1, Max iter=1000  | R²: 0.135, MSE: 413.4, RMSE: 20.33, MAE: 16.07, MAPE: 8.04\n",
      "Degree=3, Alpha=1, Max iter=5000  | R²: 0.135, MSE: 413.4, RMSE: 20.33, MAE: 16.07, MAPE: 8.04\n",
      "Degree=3, Alpha=10, Max iter=100  | R²: 0.121, MSE: 420.335, RMSE: 20.5, MAE: 16.2, MAPE: 8.15\n",
      "Degree=3, Alpha=10, Max iter=500  | R²: 0.121, MSE: 420.335, RMSE: 20.5, MAE: 16.2, MAPE: 8.15\n",
      "Degree=3, Alpha=10, Max iter=1000  | R²: 0.121, MSE: 420.335, RMSE: 20.5, MAE: 16.2, MAPE: 8.15\n",
      "Degree=3, Alpha=10, Max iter=5000  | R²: 0.121, MSE: 420.335, RMSE: 20.5, MAE: 16.2, MAPE: 8.15\n"
     ]
    }
   ],
   "source": [
    "# Define the lists of values for degree, alpha, and max_iter\n",
    "pr_degree_values = np.arange(2, 4, 1)\n",
    "pr_ridge_alpha_values = [0.0001, 0.001, 0.01, 0.1, 1, 10]\n",
    "pr_ridge_max_iter_values = [100, 500, 1000, 5000]\n",
    "\n",
    "# Lists to store the results\n",
    "results_pr_ridge = []\n",
    "\n",
    "# Nested loop to test all combinations\n",
    "for degree in pr_degree_values:\n",
    "    for alpha in pr_ridge_alpha_values:\n",
    "        for max_iter in pr_ridge_max_iter_values:\n",
    "        \n",
    "            # Instantiate the Polynomial model with the current degree values\n",
    "            polynomial_model = Pipeline([\n",
    "                (\"polynomial_features\", pp.PolynomialFeatures(degree=degree)),\n",
    "                (\"ridge_regression\", Ridge(alpha=alpha, max_iter=max_iter))\n",
    "            ])\n",
    "\n",
    "            # Train the model with the training data\n",
    "            polynomial_model.fit(X_train, y_train)\n",
    "\n",
    "            # Make predictions on the training data\n",
    "            y_train_pred_pr_ridge = polynomial_model.predict(X_train)\n",
    "\n",
    "            # Calculate the evaluation metrics and round to 3 decimal places\n",
    "            # R squared\n",
    "            train_r2_pr_ridge = round(mt.r2_score(y_train, y_train_pred_pr_ridge), 3)\n",
    "\n",
    "            # MSE\n",
    "            train_mse_pr_ridge = round(mt.mean_squared_error(y_train, y_train_pred_pr_ridge), 3)\n",
    "\n",
    "            # RMSE\n",
    "            train_rmse_pr_ridge = round(np.sqrt(train_mse_pr_ridge), 2)\n",
    "\n",
    "            # MAE\n",
    "            train_mae_pr_ridge = round(mt.mean_absolute_error(y_train, y_train_pred_pr_ridge), 2)\n",
    "\n",
    "            # MAPE\n",
    "            train_mape_pr_ridge = round(mt.mean_absolute_percentage_error(y_train, y_train_pred_pr_ridge), 2)\n",
    "        \n",
    "            # Store the results in a list\n",
    "            results_pr_ridge.append({\n",
    "                'Degree': degree,\n",
    "                'Alpha': alpha,\n",
    "                'Max iter': max_iter,\n",
    "                'R²': train_r2_pr_ridge,\n",
    "                'MSE': train_mse_pr_ridge,\n",
    "                'RMSE': train_rmse_pr_ridge,\n",
    "                'MAE': train_mae_pr_ridge,\n",
    "                'MAPE': train_mape_pr_ridge\n",
    "            })\n",
    "\n",
    "# Display the results\n",
    "for result in results_pr_ridge:\n",
    "    print(f\"Degree={result['Degree']}, Alpha={result['Alpha']}, Max iter={result['Max iter']}  \"\n",
    "          f\"| R²: {result['R²']}, MSE: {result['MSE']}, \"\n",
    "          f\"RMSE: {result['RMSE']}, MAE: {result['MAE']}, MAPE: {result['MAPE']}\")"
   ]
  },
  {
   "cell_type": "code",
   "execution_count": 39,
   "id": "8d2d17c9",
   "metadata": {},
   "outputs": [
    {
     "name": "stdout",
     "output_type": "stream",
     "text": [
      "Best Degree=3, Alpha=0.0001, Max iter=100 | R²: 0.154 MSE: 404.201, RMSE: 20.1, MAE: 15.88, MAPE: 7.8\n"
     ]
    }
   ],
   "source": [
    "# Find the result with the best metrics\n",
    "best_result_pr_ridge = max(results_pr_ridge, key=lambda x: (x['R²'], -x['MSE'], -x['RMSE'], -x['MAE'], -x['MAPE']))\n",
    "\n",
    "# Store the best degree, alpha, and max_iter along with the corresponding metrics in variables\n",
    "train_degree_pr_ridge = best_result_pr_ridge['Degree']\n",
    "train_alpha_pr_ridge = best_result_pr_ridge['Alpha']\n",
    "train_max_iter_pr_ridge = best_result_pr_ridge['Max iter']\n",
    "train_r2_pr_ridge = best_result_pr_ridge['R²']\n",
    "train_mse_pr_ridge = best_result_pr_ridge['MSE']\n",
    "train_rmse_pr_ridge = best_result_pr_ridge['RMSE']\n",
    "train_mae_pr_ridge = best_result_pr_ridge['MAE']\n",
    "train_mape_pr_ridge = best_result_pr_ridge['MAPE']\n",
    "\n",
    "# Display the best values of alpha and max_iter along with the corresponding metrics\n",
    "print(f\"Best Degree={train_degree_pr_ridge}, Alpha={train_alpha_pr_ridge}, Max iter={train_max_iter_pr_ridge} \"\n",
    "      f\"| R²: {train_r2_pr_ridge} MSE: {train_mse_pr_ridge}, RMSE: {train_rmse_pr_ridge}, \"\n",
    "      f\"MAE: {train_mae_pr_ridge}, MAPE: {train_mape_pr_ridge}\")"
   ]
  },
  {
   "cell_type": "markdown",
   "id": "1d429f88",
   "metadata": {},
   "source": [
    "### Validation dataset"
   ]
  },
  {
   "cell_type": "code",
   "execution_count": 40,
   "id": "52bba0bc",
   "metadata": {},
   "outputs": [
    {
     "name": "stdout",
     "output_type": "stream",
     "text": [
      "| R²: -0.046 MSE: 499.539, RMSE: 22.35, MAE: 17.08, MAPE: 8.68\n"
     ]
    }
   ],
   "source": [
    "# Retrain the model with the best degree for the training data\n",
    "polynomial_model = Pipeline([\n",
    "    (\"polynomial_features\", pp.PolynomialFeatures(degree=train_degree_pr)),\n",
    "    (\"ridge_regression\", Ridge(alpha=train_alpha_pr_ridge, max_iter=train_max_iter_pr_ridge))\n",
    "])\n",
    "\n",
    "polynomial_model.fit(X_train, y_train)\n",
    "\n",
    "# Make predictions on the validation data\n",
    "y_val_pred_pr_ridge = polynomial_model.predict(X_val)\n",
    "\n",
    "# Calculate evaluation metrics and round to 3 decimal places\n",
    "# R squared\n",
    "val_r2_pr_ridge = round(mt.r2_score(y_val, y_val_pred_pr_ridge), 3)\n",
    "\n",
    "# MSE\n",
    "val_mse_pr_ridge = round(mt.mean_squared_error(y_val, y_val_pred_pr_ridge), 3)\n",
    "\n",
    "# RMSE\n",
    "val_rmse_pr_ridge = round(np.sqrt(val_mse_pr_ridge), 2)\n",
    "\n",
    "# MAE\n",
    "val_mae_pr_ridge = round(mt.mean_absolute_error(y_val, y_val_pred_pr_ridge), 2)\n",
    "\n",
    "# MAPE\n",
    "val_mape_pr_ridge = round(mt.mean_absolute_percentage_error(y_val, y_val_pred_pr_ridge), 2)\n",
    "\n",
    "# Display the results\n",
    "print(f\"| R²: {val_r2_pr_ridge} MSE: {val_mse_pr_ridge}, RMSE: {val_rmse_pr_ridge}, \"\n",
    "      f\"MAE: {val_mae_pr_ridge}, MAPE: {val_mape_pr_ridge}\")"
   ]
  },
  {
   "cell_type": "markdown",
   "id": "f571e858",
   "metadata": {},
   "source": [
    "### Test dataset"
   ]
  },
  {
   "cell_type": "code",
   "execution_count": 41,
   "id": "cafc1729",
   "metadata": {},
   "outputs": [
    {
     "name": "stdout",
     "output_type": "stream",
     "text": [
      "| R²: 0.021 MSE: 476.532, RMSE: 21.83, MAE: 16.86, MAPE: 7.98\n"
     ]
    }
   ],
   "source": [
    "# Retrain the model with the best degree for the training and validation data\n",
    "polynomial_model = Pipeline([\n",
    "    (\"polynomial_features\", pp.PolynomialFeatures(degree=train_degree_pr)),\n",
    "    (\"ridge_regression\", Ridge(alpha=train_alpha_pr_ridge, max_iter=train_max_iter_pr_ridge))\n",
    "])\n",
    "\n",
    "X_train_val = pd.concat([X_train, X_val])  # Combine training and validation data\n",
    "y_train_val = pd.concat([y_train, y_val])  # Combine training and validation targets\n",
    "\n",
    "polynomial_model.fit(X_train_val, y_train_val)  # Train the model with combined data\n",
    "\n",
    "# Make predictions on the test data\n",
    "y_test_pred_pr_ridge = polynomial_model.predict(X_test)\n",
    "\n",
    "# Calculate evaluation metrics and round to 3 decimal places\n",
    "# R squared\n",
    "test_r2_pr_ridge = round(mt.r2_score(y_test, y_test_pred_pr_ridge), 3)\n",
    "\n",
    "# MSE\n",
    "test_mse_pr_ridge = round(mt.mean_squared_error(y_test, y_test_pred_pr_ridge), 3)\n",
    "\n",
    "# RMSE\n",
    "test_rmse_pr_ridge = round(np.sqrt(test_mse_pr_ridge), 2)\n",
    "\n",
    "# MAE\n",
    "test_mae_pr_ridge = round(mt.mean_absolute_error(y_test, y_test_pred_pr_ridge), 2)\n",
    "\n",
    "# MAPE\n",
    "test_mape_pr_ridge = round(mt.mean_absolute_percentage_error(y_test, y_test_pred_pr_ridge), 2)\n",
    "\n",
    "# Display the results\n",
    "print(f\"| R²: {test_r2_pr_ridge} MSE: {test_mse_pr_ridge}, RMSE: {test_rmse_pr_ridge}, \"\n",
    "      f\"MAE: {test_mae_pr_ridge}, MAPE: {test_mape_pr_ridge}\")"
   ]
  },
  {
   "cell_type": "markdown",
   "id": "3493e370",
   "metadata": {},
   "source": [
    "## Elastic Net"
   ]
  },
  {
   "cell_type": "markdown",
   "id": "24d9d0af",
   "metadata": {},
   "source": [
    "### Training dataset"
   ]
  },
  {
   "cell_type": "code",
   "execution_count": 42,
   "id": "b95cb91e",
   "metadata": {},
   "outputs": [
    {
     "name": "stdout",
     "output_type": "stream",
     "text": [
      "Degree=2, Alpha=0.0001, Max iter=100  | R²: 0.093, MSE: 433.784, RMSE: 20.83, MAE: 16.48, MAPE: 8.37\n",
      "Degree=2, Alpha=0.0001, Max iter=500  | R²: 0.093, MSE: 433.373, RMSE: 20.82, MAE: 16.47, MAPE: 8.37\n",
      "Degree=2, Alpha=0.0001, Max iter=1000  | R²: 0.093, MSE: 433.32, RMSE: 20.82, MAE: 16.47, MAPE: 8.37\n",
      "Degree=2, Alpha=0.0001, Max iter=5000  | R²: 0.094, MSE: 433.3, RMSE: 20.82, MAE: 16.47, MAPE: 8.37\n",
      "Degree=2, Alpha=0.001, Max iter=100  | R²: 0.091, MSE: 434.732, RMSE: 20.85, MAE: 16.5, MAPE: 8.41\n",
      "Degree=2, Alpha=0.001, Max iter=500  | R²: 0.091, MSE: 434.634, RMSE: 20.85, MAE: 16.5, MAPE: 8.4\n",
      "Degree=2, Alpha=0.001, Max iter=1000  | R²: 0.091, MSE: 434.638, RMSE: 20.85, MAE: 16.5, MAPE: 8.4\n",
      "Degree=2, Alpha=0.001, Max iter=5000  | R²: 0.091, MSE: 434.638, RMSE: 20.85, MAE: 16.5, MAPE: 8.4\n",
      "Degree=2, Alpha=0.01, Max iter=100  | R²: 0.081, MSE: 439.335, RMSE: 20.96, MAE: 16.61, MAPE: 8.47\n",
      "Degree=2, Alpha=0.01, Max iter=500  | R²: 0.081, MSE: 439.326, RMSE: 20.96, MAE: 16.61, MAPE: 8.47\n",
      "Degree=2, Alpha=0.01, Max iter=1000  | R²: 0.081, MSE: 439.326, RMSE: 20.96, MAE: 16.61, MAPE: 8.47\n",
      "Degree=2, Alpha=0.01, Max iter=5000  | R²: 0.081, MSE: 439.326, RMSE: 20.96, MAE: 16.61, MAPE: 8.47\n",
      "Degree=2, Alpha=0.1, Max iter=100  | R²: 0.061, MSE: 448.789, RMSE: 21.18, MAE: 16.8, MAPE: 8.56\n",
      "Degree=2, Alpha=0.1, Max iter=500  | R²: 0.061, MSE: 448.789, RMSE: 21.18, MAE: 16.8, MAPE: 8.56\n",
      "Degree=2, Alpha=0.1, Max iter=1000  | R²: 0.061, MSE: 448.789, RMSE: 21.18, MAE: 16.8, MAPE: 8.56\n",
      "Degree=2, Alpha=0.1, Max iter=5000  | R²: 0.061, MSE: 448.789, RMSE: 21.18, MAE: 16.8, MAPE: 8.56\n",
      "Degree=2, Alpha=1, Max iter=100  | R²: 0.013, MSE: 471.878, RMSE: 21.72, MAE: 17.24, MAPE: 8.68\n",
      "Degree=2, Alpha=1, Max iter=500  | R²: 0.013, MSE: 471.878, RMSE: 21.72, MAE: 17.24, MAPE: 8.68\n",
      "Degree=2, Alpha=1, Max iter=1000  | R²: 0.013, MSE: 471.878, RMSE: 21.72, MAE: 17.24, MAPE: 8.68\n",
      "Degree=2, Alpha=1, Max iter=5000  | R²: 0.013, MSE: 471.878, RMSE: 21.72, MAE: 17.24, MAPE: 8.68\n",
      "Degree=2, Alpha=10, Max iter=100  | R²: 0.0, MSE: 478.013, RMSE: 21.86, MAE: 17.37, MAPE: 8.74\n",
      "Degree=2, Alpha=10, Max iter=500  | R²: 0.0, MSE: 478.013, RMSE: 21.86, MAE: 17.37, MAPE: 8.74\n",
      "Degree=2, Alpha=10, Max iter=1000  | R²: 0.0, MSE: 478.013, RMSE: 21.86, MAE: 17.37, MAPE: 8.74\n",
      "Degree=2, Alpha=10, Max iter=5000  | R²: 0.0, MSE: 478.013, RMSE: 21.86, MAE: 17.37, MAPE: 8.74\n",
      "Degree=3, Alpha=0.0001, Max iter=100  | R²: 0.129, MSE: 416.11, RMSE: 20.4, MAE: 16.13, MAPE: 8.06\n",
      "Degree=3, Alpha=0.0001, Max iter=500  | R²: 0.136, MSE: 412.93, RMSE: 20.32, MAE: 16.06, MAPE: 8.02\n",
      "Degree=3, Alpha=0.0001, Max iter=1000  | R²: 0.137, MSE: 412.331, RMSE: 20.31, MAE: 16.05, MAPE: 8.01\n",
      "Degree=3, Alpha=0.0001, Max iter=5000  | R²: 0.139, MSE: 411.775, RMSE: 20.29, MAE: 16.04, MAPE: 8.01\n",
      "Degree=3, Alpha=0.001, Max iter=100  | R²: 0.121, MSE: 420.245, RMSE: 20.5, MAE: 16.21, MAPE: 8.16\n",
      "Degree=3, Alpha=0.001, Max iter=500  | R²: 0.123, MSE: 419.25, RMSE: 20.48, MAE: 16.18, MAPE: 8.14\n",
      "Degree=3, Alpha=0.001, Max iter=1000  | R²: 0.123, MSE: 419.205, RMSE: 20.47, MAE: 16.18, MAPE: 8.14\n",
      "Degree=3, Alpha=0.001, Max iter=5000  | R²: 0.123, MSE: 419.137, RMSE: 20.47, MAE: 16.18, MAPE: 8.13\n",
      "Degree=3, Alpha=0.01, Max iter=100  | R²: 0.104, MSE: 428.317, RMSE: 20.7, MAE: 16.37, MAPE: 8.3\n",
      "Degree=3, Alpha=0.01, Max iter=500  | R²: 0.104, MSE: 428.129, RMSE: 20.69, MAE: 16.36, MAPE: 8.3\n",
      "Degree=3, Alpha=0.01, Max iter=1000  | R²: 0.105, MSE: 428.033, RMSE: 20.69, MAE: 16.36, MAPE: 8.29\n",
      "Degree=3, Alpha=0.01, Max iter=5000  | R²: 0.105, MSE: 428.005, RMSE: 20.69, MAE: 16.36, MAPE: 8.28\n",
      "Degree=3, Alpha=0.1, Max iter=100  | R²: 0.075, MSE: 442.01, RMSE: 21.02, MAE: 16.64, MAPE: 8.47\n",
      "Degree=3, Alpha=0.1, Max iter=500  | R²: 0.075, MSE: 441.952, RMSE: 21.02, MAE: 16.64, MAPE: 8.47\n",
      "Degree=3, Alpha=0.1, Max iter=1000  | R²: 0.075, MSE: 441.952, RMSE: 21.02, MAE: 16.64, MAPE: 8.47\n",
      "Degree=3, Alpha=0.1, Max iter=5000  | R²: 0.075, MSE: 441.952, RMSE: 21.02, MAE: 16.64, MAPE: 8.47\n",
      "Degree=3, Alpha=1, Max iter=100  | R²: 0.018, MSE: 469.323, RMSE: 21.66, MAE: 17.19, MAPE: 8.61\n",
      "Degree=3, Alpha=1, Max iter=500  | R²: 0.018, MSE: 469.323, RMSE: 21.66, MAE: 17.19, MAPE: 8.61\n",
      "Degree=3, Alpha=1, Max iter=1000  | R²: 0.018, MSE: 469.323, RMSE: 21.66, MAE: 17.19, MAPE: 8.61\n",
      "Degree=3, Alpha=1, Max iter=5000  | R²: 0.018, MSE: 469.323, RMSE: 21.66, MAE: 17.19, MAPE: 8.61\n",
      "Degree=3, Alpha=10, Max iter=100  | R²: 0.0, MSE: 477.98, RMSE: 21.86, MAE: 17.37, MAPE: 8.74\n",
      "Degree=3, Alpha=10, Max iter=500  | R²: 0.0, MSE: 477.98, RMSE: 21.86, MAE: 17.37, MAPE: 8.74\n",
      "Degree=3, Alpha=10, Max iter=1000  | R²: 0.0, MSE: 477.98, RMSE: 21.86, MAE: 17.37, MAPE: 8.74\n",
      "Degree=3, Alpha=10, Max iter=5000  | R²: 0.0, MSE: 477.98, RMSE: 21.86, MAE: 17.37, MAPE: 8.74\n"
     ]
    }
   ],
   "source": [
    "# Define the lists of values for degree, alpha, and max_iter\n",
    "pr_degree_values = np.arange(2, 4, 1)  # Degrees to test\n",
    "pr_elastic_alpha_values = [0.0001, 0.001, 0.01, 0.1, 1, 10]  # Alpha values for ElasticNet\n",
    "pr_elastic_max_iter_values = [100, 500, 1000, 5000]  # Maximum iterations for ElasticNet\n",
    "\n",
    "# Lists to store the results\n",
    "results_pr_elastic = []\n",
    "\n",
    "# Nested loop to test all combinations\n",
    "for degree in pr_degree_values:\n",
    "    for alpha in pr_elastic_alpha_values:\n",
    "        for max_iter in pr_elastic_max_iter_values:\n",
    "        \n",
    "            # Instantiate the polynomial model with the current degree values\n",
    "            polynomial_model = Pipeline([\n",
    "                (\"polynomial_features\", pp.PolynomialFeatures(degree=degree)),\n",
    "                (\"elastic_regression\", ElasticNet(alpha=alpha, max_iter=max_iter))\n",
    "            ])\n",
    "\n",
    "            # Train the model with the training data\n",
    "            polynomial_model.fit(X_train, y_train)\n",
    "\n",
    "            # Make predictions on the training data\n",
    "            y_train_pred_pr_elastic = polynomial_model.predict(X_train)\n",
    "\n",
    "            # Calculate evaluation metrics and round to 3 decimal places\n",
    "            # R squared\n",
    "            train_r2_pr_elastic = round(mt.r2_score(y_train, y_train_pred_pr_elastic), 3)\n",
    "\n",
    "            # MSE\n",
    "            train_mse_pr_elastic = round(mt.mean_squared_error(y_train, y_train_pred_pr_elastic), 3)\n",
    "\n",
    "            # RMSE\n",
    "            train_rmse_pr_elastic = round(np.sqrt(train_mse_pr_elastic), 2)\n",
    "\n",
    "            # MAE\n",
    "            train_mae_pr_elastic = round(mt.mean_absolute_error(y_train, y_train_pred_pr_elastic), 2)\n",
    "\n",
    "            # MAPE\n",
    "            train_mape_pr_elastic = round(mt.mean_absolute_percentage_error(y_train, y_train_pred_pr_elastic), 2)\n",
    "        \n",
    "            # Store the results in a list\n",
    "            results_pr_elastic.append({\n",
    "                'Degree': degree,\n",
    "                'Alpha': alpha,\n",
    "                'Max iter': max_iter,\n",
    "                'R²': train_r2_pr_elastic,\n",
    "                'MSE': train_mse_pr_elastic,\n",
    "                'RMSE': train_rmse_pr_elastic,\n",
    "                'MAE': train_mae_pr_elastic,\n",
    "                'MAPE': train_mape_pr_elastic\n",
    "            })\n",
    "\n",
    "# Display the results\n",
    "for result in results_pr_elastic:\n",
    "    print(f\"Degree={result['Degree']}, Alpha={result['Alpha']}, Max iter={result['Max iter']}  \"\n",
    "          f\"| R²: {result['R²']}, MSE: {result['MSE']}, \"\n",
    "          f\"RMSE: {result['RMSE']}, MAE: {result['MAE']}, MAPE: {result['MAPE']}\")"
   ]
  },
  {
   "cell_type": "code",
   "execution_count": 43,
   "id": "1eea2cb3",
   "metadata": {},
   "outputs": [
    {
     "name": "stdout",
     "output_type": "stream",
     "text": [
      "Best Degree=3, Alpha=0.0001, Max iter=5000 | R²: 0.139 MSE: 411.775, RMSE: 20.29, MAE: 16.04, MAPE: 8.01\n"
     ]
    }
   ],
   "source": [
    "# Find the result with the best metrics\n",
    "best_result_pr_elastic = max(results_pr_elastic, key=lambda x: (x['R²'], -x['MSE'], -x['RMSE'], -x['MAE'], -x['MAPE']))\n",
    "\n",
    "# Store the best degree, alpha, and max_iter, along with the corresponding metrics in variables\n",
    "train_degree_pr_elastic = best_result_pr_elastic['Degree']\n",
    "train_alpha_pr_elastic = best_result_pr_elastic['Alpha']\n",
    "train_max_iter_pr_elastic = best_result_pr_elastic['Max iter']\n",
    "train_r2_pr_elastic = best_result_pr_elastic['R²']\n",
    "train_mse_pr_elastic = best_result_pr_elastic['MSE']\n",
    "train_rmse_pr_elastic = best_result_pr_elastic['RMSE']\n",
    "train_mae_pr_elastic = best_result_pr_elastic['MAE']\n",
    "train_mape_pr_elastic = best_result_pr_elastic['MAPE']\n",
    "\n",
    "# Display the best alpha, max_iter, and corresponding metrics\n",
    "print(f\"Best Degree={train_degree_pr_elastic}, Alpha={train_alpha_pr_elastic}, Max iter={train_max_iter_pr_elastic} \"\n",
    "      f\"| R²: {train_r2_pr_elastic} MSE: {train_mse_pr_elastic}, RMSE: {train_rmse_pr_elastic}, \"\n",
    "      f\"MAE: {train_mae_pr_elastic}, MAPE: {train_mape_pr_elastic}\")"
   ]
  },
  {
   "cell_type": "markdown",
   "id": "31a9ff24",
   "metadata": {},
   "source": [
    "### Validation dataset"
   ]
  },
  {
   "cell_type": "code",
   "execution_count": 44,
   "id": "7b214cc7",
   "metadata": {},
   "outputs": [
    {
     "name": "stdout",
     "output_type": "stream",
     "text": [
      "| R²: -0.08 MSE: 515.533, RMSE: 22.71, MAE: 16.9, MAPE: 8.56\n"
     ]
    }
   ],
   "source": [
    "# Retrain the model with the best degree for the training data\n",
    "polynomial_model = Pipeline([\n",
    "    (\"polynomial_features\", pp.PolynomialFeatures(degree=train_degree_pr_elastic)),\n",
    "    (\"elastic_regression\", ElasticNet(alpha=train_alpha_pr_elastic, max_iter=train_max_iter_pr_elastic))\n",
    "])\n",
    "\n",
    "polynomial_model.fit(X_train, y_train)\n",
    "\n",
    "# Make predictions on the validation data\n",
    "y_val_pred_pr_elastic = polynomial_model.predict(X_val)\n",
    "\n",
    "# Calculate evaluation metrics and round to 3 decimal places\n",
    "# R squared\n",
    "val_r2_pr_elastic = round(mt.r2_score(y_val, y_val_pred_pr_elastic), 3)\n",
    "\n",
    "# MSE\n",
    "val_mse_pr_elastic = round(mt.mean_squared_error(y_val, y_val_pred_pr_elastic), 3)\n",
    "\n",
    "# RMSE\n",
    "val_rmse_pr_elastic = round(np.sqrt(val_mse_pr_elastic), 2)\n",
    "\n",
    "# MAE\n",
    "val_mae_pr_elastic = round(mt.mean_absolute_error(y_val, y_val_pred_pr_elastic), 2)\n",
    "\n",
    "# MAPE\n",
    "val_mape_pr_elastic = round(mt.mean_absolute_percentage_error(y_val, y_val_pred_pr_elastic), 2)\n",
    "\n",
    "# Display the results\n",
    "print(f\"| R²: {val_r2_pr_elastic} MSE: {val_mse_pr_elastic}, RMSE: {val_rmse_pr_elastic}, \"\n",
    "      f\"MAE: {val_mae_pr_elastic}, MAPE: {val_mape_pr_elastic}\")"
   ]
  },
  {
   "cell_type": "markdown",
   "id": "989e3c00",
   "metadata": {},
   "source": [
    "### Test dataset"
   ]
  },
  {
   "cell_type": "code",
   "execution_count": 45,
   "id": "5a9414bb",
   "metadata": {},
   "outputs": [
    {
     "name": "stdout",
     "output_type": "stream",
     "text": [
      "| R²: 0.019 MSE: 477.861, RMSE: 21.86, MAE: 16.75, MAPE: 8.14\n"
     ]
    }
   ],
   "source": [
    "# Retrain the model with the best degree for the training and validation data\n",
    "polynomial_model = Pipeline([\n",
    "    (\"polynomial_features\", pp.PolynomialFeatures(degree=train_degree_pr_elastic)),\n",
    "    (\"elastic_regression\", ElasticNet(alpha=train_alpha_pr_elastic, max_iter=train_max_iter_pr_elastic))\n",
    "])\n",
    "\n",
    "# Concatenate training and validation datasets\n",
    "X_train_val = pd.concat([X_train, X_val])\n",
    "y_train_val = pd.concat([y_train, y_val])\n",
    "\n",
    "# Fit the model\n",
    "polynomial_model.fit(X_train_val, y_train_val)\n",
    "\n",
    "# Make predictions on the test data\n",
    "y_test_pred_pr_elastic = polynomial_model.predict(X_test)\n",
    "\n",
    "# Calculate evaluation metrics and round to 3 decimal places\n",
    "# R squared\n",
    "test_r2_pr_elastic = round(mt.r2_score(y_test, y_test_pred_pr_elastic), 3)\n",
    "\n",
    "# MSE\n",
    "test_mse_pr_elastic = round(mt.mean_squared_error(y_test, y_test_pred_pr_elastic), 3)\n",
    "\n",
    "# RMSE\n",
    "test_rmse_pr_elastic = round(np.sqrt(test_mse_pr_elastic), 2)\n",
    "\n",
    "# MAE\n",
    "test_mae_pr_elastic = round(mt.mean_absolute_error(y_test, y_test_pred_pr_elastic), 2)\n",
    "\n",
    "# MAPE\n",
    "test_mape_pr_elastic = round(mt.mean_absolute_percentage_error(y_test, y_test_pred_pr_elastic), 2)\n",
    "\n",
    "# Display the results\n",
    "print(f\"| R²: {test_r2_pr_elastic} MSE: {test_mse_pr_elastic}, RMSE: {test_rmse_pr_elastic}, \"\n",
    "      f\"MAE: {test_mae_pr_elastic}, MAPE: {test_mape_pr_elastic}\")"
   ]
  },
  {
   "cell_type": "markdown",
   "id": "1723b99c",
   "metadata": {},
   "source": [
    "## Generating image for all regression experiments"
   ]
  },
  {
   "cell_type": "markdown",
   "id": "67900169",
   "metadata": {},
   "source": [
    "### Training dataset"
   ]
  },
  {
   "cell_type": "code",
   "execution_count": 46,
   "id": "2e222a90",
   "metadata": {},
   "outputs": [
    {
     "data": {
      "image/png": "[encoded data removed]",
      "text/plain": [
       "<Figure size 1600x400 with 1 Axes>"
      ]
     },
     "metadata": {},
     "output_type": "display_data"
    }
   ],
   "source": [
    "# Training data for each algorithm\n",
    "train_algorithms = ['Linear Regression', 'Decision Tree Regressor', 'Random Forest Regressor', 'Polynomial Regression', \n",
    "                   'Linear Regression Lasso', 'Linear Regression Ridge', 'Linear Regression Elastic Net',\n",
    "                    'Polynomial Regression Lasso', 'Polynomial Regression Ridge', 'Polynomial Regression Elastic Net']\n",
    "\n",
    "train_r2 = [train_r2_lr, train_r2_tree, train_r2_rf, train_r2_pr, train_r2_lr_lasso, train_r2_lr_ridge, train_r2_lr_elastic,\n",
    "            train_r2_pr_lasso, train_r2_pr_ridge, train_r2_pr_elastic]\n",
    "\n",
    "train_mse = [train_mse_lr, train_mse_tree, train_mse_rf, train_mse_pr, train_mse_lr_lasso, train_mse_lr_ridge, train_mse_lr_elastic,\n",
    "             train_mse_pr_lasso, train_mse_pr_ridge, train_mse_pr_elastic]\n",
    "\n",
    "train_rmse = [train_rmse_lr, train_rmse_tree, train_rmse_rf, train_rmse_pr, train_rmse_lr_lasso, train_rmse_lr_ridge, train_rmse_lr_elastic,\n",
    "              train_rmse_pr_lasso, train_rmse_pr_ridge, train_rmse_pr_elastic]\n",
    "\n",
    "train_mae = [train_mae_lr, train_mae_tree, train_mae_rf, train_mae_pr, train_mae_lr_lasso, train_mae_lr_ridge, train_mae_lr_elastic,\n",
    "             train_mae_pr_lasso, train_mae_pr_ridge, train_mae_pr_elastic]\n",
    "\n",
    "train_mape = [train_mape_lr, train_mape_tree, train_mape_rf, train_mape_pr, train_mape_lr_lasso, train_mape_lr_ridge, train_mape_lr_elastic,\n",
    "              train_mape_pr_lasso, train_mape_pr_ridge, train_mape_pr_elastic]\n",
    "\n",
    "# Create a DataFrame with the data\n",
    "train_data = {\n",
    "    'Algorithm': train_algorithms,\n",
    "    'R²': train_r2,\n",
    "    'MSE': train_mse,\n",
    "    'RMSE': train_rmse,\n",
    "    'MAE': train_mae,\n",
    "    'MAPE': train_mape\n",
    "}\n",
    "\n",
    "df_train = pd.DataFrame(train_data)\n",
    "\n",
    "# Create the table as a figure\n",
    "fig, ax = plt.subplots(figsize=(16, 4))  # Set the size of the figure\n",
    "ax.axis('tight')\n",
    "ax.axis('off')\n",
    "table = ax.table(cellText=df_train.values, colLabels=df_train.columns, cellLoc='center', loc='center')\n",
    "\n",
    "# Adjust the font size of the table\n",
    "table.auto_set_font_size(False)\n",
    "table.set_fontsize(10)\n",
    "table.scale(1.2, 1.2)  # Adjust the size of the cells\n",
    "\n",
    "# Save the image\n",
    "plt.savefig(\"regression_algorithm_metrics_train.png\", bbox_inches='tight', dpi=300)\n",
    "\n",
    "# Show the image\n",
    "plt.show()"
   ]
  },
  {
   "cell_type": "markdown",
   "id": "4589db41",
   "metadata": {},
   "source": [
    "### Validation dataset"
   ]
  },
  {
   "cell_type": "code",
   "execution_count": 47,
   "id": "5a375a30",
   "metadata": {},
   "outputs": [
    {
     "data": {
      "image/png": "[encoded data removed]",
      "text/plain": [
       "<Figure size 1600x400 with 1 Axes>"
      ]
     },
     "metadata": {},
     "output_type": "display_data"
    }
   ],
   "source": [
    "# Validation data for each algorithm\n",
    "val_algorithms = ['Linear Regression', 'Decision Tree Regressor', 'Random Forest Regressor', 'Polynomial Regression', \n",
    "                  'Linear Regression Lasso', 'Linear Regression Ridge', 'Linear Regression Elastic Net',\n",
    "                  'Polynomial Regression Lasso', 'Polynomial Regression Ridge', 'Polynomial Regression Elastic Net']\n",
    "\n",
    "val_r2 = [val_r2_lr, val_r2_tree, val_r2_rf, val_r2_pr, val_r2_lr_lasso, val_r2_lr_ridge, val_r2_lr_elastic,\n",
    "          val_r2_pr_lasso, val_r2_pr_ridge, val_r2_pr_elastic]\n",
    "\n",
    "val_mse = [val_mse_lr, val_mse_tree, val_mse_rf, val_mse_pr, val_mse_lr_lasso, val_mse_lr_ridge, val_mse_lr_elastic,\n",
    "           val_mse_pr_lasso, val_mse_pr_ridge, val_mse_pr_elastic]\n",
    "\n",
    "val_rmse = [val_rmse_lr, val_rmse_tree, val_rmse_rf, val_rmse_pr, val_rmse_lr_lasso, val_rmse_lr_ridge, val_rmse_lr_elastic,\n",
    "            val_rmse_pr_lasso, val_rmse_pr_ridge, val_rmse_pr_elastic]\n",
    "\n",
    "val_mae = [val_mae_lr, val_mae_tree, val_mae_rf, val_mae_pr, val_mae_lr_lasso, val_mae_lr_ridge, val_mae_lr_elastic,\n",
    "           val_mae_pr_lasso, val_mae_pr_ridge, val_mae_pr_elastic]\n",
    "\n",
    "val_mape = [val_mape_lr, val_mape_tree, val_mape_rf, val_mape_pr, val_mape_lr_lasso, val_mape_lr_ridge, val_mape_lr_elastic,\n",
    "            val_mape_pr_lasso, val_mape_pr_ridge, val_mape_pr_elastic]\n",
    "\n",
    "# Create a DataFrame with the data\n",
    "val_data = {\n",
    "    'Algorithm': val_algorithms,\n",
    "    'R²': val_r2,\n",
    "    'MSE': val_mse,\n",
    "    'RMSE': val_rmse,\n",
    "    'MAE': val_mae,\n",
    "    'MAPE': val_mape\n",
    "}\n",
    "\n",
    "df_val = pd.DataFrame(val_data)\n",
    "\n",
    "# Create the table as a figure\n",
    "fig, ax = plt.subplots(figsize=(16, 4))  # Set the size of the figure\n",
    "ax.axis('tight')\n",
    "ax.axis('off')\n",
    "table = ax.table(cellText=df_val.values, colLabels=df_val.columns, cellLoc='center', loc='center')\n",
    "\n",
    "# Adjust the font size of the table\n",
    "table.auto_set_font_size(False)\n",
    "table.set_fontsize(10)\n",
    "table.scale(1.2, 1.2)  # Adjust the size of the cells\n",
    "\n",
    "# Save the image\n",
    "plt.savefig(\"regression_algorithm_metrics_val.png\", bbox_inches='tight', dpi=300)\n",
    "\n",
    "# Show the image\n",
    "plt.show()"
   ]
  },
  {
   "cell_type": "markdown",
   "id": "93ac12cf",
   "metadata": {},
   "source": [
    "### Test dataset"
   ]
  },
  {
   "cell_type": "code",
   "execution_count": 48,
   "id": "aa07c109",
   "metadata": {},
   "outputs": [
    {
     "data": {
      "image/png": "[encoded data removed]",
      "text/plain": [
       "<Figure size 1600x400 with 1 Axes>"
      ]
     },
     "metadata": {},
     "output_type": "display_data"
    }
   ],
   "source": [
    "# Test data for each algorithm\n",
    "test_algorithms = ['Linear Regression', 'Decision Tree Regressor', 'Random Forest Regressor', 'Polynomial Regression', \n",
    "                   'Linear Regression Lasso', 'Linear Regression Ridge', 'Linear Regression Elastic Net',\n",
    "                   'Polynomial Regression Lasso', 'Polynomial Regression Ridge', 'Polynomial Regression Elastic Net']\n",
    "\n",
    "test_r2 = [test_r2_lr, test_r2_tree, test_r2_rf, test_r2_pr, test_r2_lr_lasso, test_r2_lr_ridge, test_r2_lr_elastic,\n",
    "            test_r2_pr_lasso, test_r2_pr_ridge, test_r2_pr_elastic]\n",
    "\n",
    "test_mse = [test_mse_lr, test_mse_tree, test_mse_rf, test_mse_pr, test_mse_lr_lasso, test_mse_lr_ridge, test_mse_lr_elastic,\n",
    "             test_mse_pr_lasso, test_mse_pr_ridge, test_mse_pr_elastic]\n",
    "\n",
    "test_rmse = [test_rmse_lr, test_rmse_tree, test_rmse_rf, test_rmse_pr, test_rmse_lr_lasso, test_rmse_lr_ridge, test_rmse_lr_elastic,\n",
    "              test_rmse_pr_lasso, test_rmse_pr_ridge, test_rmse_pr_elastic]\n",
    "\n",
    "test_mae = [test_mae_lr, test_mae_tree, test_mae_rf, test_mae_pr, test_mae_lr_lasso, test_mae_lr_ridge, test_mae_lr_elastic,\n",
    "             test_mae_pr_lasso, test_mae_pr_ridge, test_mae_pr_elastic]\n",
    "\n",
    "test_mape = [test_mape_lr, test_mape_tree, test_mape_rf, test_mape_pr, test_mape_lr_lasso, test_mape_lr_ridge, test_mape_lr_elastic,\n",
    "              test_mape_pr_lasso, test_mape_pr_ridge, test_mape_pr_elastic]\n",
    "\n",
    "# Create a DataFrame with the data\n",
    "test_data = {\n",
    "    'Algorithm': test_algorithms,\n",
    "    'R²': test_r2,\n",
    "    'MSE': test_mse,\n",
    "    'RMSE': test_rmse,\n",
    "    'MAE': test_mae,\n",
    "    'MAPE': test_mape\n",
    "}\n",
    "\n",
    "df_test = pd.DataFrame(test_data)\n",
    "\n",
    "# Create the table as a figure\n",
    "fig, ax = plt.subplots(figsize=(16, 4))  # Set the size of the figure\n",
    "ax.axis('tight')\n",
    "ax.axis('off')\n",
    "table = ax.table(cellText=df_test.values, colLabels=df_test.columns, cellLoc='center', loc='center')\n",
    "\n",
    "# Adjust the font size of the table\n",
    "table.auto_set_font_size(False)\n",
    "table.set_fontsize(10)\n",
    "table.scale(1.2, 1.2)  # Adjust the size of the cells\n",
    "\n",
    "# Save the image\n",
    "plt.savefig(\"regression_algorithm_metrics_test.png\", bbox_inches='tight', dpi=300)\n",
    "\n",
    "# Show the image\n",
    "plt.show()"
   ]
  },
  {
   "cell_type": "code",
   "execution_count": null,
   "id": "fe684cc7",
   "metadata": {},
   "outputs": [],
   "source": []
  }
 ],
 "metadata": {
  "kernelspec": {
   "display_name": "Python 3 (ipykernel)",
   "language": "python",
   "name": "python3"
  },
  "language_info": {
   "codemirror_mode": {
    "name": "ipython",
    "version": 3
   },
   "file_extension": ".py",
   "mimetype": "text/x-python",
   "name": "python",
   "nbconvert_exporter": "python",
   "pygments_lexer": "ipython3",
   "version": "3.9.13"
  }
 },
 "nbformat": 4,
 "nbformat_minor": 5
}
